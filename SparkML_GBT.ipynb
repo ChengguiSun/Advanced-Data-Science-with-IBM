{
  "nbformat": 4,
  "nbformat_minor": 0,
  "metadata": {
    "colab": {
      "name": "SparkML_GBT.ipynb",
      "provenance": [],
      "collapsed_sections": [],
      "authorship_tag": "ABX9TyOiOZs9Lkq3wN+hIrQ7j8g7"
    },
    "kernelspec": {
      "name": "python3",
      "display_name": "Python 3"
    }
  },
  "cells": [
    {
      "cell_type": "markdown",
      "metadata": {
        "id": "wxF1Z4QadpsI",
        "colab_type": "text"
      },
      "source": [
        "# Install Spark"
      ]
    },
    {
      "cell_type": "code",
      "metadata": {
        "id": "irTGeJvU4pI9",
        "colab_type": "code",
        "colab": {}
      },
      "source": [
        "!apt-get install openjdk-8-jdk-headless -qq > /dev/null\n",
        "!wget -q https://downloads.apache.org/spark/spark-3.0.0/spark-3.0.0-bin-hadoop2.7.tgz\n",
        "!tar xf spark-3.0.0-bin-hadoop2.7.tgz\n",
        "!pip install -q findspark"
      ],
      "execution_count": 1,
      "outputs": []
    },
    {
      "cell_type": "code",
      "metadata": {
        "id": "zf05GSbAkHcO",
        "colab_type": "code",
        "colab": {
          "base_uri": "https://localhost:8080/",
          "height": 52
        },
        "outputId": "67ceb54d-792d-4e7e-cb7b-09dc9435fbe9"
      },
      "source": [
        "!pip install pyspark==2.4.5"
      ],
      "execution_count": 2,
      "outputs": [
        {
          "output_type": "stream",
          "text": [
            "Requirement already satisfied: pyspark==2.4.5 in /usr/local/lib/python3.6/dist-packages (2.4.5)\n",
            "Requirement already satisfied: py4j==0.10.7 in /usr/local/lib/python3.6/dist-packages (from pyspark==2.4.5) (0.10.7)\n"
          ],
          "name": "stdout"
        }
      ]
    },
    {
      "cell_type": "code",
      "metadata": {
        "id": "sH8c_Y9njMJ5",
        "colab_type": "code",
        "colab": {
          "base_uri": "https://localhost:8080/",
          "height": 35
        },
        "outputId": "11954929-0db3-405a-e33b-93d0b36a3c95"
      },
      "source": [
        "!ls"
      ],
      "execution_count": 3,
      "outputs": [
        {
          "output_type": "stream",
          "text": [
            "sample_data  spark-3.0.0-bin-hadoop2.7\tspark-3.0.0-bin-hadoop2.7.tgz\n"
          ],
          "name": "stdout"
        }
      ]
    },
    {
      "cell_type": "code",
      "metadata": {
        "id": "hWGiaP0Sjs0Z",
        "colab_type": "code",
        "colab": {}
      },
      "source": [
        "import os\n",
        "os.environ[\"JAVA_HOME\"] = \"/usr/lib/jvm/java-8-openjdk-amd64\"\n",
        "os.environ[\"SPARK_HOME\"] = \"/content/spark-3.0.0-bin-hadoop2.7\""
      ],
      "execution_count": 3,
      "outputs": []
    },
    {
      "cell_type": "code",
      "metadata": {
        "id": "I86xC0GgkG_u",
        "colab_type": "code",
        "colab": {}
      },
      "source": [
        "import findspark\n",
        "findspark.init()\n",
        "from pyspark.sql import SparkSession"
      ],
      "execution_count": 4,
      "outputs": []
    },
    {
      "cell_type": "code",
      "metadata": {
        "id": "-Onm9GcD5Zda",
        "colab_type": "code",
        "colab": {}
      },
      "source": [
        "try:\n",
        "    from pyspark import SparkContext, SparkConf\n",
        "except ImportError as e:\n",
        "    printmd('<<<<<!!!!! Please restart your kernel after installing Apache Spark !!!!!>>>>>')"
      ],
      "execution_count": 5,
      "outputs": []
    },
    {
      "cell_type": "code",
      "metadata": {
        "id": "Vg1sgY0d3Ygw",
        "colab_type": "code",
        "colab": {}
      },
      "source": [
        "sc = SparkContext.getOrCreate(SparkConf().setMaster(\"local[*]\"))\n",
        "\n",
        "spark = SparkSession \\\n",
        "    .builder \\\n",
        "    .getOrCreate()"
      ],
      "execution_count": 6,
      "outputs": []
    },
    {
      "cell_type": "markdown",
      "metadata": {
        "id": "U9OwwEXHiMmq",
        "colab_type": "text"
      },
      "source": [
        "## Exercise"
      ]
    },
    {
      "cell_type": "code",
      "metadata": {
        "id": "RdOkAdcW19u9",
        "colab_type": "code",
        "colab": {
          "base_uri": "https://localhost:8080/",
          "height": 364
        },
        "outputId": "ee7b63e9-77a4-40e1-8819-c85c89106757"
      },
      "source": [
        "# delete files from previous runs\n",
        "!rm -f hmp.parquet*\n",
        "\n",
        "# download the file containing the data in PARQUET format\n",
        "!wget https://github.com/IBM/coursera/raw/master/hmp.parquet\n",
        "    \n",
        "# create a dataframe out of it\n",
        "df = spark.read.parquet('hmp.parquet')\n",
        "\n",
        "# register a corresponding query table\n",
        "df.createOrReplaceTempView('df')"
      ],
      "execution_count": 7,
      "outputs": [
        {
          "output_type": "stream",
          "text": [
            "--2020-07-22 05:03:11--  https://github.com/IBM/coursera/raw/master/hmp.parquet\n",
            "Resolving github.com (github.com)... 140.82.112.4\n",
            "Connecting to github.com (github.com)|140.82.112.4|:443... connected.\n",
            "HTTP request sent, awaiting response... 301 Moved Permanently\n",
            "Location: https://github.com/IBM/skillsnetwork/raw/master/hmp.parquet [following]\n",
            "--2020-07-22 05:03:11--  https://github.com/IBM/skillsnetwork/raw/master/hmp.parquet\n",
            "Reusing existing connection to github.com:443.\n",
            "HTTP request sent, awaiting response... 302 Found\n",
            "Location: https://raw.githubusercontent.com/IBM/skillsnetwork/master/hmp.parquet [following]\n",
            "--2020-07-22 05:03:11--  https://raw.githubusercontent.com/IBM/skillsnetwork/master/hmp.parquet\n",
            "Resolving raw.githubusercontent.com (raw.githubusercontent.com)... 151.101.0.133, 151.101.64.133, 151.101.128.133, ...\n",
            "Connecting to raw.githubusercontent.com (raw.githubusercontent.com)|151.101.0.133|:443... connected.\n",
            "HTTP request sent, awaiting response... 200 OK\n",
            "Length: 932997 (911K) [application/octet-stream]\n",
            "Saving to: ‘hmp.parquet’\n",
            "\n",
            "hmp.parquet         100%[===================>] 911.13K  --.-KB/s    in 0.08s   \n",
            "\n",
            "2020-07-22 05:03:11 (11.7 MB/s) - ‘hmp.parquet’ saved [932997/932997]\n",
            "\n"
          ],
          "name": "stdout"
        }
      ]
    },
    {
      "cell_type": "code",
      "metadata": {
        "id": "G6Nd1mmT3Afh",
        "colab_type": "code",
        "colab": {
          "base_uri": "https://localhost:8080/",
          "height": 468
        },
        "outputId": "bb401e7f-c418-48d8-a9f0-ef65407df995"
      },
      "source": [
        "df.show()"
      ],
      "execution_count": 8,
      "outputs": [
        {
          "output_type": "stream",
          "text": [
            "+---+---+---+--------------------+-----------+\n",
            "|  x|  y|  z|              source|      class|\n",
            "+---+---+---+--------------------+-----------+\n",
            "| 22| 49| 35|Accelerometer-201...|Brush_teeth|\n",
            "| 22| 49| 35|Accelerometer-201...|Brush_teeth|\n",
            "| 22| 52| 35|Accelerometer-201...|Brush_teeth|\n",
            "| 22| 52| 35|Accelerometer-201...|Brush_teeth|\n",
            "| 21| 52| 34|Accelerometer-201...|Brush_teeth|\n",
            "| 22| 51| 34|Accelerometer-201...|Brush_teeth|\n",
            "| 20| 50| 35|Accelerometer-201...|Brush_teeth|\n",
            "| 22| 52| 34|Accelerometer-201...|Brush_teeth|\n",
            "| 22| 50| 34|Accelerometer-201...|Brush_teeth|\n",
            "| 22| 51| 35|Accelerometer-201...|Brush_teeth|\n",
            "| 21| 51| 33|Accelerometer-201...|Brush_teeth|\n",
            "| 20| 50| 34|Accelerometer-201...|Brush_teeth|\n",
            "| 21| 49| 33|Accelerometer-201...|Brush_teeth|\n",
            "| 21| 49| 33|Accelerometer-201...|Brush_teeth|\n",
            "| 20| 51| 35|Accelerometer-201...|Brush_teeth|\n",
            "| 18| 49| 34|Accelerometer-201...|Brush_teeth|\n",
            "| 19| 48| 34|Accelerometer-201...|Brush_teeth|\n",
            "| 16| 53| 34|Accelerometer-201...|Brush_teeth|\n",
            "| 18| 52| 35|Accelerometer-201...|Brush_teeth|\n",
            "| 18| 51| 32|Accelerometer-201...|Brush_teeth|\n",
            "+---+---+---+--------------------+-----------+\n",
            "only showing top 20 rows\n",
            "\n"
          ],
          "name": "stdout"
        }
      ]
    },
    {
      "cell_type": "code",
      "metadata": {
        "id": "cDAKLbTq19ya",
        "colab_type": "code",
        "colab": {}
      },
      "source": [
        "df_two_class = spark.sql(\"select * from df where class in ('Use_telephone','Standup_chair')\")"
      ],
      "execution_count": 9,
      "outputs": []
    },
    {
      "cell_type": "code",
      "metadata": {
        "id": "Gxr_Ilde3I7U",
        "colab_type": "code",
        "colab": {
          "base_uri": "https://localhost:8080/",
          "height": 468
        },
        "outputId": "d439e8e7-6c3f-4e26-9dca-7110288b5bc1"
      },
      "source": [
        "df_two_class.show()"
      ],
      "execution_count": 10,
      "outputs": [
        {
          "output_type": "stream",
          "text": [
            "+---+---+---+--------------------+-------------+\n",
            "|  x|  y|  z|              source|        class|\n",
            "+---+---+---+--------------------+-------------+\n",
            "| 30| 40| 51|Accelerometer-201...|Standup_chair|\n",
            "| 30| 41| 51|Accelerometer-201...|Standup_chair|\n",
            "| 31| 41| 51|Accelerometer-201...|Standup_chair|\n",
            "| 29| 42| 51|Accelerometer-201...|Standup_chair|\n",
            "| 30| 43| 52|Accelerometer-201...|Standup_chair|\n",
            "| 30| 40| 52|Accelerometer-201...|Standup_chair|\n",
            "| 31| 41| 52|Accelerometer-201...|Standup_chair|\n",
            "| 32| 39| 52|Accelerometer-201...|Standup_chair|\n",
            "| 29| 38| 52|Accelerometer-201...|Standup_chair|\n",
            "| 29| 38| 50|Accelerometer-201...|Standup_chair|\n",
            "| 28| 40| 50|Accelerometer-201...|Standup_chair|\n",
            "| 31| 38| 51|Accelerometer-201...|Standup_chair|\n",
            "| 30| 39| 51|Accelerometer-201...|Standup_chair|\n",
            "| 30| 39| 50|Accelerometer-201...|Standup_chair|\n",
            "| 31| 39| 51|Accelerometer-201...|Standup_chair|\n",
            "| 30| 38| 52|Accelerometer-201...|Standup_chair|\n",
            "| 29| 39| 53|Accelerometer-201...|Standup_chair|\n",
            "| 31| 38| 52|Accelerometer-201...|Standup_chair|\n",
            "| 29| 39| 53|Accelerometer-201...|Standup_chair|\n",
            "| 31| 37| 53|Accelerometer-201...|Standup_chair|\n",
            "+---+---+---+--------------------+-------------+\n",
            "only showing top 20 rows\n",
            "\n"
          ],
          "name": "stdout"
        }
      ]
    },
    {
      "cell_type": "code",
      "metadata": {
        "id": "lRFJl4fk192A",
        "colab_type": "code",
        "colab": {}
      },
      "source": [
        "splits = df_two_class.randomSplit([0.8, 0.2])\n",
        "df_train = splits[0]\n",
        "df_test = splits[1]"
      ],
      "execution_count": 11,
      "outputs": []
    },
    {
      "cell_type": "code",
      "metadata": {
        "id": "R-HFlHhW195h",
        "colab_type": "code",
        "colab": {}
      },
      "source": [
        "from pyspark.ml.feature import StringIndexer, OneHotEncoder\n",
        "from pyspark.ml.linalg import Vectors\n",
        "from pyspark.ml.feature import VectorAssembler\n",
        "from pyspark.ml.feature import MinMaxScaler\n",
        "\n",
        "\n",
        "indexer = StringIndexer(inputCol=\"class\", outputCol=\"label\")\n",
        "\n",
        "vectorAssembler = VectorAssembler(inputCols=[\"x\",\"y\",\"z\"],\n",
        "                                  outputCol=\"features\")\n",
        "\n",
        "normalizer = MinMaxScaler(inputCol=\"features\", outputCol=\"features_norm\")"
      ],
      "execution_count": 12,
      "outputs": []
    },
    {
      "cell_type": "code",
      "metadata": {
        "id": "itt7Jotm198v",
        "colab_type": "code",
        "colab": {}
      },
      "source": [
        "from pyspark.ml.classification import GBTClassifier\n",
        "\n",
        "gbt = GBTClassifier(labelCol=\"label\", featuresCol=\"features_norm\", maxIter=8)"
      ],
      "execution_count": 13,
      "outputs": []
    },
    {
      "cell_type": "code",
      "metadata": {
        "id": "EvFdw03819_3",
        "colab_type": "code",
        "colab": {}
      },
      "source": [
        "from pyspark.ml import Pipeline\n",
        "pipeline = Pipeline(stages=[indexer, vectorAssembler, normalizer, gbt])"
      ],
      "execution_count": 14,
      "outputs": []
    },
    {
      "cell_type": "code",
      "metadata": {
        "id": "bMUworCq1-DB",
        "colab_type": "code",
        "colab": {}
      },
      "source": [
        "model = pipeline.fit(df_train)"
      ],
      "execution_count": 15,
      "outputs": []
    },
    {
      "cell_type": "code",
      "metadata": {
        "id": "mUPFcgCx1-GN",
        "colab_type": "code",
        "colab": {}
      },
      "source": [
        "prediction = model.transform(df_train)"
      ],
      "execution_count": 16,
      "outputs": []
    },
    {
      "cell_type": "code",
      "metadata": {
        "id": "Q80gblXD4KK4",
        "colab_type": "code",
        "colab": {
          "base_uri": "https://localhost:8080/",
          "height": 468
        },
        "outputId": "7209b6d0-3ee5-4b77-c804-508fa1a68783"
      },
      "source": [
        "prediction.show()"
      ],
      "execution_count": 17,
      "outputs": [
        {
          "output_type": "stream",
          "text": [
            "+---+---+---+--------------------+-------------+-----+---------------+--------------------+--------------------+--------------------+----------+\n",
            "|  x|  y|  z|              source|        class|label|       features|       features_norm|       rawPrediction|         probability|prediction|\n",
            "+---+---+---+--------------------+-------------+-----+---------------+--------------------+--------------------+--------------------+----------+\n",
            "|  0| 30| 24|Accelerometer-201...|Standup_chair|  0.0|[0.0,30.0,24.0]|[0.0,0.3653846153...|[1.26132470993969...|[0.92571445365143...|       0.0|\n",
            "|  0| 31| 17|Accelerometer-201...|Standup_chair|  0.0|[0.0,31.0,17.0]|[0.0,0.3846153846...|[1.26132470993969...|[0.92571445365143...|       0.0|\n",
            "|  0| 31| 30|Accelerometer-201...|Standup_chair|  0.0|[0.0,31.0,30.0]|[0.0,0.3846153846...|[1.26132470993969...|[0.92571445365143...|       0.0|\n",
            "|  0| 31| 32|Accelerometer-201...|Standup_chair|  0.0|[0.0,31.0,32.0]|[0.0,0.3846153846...|[1.26132470993969...|[0.92571445365143...|       0.0|\n",
            "|  0| 31| 32|Accelerometer-201...|Standup_chair|  0.0|[0.0,31.0,32.0]|[0.0,0.3846153846...|[1.26132470993969...|[0.92571445365143...|       0.0|\n",
            "|  0| 32| 33|Accelerometer-201...|Standup_chair|  0.0|[0.0,32.0,33.0]|[0.0,0.4038461538...|[1.26132470993969...|[0.92571445365143...|       0.0|\n",
            "|  0| 35| 28|Accelerometer-201...|Standup_chair|  0.0|[0.0,35.0,28.0]|[0.0,0.4615384615...|[1.26132470993969...|[0.92571445365143...|       0.0|\n",
            "|  0| 35| 28|Accelerometer-201...|Standup_chair|  0.0|[0.0,35.0,28.0]|[0.0,0.4615384615...|[1.26132470993969...|[0.92571445365143...|       0.0|\n",
            "|  0| 37| 26|Accelerometer-201...|Standup_chair|  0.0|[0.0,37.0,26.0]|[0.0,0.5,0.288461...|[1.26132470993969...|[0.92571445365143...|       0.0|\n",
            "|  0| 37| 35|Accelerometer-201...|Standup_chair|  0.0|[0.0,37.0,35.0]|[0.0,0.5,0.461538...|[1.26132470993969...|[0.92571445365143...|       0.0|\n",
            "|  0| 38| 37|Accelerometer-201...|Standup_chair|  0.0|[0.0,38.0,37.0]|[0.0,0.5192307692...|[1.26132470993969...|[0.92571445365143...|       0.0|\n",
            "|  0| 40| 34|Accelerometer-201...|Standup_chair|  0.0|[0.0,40.0,34.0]|[0.0,0.5576923076...|[1.26132470993969...|[0.92571445365143...|       0.0|\n",
            "|  0| 42| 34|Accelerometer-201...|Standup_chair|  0.0|[0.0,42.0,34.0]|[0.0,0.5961538461...|[1.26132470993969...|[0.92571445365143...|       0.0|\n",
            "|  0| 43| 34|Accelerometer-201...|Standup_chair|  0.0|[0.0,43.0,34.0]|[0.0,0.6153846153...|[1.26132470993969...|[0.92571445365143...|       0.0|\n",
            "|  0| 43| 34|Accelerometer-201...|Standup_chair|  0.0|[0.0,43.0,34.0]|[0.0,0.6153846153...|[1.26132470993969...|[0.92571445365143...|       0.0|\n",
            "|  0| 56| 30|Accelerometer-201...|Standup_chair|  0.0|[0.0,56.0,30.0]|[0.0,0.8653846153...|[1.26132470993969...|[0.92571445365143...|       0.0|\n",
            "|  1| 11| 43|Accelerometer-201...|Standup_chair|  0.0|[1.0,11.0,43.0]|[0.01666666666666...|[1.21110456285479...|[0.91850525795120...|       0.0|\n",
            "|  1| 25| 29|Accelerometer-201...|Standup_chair|  0.0|[1.0,25.0,29.0]|[0.01666666666666...|[1.26132470993969...|[0.92571445365143...|       0.0|\n",
            "|  1| 27| 20|Accelerometer-201...|Standup_chair|  0.0|[1.0,27.0,20.0]|[0.01666666666666...|[1.26132470993969...|[0.92571445365143...|       0.0|\n",
            "|  1| 29| 23|Accelerometer-201...|Standup_chair|  0.0|[1.0,29.0,23.0]|[0.01666666666666...|[1.26132470993969...|[0.92571445365143...|       0.0|\n",
            "+---+---+---+--------------------+-------------+-----+---------------+--------------------+--------------------+--------------------+----------+\n",
            "only showing top 20 rows\n",
            "\n"
          ],
          "name": "stdout"
        }
      ]
    },
    {
      "cell_type": "code",
      "metadata": {
        "id": "7zlFO-u81-Jy",
        "colab_type": "code",
        "colab": {
          "base_uri": "https://localhost:8080/",
          "height": 35
        },
        "outputId": "9672bb93-01fa-4715-8023-f399a81fb272"
      },
      "source": [
        "from pyspark.ml.evaluation import MulticlassClassificationEvaluator\n",
        "binEval = MulticlassClassificationEvaluator().setMetricName(\"accuracy\") .setPredictionCol(\"prediction\").setLabelCol(\"label\")\n",
        "    \n",
        "binEval.evaluate(prediction) "
      ],
      "execution_count": 18,
      "outputs": [
        {
          "output_type": "execute_result",
          "data": {
            "text/plain": [
              "0.9104927821724276"
            ]
          },
          "metadata": {
            "tags": []
          },
          "execution_count": 18
        }
      ]
    },
    {
      "cell_type": "code",
      "metadata": {
        "id": "TM4ItYh_2Lk3",
        "colab_type": "code",
        "colab": {}
      },
      "source": [
        "prediction = model.transform(df_test)"
      ],
      "execution_count": 19,
      "outputs": []
    },
    {
      "cell_type": "code",
      "metadata": {
        "id": "WgMJwXAZ2Lvl",
        "colab_type": "code",
        "colab": {
          "base_uri": "https://localhost:8080/",
          "height": 35
        },
        "outputId": "e7800519-289c-45cc-8caf-b4d430077e1d"
      },
      "source": [
        "binEval.evaluate(prediction) "
      ],
      "execution_count": 20,
      "outputs": [
        {
          "output_type": "execute_result",
          "data": {
            "text/plain": [
              "0.9039617318778363"
            ]
          },
          "metadata": {
            "tags": []
          },
          "execution_count": 20
        }
      ]
    }
  ]
}
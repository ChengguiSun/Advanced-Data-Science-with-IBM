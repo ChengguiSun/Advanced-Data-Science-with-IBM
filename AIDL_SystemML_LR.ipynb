{
  "nbformat": 4,
  "nbformat_minor": 0,
  "metadata": {
    "kernelspec": {
      "name": "python3",
      "display_name": "Python 3"
    },
    "colab": {
      "name": "AIDL_SystemML_LR.ipynb",
      "provenance": [],
      "collapsed_sections": []
    }
  },
  "cells": [
    {
      "cell_type": "markdown",
      "metadata": {
        "id": "BdWVjPGXN34J",
        "colab_type": "text"
      },
      "source": [
        "This notebook shows:\n",
        "- Install SystemML Python package and jar file\n",
        "  - pip\n",
        "  - SystemML 'Hello World'\n",
        "- Example 1: Matrix Multiplication\n",
        "- Load diabetes dataset from scikit-learn\n",
        "- Example 2: Implement three different algorithms to train linear regression model\n",
        "  - Algorithm 1: Linear Regression - Direct Solve (no regularization)\n",
        "  - Algorithm 2: Linear Regression - Batch Gradient Descent (no regularization)\n",
        "  - Algorithm 3: Linear Regression - Conjugate Gradient (no regularization)\n",
        "- Example 3: Invoke existing SystemML algorithm script LinearRegDS.dml using MLContext API\n",
        "- Example 4: Invoke existing SystemML algorithm using scikit-learn/SparkML pipeline like API\n",
        "- Example 5: Invoking a Keras model with SystemML"
      ]
    },
    {
      "cell_type": "markdown",
      "metadata": {
        "id": "F86n3a9WN34N",
        "colab_type": "text"
      },
      "source": [
        "# Install SystemML Python package and jar file"
      ]
    },
    {
      "cell_type": "code",
      "metadata": {
        "id": "4z7TZYxzN34R",
        "colab_type": "code",
        "colab": {}
      },
      "source": [
        "#!pip install --upgrade systemml\n",
        "!pip install --upgrade https://github.com/niketanpansare/future_of_data/raw/master/systemml-1.1.0-SNAPSHOT-python.tar.gz\n",
        "!ln -s -f ~/.local/lib/python2.7/site-packages/systemml/systemml-java/*.jar ~/data/libs/"
      ],
      "execution_count": null,
      "outputs": []
    },
    {
      "cell_type": "code",
      "metadata": {
        "id": "XHN_D6MRN34a",
        "colab_type": "code",
        "colab": {}
      },
      "source": [
        "!pip show systemml"
      ],
      "execution_count": null,
      "outputs": []
    },
    {
      "cell_type": "code",
      "metadata": {
        "id": "59D1t1dXPpeV",
        "colab_type": "code",
        "colab": {}
      },
      "source": [
        "!apt-get install openjdk-8-jdk-headless -qq > /dev/null\n",
        "!wget -q https://downloads.apache.org/spark/spark-3.0.0/spark-3.0.0-bin-hadoop2.7.tgz\n",
        "!tar xf spark-3.0.0-bin-hadoop2.7.tgz\n",
        "!pip install -q findspark"
      ],
      "execution_count": null,
      "outputs": []
    },
    {
      "cell_type": "code",
      "metadata": {
        "id": "gWx4K7pRP7BT",
        "colab_type": "code",
        "colab": {}
      },
      "source": [
        "!pip install pyspark==2.4.5"
      ],
      "execution_count": null,
      "outputs": []
    },
    {
      "cell_type": "code",
      "metadata": {
        "id": "o9IHvMxqPp3A",
        "colab_type": "code",
        "colab": {}
      },
      "source": [
        "import os\n",
        "os.environ[\"JAVA_HOME\"] = \"/usr/lib/jvm/java-8-openjdk-amd64\"\n",
        "os.environ[\"SPARK_HOME\"] = \"/content/spark-3.0.0-bin-hadoop2.7\""
      ],
      "execution_count": null,
      "outputs": []
    },
    {
      "cell_type": "code",
      "metadata": {
        "id": "pdU0uBe_P-bj",
        "colab_type": "code",
        "colab": {}
      },
      "source": [
        "import findspark\n",
        "findspark.init()\n",
        "from pyspark.sql import SparkSession"
      ],
      "execution_count": null,
      "outputs": []
    },
    {
      "cell_type": "code",
      "metadata": {
        "id": "JT9ei67pQACJ",
        "colab_type": "code",
        "colab": {}
      },
      "source": [
        "try:\n",
        "    from pyspark import SparkContext, SparkConf\n",
        "except ImportError as e:\n",
        "    printmd('<<<<<!!!!! Please restart your kernel after installing Apache Spark !!!!!>>>>>')"
      ],
      "execution_count": null,
      "outputs": []
    },
    {
      "cell_type": "code",
      "metadata": {
        "id": "4BdwZ_XeQDO4",
        "colab_type": "code",
        "colab": {}
      },
      "source": [
        "sc = SparkContext.getOrCreate(SparkConf().setMaster(\"local[*]\"))\n",
        "\n",
        "spark = SparkSession \\\n",
        "    .builder \\\n",
        "    .getOrCreate()"
      ],
      "execution_count": null,
      "outputs": []
    },
    {
      "cell_type": "markdown",
      "metadata": {
        "id": "o3UQa2-UN34f",
        "colab_type": "text"
      },
      "source": [
        "### Import SystemML API "
      ]
    },
    {
      "cell_type": "code",
      "metadata": {
        "id": "8Bk4jfwWN34g",
        "colab_type": "code",
        "colab": {}
      },
      "source": [
        "sc.version"
      ],
      "execution_count": null,
      "outputs": []
    },
    {
      "cell_type": "code",
      "metadata": {
        "scrolled": false,
        "id": "hl4RF51AN34m",
        "colab_type": "code",
        "colab": {}
      },
      "source": [
        "from systemml import MLContext, dml\n",
        "# Create a MLContext object\n",
        "ml = MLContext(sc)\n",
        "# And print the information of SystemML version\n",
        "print(ml.info())"
      ],
      "execution_count": null,
      "outputs": []
    },
    {
      "cell_type": "code",
      "metadata": {
        "id": "bdAUDlHYN34q",
        "colab_type": "code",
        "colab": {}
      },
      "source": [
        "# Create a DML script for a Hello World' example and execute it using MLContext\n",
        "script = dml(\"\"\" \n",
        "print('Hello World'); \n",
        "\"\"\")\n",
        "ml.execute(script)"
      ],
      "execution_count": null,
      "outputs": []
    },
    {
      "cell_type": "code",
      "metadata": {
        "id": "1WuNM2I7N34t",
        "colab_type": "code",
        "colab": {}
      },
      "source": [
        "# Let's modify the above script to get the Hello World string\n",
        "script = dml(\"\"\" \n",
        "s = 'Hello World' \n",
        "\"\"\").output(\"s\")\n",
        "\n",
        "hello_world_str = ml.execute(script).get(\"s\")\n",
        "\n",
        "print(hello_world_str)"
      ],
      "execution_count": null,
      "outputs": []
    },
    {
      "cell_type": "markdown",
      "metadata": {
        "id": "njzDXsxwN345",
        "colab_type": "text"
      },
      "source": [
        "### Import numpy, sklearn, and define some helper functions"
      ]
    },
    {
      "cell_type": "code",
      "metadata": {
        "id": "VkmCMgiPN347",
        "colab_type": "code",
        "colab": {}
      },
      "source": [
        "import sys, os\n",
        "import matplotlib.pyplot as plt\n",
        "import numpy as np\n",
        "from sklearn import datasets\n",
        "plt.switch_backend('agg')"
      ],
      "execution_count": null,
      "outputs": []
    },
    {
      "cell_type": "markdown",
      "metadata": {
        "id": "kHTg3w6kN35A",
        "colab_type": "text"
      },
      "source": [
        "# Example 1: Matrix Multiplication"
      ]
    },
    {
      "cell_type": "markdown",
      "metadata": {
        "id": "uEnc5mvYN35C",
        "colab_type": "text"
      },
      "source": [
        "### SystemML script to generate a random matrix, perform matrix multiplication, and compute the sum of the output"
      ]
    },
    {
      "cell_type": "code",
      "metadata": {
        "id": "EWe34FXWN35D",
        "colab_type": "code",
        "colab": {}
      },
      "source": [
        "script = \"\"\"\n",
        "    X = rand(rows=$nr, cols=1000, sparsity=0.5)\n",
        "    A = t(X) %*% X\n",
        "    s = sum(A)\n",
        "\"\"\"\n",
        "prog = dml(script).input('$nr', 1e6).output('s')\n",
        "s = ml.execute(prog).get('s')\n",
        "print (s)"
      ],
      "execution_count": null,
      "outputs": []
    },
    {
      "cell_type": "markdown",
      "metadata": {
        "id": "DKvazsb_N35I",
        "colab_type": "text"
      },
      "source": [
        "# Load diabetes dataset from scikit-learn "
      ]
    },
    {
      "cell_type": "code",
      "metadata": {
        "id": "nED3TR9GN35K",
        "colab_type": "code",
        "colab": {}
      },
      "source": [
        "%matplotlib inline"
      ],
      "execution_count": null,
      "outputs": []
    },
    {
      "cell_type": "code",
      "metadata": {
        "id": "RNV-FAk2N35O",
        "colab_type": "code",
        "colab": {}
      },
      "source": [
        "diabetes = datasets.load_diabetes()\n",
        "diabetes_X = diabetes.data[:, np.newaxis, 2]\n",
        "diabetes_X_train = diabetes_X[:-20]\n",
        "diabetes_X_test = diabetes_X[-20:]\n",
        "diabetes_y_train = np.matrix(diabetes.target[:-20]).T\n",
        "diabetes_y_test = np.matrix(diabetes.target[-20:]).T"
      ],
      "execution_count": null,
      "outputs": []
    },
    {
      "cell_type": "code",
      "metadata": {
        "id": "QIB0A2hFbPFL",
        "colab_type": "code",
        "colab": {}
      },
      "source": [
        "diabetes_y_train_array = np.array(diabetes_y_train)\n",
        "diabetes_y_train_array"
      ],
      "execution_count": null,
      "outputs": []
    },
    {
      "cell_type": "code",
      "metadata": {
        "id": "VBASlCAKb_nH",
        "colab_type": "code",
        "colab": {}
      },
      "source": [
        "diabetes_y_test_array = np.array(diabetes_y_test)\n",
        "diabetes_y_test_array"
      ],
      "execution_count": null,
      "outputs": []
    },
    {
      "cell_type": "code",
      "metadata": {
        "id": "AkOqJj0oTokF",
        "colab_type": "code",
        "colab": {}
      },
      "source": [
        "plt.scatter(diabetes_X_train, diabetes_y_train_array,  color='black')\n",
        "plt.scatter(diabetes_X_test, diabetes_y_test_array,  color='red')"
      ],
      "execution_count": null,
      "outputs": []
    },
    {
      "cell_type": "code",
      "metadata": {
        "id": "xZWf1L1LN35Z",
        "colab_type": "code",
        "colab": {}
      },
      "source": [
        "diabetes_y_train"
      ],
      "execution_count": null,
      "outputs": []
    },
    {
      "cell_type": "markdown",
      "metadata": {
        "id": "MZo2UVSVN35c",
        "colab_type": "text"
      },
      "source": [
        "# Example 2: Implement three different algorithms to train linear regression model"
      ]
    },
    {
      "cell_type": "markdown",
      "metadata": {
        "collapsed": true,
        "id": "Xk0bPAaPN35d",
        "colab_type": "text"
      },
      "source": [
        "## Algorithm 1: Linear Regression - Direct Solve (no regularization) "
      ]
    },
    {
      "cell_type": "markdown",
      "metadata": {
        "id": "yRLh450bN35d",
        "colab_type": "text"
      },
      "source": [
        "#### Preliminaries\n",
        "\n",
        "1. The builtin function `solve(A, b)` computes the least squares solution for system of linear equations \n",
        "$$ Ax = b $$\n",
        "for the vector x such that $$ || \\; Ax \\; – \\; b \\;|| $$ is minimized. It is important to note that this function can operate only on small-to-medium sized input matrix that can fit in the driver memory. See the [DML language reference](http://apache.github.io/systemml/dml-language-reference.html) for more details.\n",
        "\n",
        "2. Linear regression model assumes that relationship between input explanatory (feature) variables X and numerical response variable y is linear. The goal is to estimate regression coefficient w (and residual variable) such that \n",
        "\n",
        "$$ y = \\text{Normal}(Xw, \\sigma^2) $$\n",
        "\n",
        "$$ \n",
        "\\begin{align*}\n",
        "\\text{Cost function, } J(w) &= \\dfrac{1}{2} (Xw - y)^2\n",
        "\\end{align*}$$\n",
        "\n",
        "Differentiating with respect to w,\n",
        "\n",
        "$$ \n",
        "\\begin{align*}\n",
        "dw &= \\dfrac{\\partial}{\\partial w} \\dfrac{1}{2} (Xw - y)^2 \\\\\n",
        "&= \\dfrac{1}{2} 2 X^T (Xw - y) \\\\\n",
        "&= (X^TX)w - X^Ty \n",
        "\\end{align*}$$\n",
        "\n",
        "\n",
        "#### Setting the gradient\n",
        "To find minima, we set the derivative with respect to w to zero, \n",
        "$$\\begin{align*}\n",
        "(X^T X)w - (X^T y) &= 0 \\\\ \n",
        "w &= (X^T X)^{-1}(X^T y) \\\\\n",
        "\\text{Let } \\; A &= X^T X \\\\\n",
        "\\text{and } \\; b &= X^T y \\\\\n",
        "\\text{Therefore,} \\; w &= solve(A, b)\n",
        "\\end{align*}$$"
      ]
    },
    {
      "cell_type": "code",
      "metadata": {
        "id": "4k9AVl9bN35e",
        "colab_type": "code",
        "colab": {}
      },
      "source": [
        "script = \"\"\"\n",
        "    # add constant feature to X to model intercept\n",
        "    ones = matrix(1, rows=nrow(X), cols=1)\n",
        "    X = cbind(X, ones)\n",
        "    A = t(X) %*% X\n",
        "    b = t(X) %*% y\n",
        "    w = solve(A, b)\n",
        "    bias = as.scalar(w[nrow(w),1])\n",
        "    w = w[1:nrow(w)-1,]\n",
        "\"\"\""
      ],
      "execution_count": null,
      "outputs": []
    },
    {
      "cell_type": "code",
      "metadata": {
        "scrolled": true,
        "id": "8Exqonn6N35l",
        "colab_type": "code",
        "colab": {}
      },
      "source": [
        "prog = dml(script).input(X=diabetes_X_train, y=diabetes_y_train).output('w', 'bias')\n",
        "w, bias = ml.execute(prog).get('w','bias')\n",
        "w = w.toNumPy()"
      ],
      "execution_count": null,
      "outputs": []
    },
    {
      "cell_type": "code",
      "metadata": {
        "scrolled": true,
        "id": "Vm1mgedMN35q",
        "colab_type": "code",
        "colab": {}
      },
      "source": [
        "plt.scatter(diabetes_X_train, diabetes_y_train_array,  color='black')\n",
        "plt.scatter(diabetes_X_test, diabetes_y_test_array,  color='red')\n",
        "\n",
        "plt.plot(diabetes_X_test, (w*diabetes_X_test)+bias, color='blue', linestyle ='dotted')"
      ],
      "execution_count": null,
      "outputs": []
    },
    {
      "cell_type": "markdown",
      "metadata": {
        "collapsed": true,
        "id": "m96fspPbN35u",
        "colab_type": "text"
      },
      "source": [
        "## Algorithm 2: Linear Regression - Batch Gradient Descent (no regularization)"
      ]
    },
    {
      "cell_type": "markdown",
      "metadata": {
        "id": "j3IvAIPQN35v",
        "colab_type": "text"
      },
      "source": [
        "#### Algorithm\n",
        "`Step 1: Start with an initial point \n",
        "while(not converged) { \n",
        "  Step 2: Compute gradient dw. \n",
        "  Step 3: Compute stepsize alpha.     \n",
        "  Step 4: Update: w_new = w_old - alpha*dw \n",
        "}`\n",
        "\n",
        "![Gradient Descent](http://blog.datumbox.com/wp-content/uploads/2013/10/gradient-descent.png)\n",
        "\n",
        "#### Gradient formula\n",
        "\n",
        "$$ dw = r = (X^T X)w - (X^T y) $$\n",
        "\n",
        "#### Step size formula\n",
        "\n",
        "We perform a line search to choose the step size `alpha` to minimize the cost function J(w). From basic calculus, `alpha` minimizes the function J(w) when the directional derivative with respect to `alpha` is zero. \n",
        "\n",
        "$$ alpha = \\dfrac{r^T r}{ r^T X^T X r } $$"
      ]
    },
    {
      "cell_type": "code",
      "metadata": {
        "id": "rtOX6oKrN35w",
        "colab_type": "code",
        "colab": {}
      },
      "source": [
        "script = \"\"\"\n",
        "    # add constant feature to X to model intercepts\n",
        "    ones = matrix(1, rows=nrow(X), cols=1)\n",
        "    X = cbind(X, ones)\n",
        "    max_iter = 100\n",
        "    w = matrix(0, rows=ncol(X), cols=1)\n",
        "    for(i in 1:max_iter){\n",
        "        XtX = t(X) %*% X\n",
        "        dw = XtX %*%w - t(X) %*% y\n",
        "        alpha = (t(dw) %*% dw) / (t(dw) %*% XtX %*% dw)\n",
        "        w = w - dw*alpha\n",
        "    }\n",
        "    bias = as.scalar(w[nrow(w),1])\n",
        "    w = w[1:nrow(w)-1,]    \n",
        "\"\"\""
      ],
      "execution_count": null,
      "outputs": []
    },
    {
      "cell_type": "code",
      "metadata": {
        "id": "NxZOIdF-N351",
        "colab_type": "code",
        "colab": {}
      },
      "source": [
        "prog = dml(script).input(X=diabetes_X_train, y=diabetes_y_train).output('w').output('bias')\n",
        "w, bias = ml.execute(prog).get('w', 'bias')\n",
        "w = w.toNumPy()"
      ],
      "execution_count": null,
      "outputs": []
    },
    {
      "cell_type": "code",
      "metadata": {
        "scrolled": false,
        "id": "kqdYjpieN359",
        "colab_type": "code",
        "colab": {}
      },
      "source": [
        "plt.scatter(diabetes_X_train, diabetes_y_train_array,  color='black')\n",
        "plt.scatter(diabetes_X_test, diabetes_y_test_array,  color='red')\n",
        "\n",
        "plt.plot(diabetes_X_test, (w*diabetes_X_test)+bias, color='red', linestyle ='dashed')"
      ],
      "execution_count": null,
      "outputs": []
    },
    {
      "cell_type": "markdown",
      "metadata": {
        "id": "xbPGZ14yN36C",
        "colab_type": "text"
      },
      "source": [
        "# Algorithm 3: Linear Regression - Conjugate Gradient (no regularization)"
      ]
    },
    {
      "cell_type": "markdown",
      "metadata": {
        "id": "NZCRg_fCN36D",
        "colab_type": "text"
      },
      "source": [
        "Problem with gradient descent: Takes very similar directions many times\n",
        "\n",
        "Solution: Enforce conjugacy\n",
        "\n",
        "`Step 1: Start with an initial point \n",
        "while(not converged) {\n",
        "   Step 2: Compute gradient dw.\n",
        "   Step 3: Compute stepsize alpha.\n",
        "   Step 4: Compute next direction p by enforcing conjugacy with previous direction.\n",
        "   Step 4: Update: w_new = w_old + alpha*p\n",
        "}`\n",
        "\n",
        "![Gradient Descent vs Conjugate Gradient](http://i.stack.imgur.com/zh1HH.png)\n"
      ]
    },
    {
      "cell_type": "code",
      "metadata": {
        "id": "PJOmIb7GN36E",
        "colab_type": "code",
        "colab": {}
      },
      "source": [
        "script = \"\"\"\n",
        "    # add constant feature to X to model intercepts\n",
        "    X = cbind(X, matrix(1, rows=nrow(X), cols=1))\n",
        "    m = ncol(X); i = 1; \n",
        "    max_iter = 20;\n",
        "    w = matrix (0, rows = m, cols = 1); # initialize weights to 0\n",
        "    dw = - t(X) %*% y; p = - dw;        # dw = (X'X)w - (X'y)\n",
        "    norm_r2 = sum (dw ^ 2); \n",
        "    for(i in 1:max_iter) {\n",
        "        q = t(X) %*% (X %*% p)\n",
        "        alpha = norm_r2 / sum (p * q);  # Minimizes f(w - alpha*r)\n",
        "        w = w + alpha * p;              # update weights\n",
        "        dw = dw + alpha * q;           \n",
        "        old_norm_r2 = norm_r2; norm_r2 = sum (dw ^ 2);\n",
        "        p = -dw + (norm_r2 / old_norm_r2) * p; # next direction - conjugacy to previous direction\n",
        "        i = i + 1;\n",
        "    }\n",
        "    bias = as.scalar(w[nrow(w),1])\n",
        "    w = w[1:nrow(w)-1,]    \n",
        "\"\"\""
      ],
      "execution_count": null,
      "outputs": []
    },
    {
      "cell_type": "code",
      "metadata": {
        "id": "HEYhsORrN36I",
        "colab_type": "code",
        "colab": {}
      },
      "source": [
        "prog = dml(script).input(X=diabetes_X_train, y=diabetes_y_train).output('w').output('bias')\n",
        "w, bias = ml.execute(prog).get('w','bias')\n",
        "w = w.toNumPy()"
      ],
      "execution_count": null,
      "outputs": []
    },
    {
      "cell_type": "code",
      "metadata": {
        "scrolled": false,
        "id": "dhJm8aEyN36N",
        "colab_type": "code",
        "colab": {}
      },
      "source": [
        "plt.scatter(diabetes_X_train, diabetes_y_train_array,  color='black')\n",
        "plt.scatter(diabetes_X_test, diabetes_y_test_array,  color='red')\n",
        "\n",
        "plt.plot(diabetes_X_test, (w*diabetes_X_test)+bias, color='red', linestyle ='dashed')"
      ],
      "execution_count": null,
      "outputs": []
    },
    {
      "cell_type": "markdown",
      "metadata": {
        "id": "XbIm-TryN36R",
        "colab_type": "text"
      },
      "source": [
        "# Example 3: Invoke existing SystemML algorithm script LinearRegDS.dml using MLContext API"
      ]
    },
    {
      "cell_type": "code",
      "metadata": {
        "id": "yD4V-3ZWN36R",
        "colab_type": "code",
        "colab": {}
      },
      "source": [
        "from systemml import dmlFromResource\n",
        "prog = dmlFromResource('scripts/algorithms/LinearRegDS.dml').input(X=diabetes_X_train, y=diabetes_y_train).input('$icpt',1.0).output('beta_out')\n",
        "w = ml.execute(prog).get('beta_out')\n",
        "w = w.toNumPy()\n",
        "bias=w[1]"
      ],
      "execution_count": null,
      "outputs": []
    },
    {
      "cell_type": "code",
      "metadata": {
        "id": "lXLHyjuIN36c",
        "colab_type": "code",
        "colab": {}
      },
      "source": [
        "plt.scatter(diabetes_X_train, diabetes_y_train_array,  color='black')\n",
        "plt.scatter(diabetes_X_test, diabetes_y_test_array,  color='red')\n",
        "\n",
        "plt.plot(diabetes_X_test, (w[0]*diabetes_X_test)+bias, color='red', linestyle ='dashed')"
      ],
      "execution_count": null,
      "outputs": []
    },
    {
      "cell_type": "markdown",
      "metadata": {
        "id": "UEGT5MkiN36h",
        "colab_type": "text"
      },
      "source": [
        "# Example 4: Invoke existing SystemML algorithm using scikit-learn/SparkML pipeline like API"
      ]
    },
    {
      "cell_type": "markdown",
      "metadata": {
        "id": "XrtYTQSxN36i",
        "colab_type": "text"
      },
      "source": [
        "*mllearn* API allows a Python programmer to invoke SystemML's algorithms using scikit-learn like API as well as Spark's MLPipeline API."
      ]
    },
    {
      "cell_type": "code",
      "metadata": {
        "id": "mL-_wSVSN36i",
        "colab_type": "code",
        "colab": {}
      },
      "source": [
        "from pyspark.sql import SQLContext"
      ],
      "execution_count": null,
      "outputs": []
    },
    {
      "cell_type": "code",
      "metadata": {
        "id": "UJOpHLjKf6v3",
        "colab_type": "code",
        "colab": {}
      },
      "source": [
        "from systemml.mllearn import LinearRegression\n",
        "sqlCtx = SQLContext(sc)"
      ],
      "execution_count": null,
      "outputs": []
    },
    {
      "cell_type": "code",
      "metadata": {
        "id": "3OrtalRGN36r",
        "colab_type": "code",
        "colab": {}
      },
      "source": [
        "regr = LinearRegression(sqlCtx)\n",
        "# Train the model using the training sets\n",
        "regr.fit(diabetes_X_train, diabetes_y_train)"
      ],
      "execution_count": null,
      "outputs": []
    },
    {
      "cell_type": "code",
      "metadata": {
        "id": "35I0hxkyN36v",
        "colab_type": "code",
        "colab": {}
      },
      "source": [
        "predictions = regr.predict(diabetes_X_test)"
      ],
      "execution_count": null,
      "outputs": []
    },
    {
      "cell_type": "code",
      "metadata": {
        "scrolled": true,
        "id": "haJX6QXWN36z",
        "colab_type": "code",
        "colab": {}
      },
      "source": [
        "# Use the trained model to perform prediction\n",
        "%matplotlib inline\n",
        "plt.scatter(diabetes_X_train, diabetes_y_train,  color='black')\n",
        "plt.scatter(diabetes_X_test, diabetes_y_test,  color='red')\n",
        "\n",
        "plt.plot(diabetes_X_test, predictions, color='black')"
      ],
      "execution_count": null,
      "outputs": []
    },
    {
      "cell_type": "markdown",
      "metadata": {
        "id": "-IIG-2dZN37L",
        "colab_type": "text"
      },
      "source": [
        "# Example 5: Invoking a Keras model with SystemML\n",
        "\n",
        "See [SystemML's deep learning documentation](http://apache.github.io/systemml/deep-learning) for more detail."
      ]
    },
    {
      "cell_type": "code",
      "metadata": {
        "id": "aPBzEysCN37N",
        "colab_type": "code",
        "colab": {}
      },
      "source": [
        "from mlxtend.data import mnist_data\n",
        "import numpy as np\n",
        "from sklearn.utils import shuffle\n",
        "# Download the MNIST dataset\n",
        "X, y = mnist_data()\n",
        "X, y = shuffle(X, y)\n",
        "# Split the data into training and test\n",
        "n_samples = len(X)\n",
        "X_train = X[:int(.9 * n_samples)]\n",
        "y_train = y[:int(.9 * n_samples)]\n",
        "X_test = X[int(.9 * n_samples):]\n",
        "y_test = y[int(.9 * n_samples):]\n",
        "from keras.models import Sequential\n",
        "from keras.layers import Input, Dense, Conv2D, MaxPooling2D, Dropout,Flatten\n",
        "from keras import backend as K\n",
        "from keras.models import Model\n",
        "input_shape = (1,28,28) if K.image_data_format() == 'channels_first' else (28,28, 1)\n",
        "keras_model = Sequential()\n",
        "keras_model.add(Conv2D(32, kernel_size=(5, 5), activation='relu', input_shape=input_shape, padding='same'))\n",
        "keras_model.add(MaxPooling2D(pool_size=(2, 2)))\n",
        "keras_model.add(Conv2D(64, (5, 5), activation='relu', padding='same'))\n",
        "keras_model.add(MaxPooling2D(pool_size=(2, 2)))\n",
        "keras_model.add(Flatten())\n",
        "keras_model.add(Dense(512, activation='relu'))\n",
        "keras_model.add(Dropout(0.5))\n",
        "keras_model.add(Dense(10, activation='softmax'))\n",
        "\n",
        "# Scale the input features\n",
        "scale = 0.00390625\n",
        "X_train = X_train*scale\n",
        "X_test = X_test*scale\n",
        "\n",
        "from systemml.mllearn import Keras2DML\n",
        "sysml_model = Keras2DML(spark, keras_model, input_shape=(1,28,28), weights='weights_dir')\n",
        "sysml_model.setConfigProperty('sysml.native.blas', 'openblas')\n",
        "sysml_model.setConfigProperty('sysml.native.blas.directory', os.path.join(os.getcwd(),'OpenBLAS-0.2.20/'))\n",
        "# sysml_model.setGPU(True).setForceGPU(True)\n",
        "sysml_model.summary()\n",
        "sysml_model.fit(X_train, y_train)"
      ],
      "execution_count": null,
      "outputs": []
    },
    {
      "cell_type": "code",
      "metadata": {
        "id": "09QzED0vN37T",
        "colab_type": "code",
        "colab": {}
      },
      "source": [
        ""
      ],
      "execution_count": null,
      "outputs": []
    }
  ]
}
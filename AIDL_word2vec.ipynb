{
  "nbformat": 4,
  "nbformat_minor": 0,
  "metadata": {
    "kernelspec": {
      "display_name": "Python 3.5",
      "language": "python",
      "name": "python3"
    },
    "language_info": {
      "codemirror_mode": {
        "name": "ipython",
        "version": 3
      },
      "file_extension": ".py",
      "mimetype": "text/x-python",
      "name": "python",
      "nbconvert_exporter": "python",
      "pygments_lexer": "ipython3",
      "version": "3.5.4"
    },
    "colab": {
      "name": "AIDL_word2vec.ipynb",
      "provenance": [],
      "collapsed_sections": []
    }
  },
  "cells": [
    {
      "cell_type": "code",
      "metadata": {
        "id": "OwuTF2Wapt-3",
        "colab_type": "code",
        "colab": {}
      },
      "source": [
        "import numpy as np\n",
        "np.random.seed(1)\n",
        "\n",
        "from keras.models import Sequential\n",
        "from keras.layers import Dense, Embedding, Flatten, Input\n",
        "from keras.preprocessing.text import one_hot\n",
        "from keras.preprocessing.sequence import pad_sequences\n",
        "from keras.optimizers import Adam\n",
        "from sklearn.preprocessing import OneHotEncoder\n"
      ],
      "execution_count": null,
      "outputs": []
    },
    {
      "cell_type": "code",
      "metadata": {
        "id": "GS0ZuUE7pt_C",
        "colab_type": "code",
        "colab": {}
      },
      "source": [
        "# define documents\n",
        "docs = ['king is man',\n",
        "'a king marrys queen',\n",
        "'a queen marrys king',\n",
        "'some unrelated workds'\n",
        "'queen is woman']\n",
        "docs"
      ],
      "execution_count": null,
      "outputs": []
    },
    {
      "cell_type": "code",
      "metadata": {
        "id": "ujSdDy2rpt_H",
        "colab_type": "code",
        "colab": {}
      },
      "source": [
        "vocab_size = 50"
      ],
      "execution_count": null,
      "outputs": []
    },
    {
      "cell_type": "code",
      "metadata": {
        "id": "oJ3CNMxQpt_L",
        "colab_type": "code",
        "colab": {}
      },
      "source": [
        "oh = np.array(one_hot('king queen man woman unrelated', vocab_size)).reshape(-1,1)\n",
        "oh"
      ],
      "execution_count": null,
      "outputs": []
    },
    {
      "cell_type": "code",
      "metadata": {
        "id": "zZ9qx89Xpt_P",
        "colab_type": "code",
        "colab": {}
      },
      "source": [
        "enc = OneHotEncoder()\n",
        "enc.fit(np.array(range(50)).reshape(-1,1))\n",
        "oh_enc = enc.transform(oh).toarray()\n",
        "oh_enc"
      ],
      "execution_count": null,
      "outputs": []
    },
    {
      "cell_type": "code",
      "metadata": {
        "id": "Fu3yvZOHpt_T",
        "colab_type": "code",
        "colab": {}
      },
      "source": [
        "encoded_docs = [one_hot(d, vocab_size) for d in docs]\n",
        "encoded_docs "
      ],
      "execution_count": null,
      "outputs": []
    },
    {
      "cell_type": "code",
      "metadata": {
        "id": "kI4C-jm9pt_X",
        "colab_type": "code",
        "colab": {}
      },
      "source": [
        "max_length = 24\n",
        "padded_docs = pad_sequences(encoded_docs, maxlen=max_length, padding='post')\n",
        "padded_docs "
      ],
      "execution_count": null,
      "outputs": []
    },
    {
      "cell_type": "code",
      "metadata": {
        "id": "yPvcKZC7pt_a",
        "colab_type": "code",
        "colab": {}
      },
      "source": [
        "tuples = np.empty((0, 2))\n",
        "for padded_doc in padded_docs:\n",
        "    length = len(padded_doc)\n",
        "    for i in range(length):\n",
        "        if padded_doc[i] != 0:\n",
        "            if i<length-1 & padded_doc[i+1] != 0:\n",
        "                tuples = np.append(tuples, [[padded_doc[i],padded_doc[i+1]]], axis=0) \n",
        "                if i<length-2 & padded_doc[i+2] != 0:\n",
        "                    tuples = np.append(tuples, [[padded_doc[i],padded_doc[i+2]]], axis=0) \n",
        "            if i > 0:\n",
        "                tuples = np.append(tuples, [[padded_doc[i],padded_doc[i-1]]], axis=0) \n",
        "                if i > 1:\n",
        "                    tuples = np.append(tuples, [[padded_doc[i],padded_doc[i-2]]], axis=0) \n",
        "\n",
        "    \n",
        "print (tuples.shape)\n",
        "tuples\n",
        "\n"
      ],
      "execution_count": null,
      "outputs": []
    },
    {
      "cell_type": "code",
      "metadata": {
        "id": "ZfD13RJ-pt_f",
        "colab_type": "code",
        "colab": {}
      },
      "source": [
        "onehotlabels_x = enc.transform(tuples[:,0].reshape(-1, 1)).toarray()\n",
        "\n",
        "print  (onehotlabels_x.shape)\n",
        "print ('---')\n",
        "print (onehotlabels_x)\n",
        "print ('---')\n",
        "print (onehotlabels_x[0])"
      ],
      "execution_count": null,
      "outputs": []
    },
    {
      "cell_type": "code",
      "metadata": {
        "id": "emTGJpsRpt_j",
        "colab_type": "code",
        "colab": {}
      },
      "source": [
        "onehotlabels_y = enc.transform(tuples[:,1].reshape(-1, 1)).toarray()\n",
        "\n",
        "print  (onehotlabels_y.shape)\n",
        "print ('---')\n",
        "print (onehotlabels_y)\n",
        "print ('---')\n",
        "print (onehotlabels_y[0])"
      ],
      "execution_count": null,
      "outputs": []
    },
    {
      "cell_type": "code",
      "metadata": {
        "id": "1ucHjsX6pt_l",
        "colab_type": "code",
        "colab": {}
      },
      "source": [
        "model = Sequential()\n",
        "\n",
        "input = Dense(50, input_shape=(50,), activation='relu')\n",
        "model.add(input)\n",
        "bottleneck = Dense(2, activation='relu')\n",
        "model.add(bottleneck)\n",
        "model.add(Dense(50, activation='softmax'))\n",
        "# compile the model\n",
        "model.compile(optimizer=\"adam\", loss='binary_crossentropy', metrics=['acc'])\n",
        "# summarize the model\n",
        "print(model.summary())\n",
        "\n",
        "# fit the model\n",
        "model.fit(onehotlabels_x, onehotlabels_y, epochs=500, verbose=1)"
      ],
      "execution_count": null,
      "outputs": []
    },
    {
      "cell_type": "code",
      "metadata": {
        "id": "OhuR5cx_pt_o",
        "colab_type": "code",
        "colab": {}
      },
      "source": [
        "model = Sequential()\n",
        "model.add(input)\n",
        "model.add(bottleneck)\n",
        "model.compile(optimizer=Adam(lr=0.001), loss='binary_crossentropy', metrics=['acc'])\n",
        "test = model.predict(oh_enc)\n",
        "print (test)\n"
      ],
      "execution_count": null,
      "outputs": []
    },
    {
      "cell_type": "code",
      "metadata": {
        "id": "hVIktr8Bpt_u",
        "colab_type": "code",
        "colab": {}
      },
      "source": [
        "model = Sequential()\n",
        "model.add(Embedding(1000, 3, input_length=5))\n",
        "model.compile('rmsprop', 'mse')\n",
        "\n",
        "input_array = np.random.randint(1000, size=(3, 5)) # 3 documents, 5 words per document\n",
        "input_array\n"
      ],
      "execution_count": null,
      "outputs": []
    },
    {
      "cell_type": "code",
      "metadata": {
        "id": "JyM4cyVCpt_z",
        "colab_type": "code",
        "colab": {}
      },
      "source": [
        "output_array = model.predict(input_array)\n",
        "print (output_array.shape)\n",
        "print (output_array)"
      ],
      "execution_count": null,
      "outputs": []
    },
    {
      "cell_type": "code",
      "metadata": {
        "id": "nXGO59ucpt_4",
        "colab_type": "code",
        "colab": {}
      },
      "source": [
        "# define documents\n",
        "docs = ['Well done!',\n",
        "'Good work',\n",
        "'Great effort',\n",
        "'nice work',\n",
        "'Excellent!',\n",
        "'Really Weak',\n",
        "'Poor effort!',\n",
        "'not good',\n",
        "'poor work',\n",
        "'Could have done better.']\n",
        "# define class labels\n",
        "labels = [1,1,1,1,1,0,0,0,0,0]"
      ],
      "execution_count": null,
      "outputs": []
    },
    {
      "cell_type": "code",
      "metadata": {
        "id": "lrxv6rnrpt_7",
        "colab_type": "code",
        "colab": {}
      },
      "source": [
        "# integer encode the documents\n",
        "vocab_size = 50\n",
        "encoded_docs = [one_hot(d, vocab_size) for d in docs]\n",
        "print(encoded_docs)"
      ],
      "execution_count": null,
      "outputs": []
    },
    {
      "cell_type": "code",
      "metadata": {
        "id": "kdD-yAo4pt_9",
        "colab_type": "code",
        "colab": {}
      },
      "source": [
        "# pad documents to a max length of 4 words\n",
        "max_length = 4\n",
        "padded_docs = pad_sequences(encoded_docs, maxlen=max_length, padding='post')\n",
        "print(padded_docs)"
      ],
      "execution_count": null,
      "outputs": []
    },
    {
      "cell_type": "code",
      "metadata": {
        "id": "zPXaWYDzpuAB",
        "colab_type": "code",
        "colab": {}
      },
      "source": [
        "model = Sequential()\n",
        "model.add(Embedding(vocab_size, 8, input_length=max_length))\n",
        "model.add(Flatten())\n",
        "model.add(Dense(1, activation='sigmoid'))\n",
        "# compile the model\n",
        "model.compile(optimizer='adam', loss='binary_crossentropy', metrics=['acc'])\n",
        "# summarize the model\n",
        "print(model.summary())"
      ],
      "execution_count": null,
      "outputs": []
    },
    {
      "cell_type": "code",
      "metadata": {
        "id": "dwZqRkPJpuAH",
        "colab_type": "code",
        "colab": {}
      },
      "source": [
        "# fit the model\n",
        "model.fit(padded_docs, labels, epochs=50, verbose=0)\n",
        "# evaluate the model\n",
        "loss, accuracy = model.evaluate(padded_docs, labels, verbose=0)\n",
        "print('Accuracy: %f' % (accuracy*100))"
      ],
      "execution_count": null,
      "outputs": []
    },
    {
      "cell_type": "code",
      "metadata": {
        "id": "-JFoYIoKpuAK",
        "colab_type": "code",
        "colab": {}
      },
      "source": [
        "import numpy as np\n",
        "np.hstack((model.predict(padded_docs),np.array(labels).reshape(10,1)))"
      ],
      "execution_count": null,
      "outputs": []
    }
  ]
}
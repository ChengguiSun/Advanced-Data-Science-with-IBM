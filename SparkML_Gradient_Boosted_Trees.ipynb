{
  "nbformat": 4,
  "nbformat_minor": 0,
  "metadata": {
    "colab": {
      "name": "SparkML_Gradient Boosted Trees.ipynb",
      "provenance": [],
      "collapsed_sections": [],
      "authorship_tag": "ABX9TyMIjjNWxp46tkFqUf7iM6aF"
    },
    "kernelspec": {
      "name": "python3",
      "display_name": "Python 3"
    }
  },
  "cells": [
    {
      "cell_type": "markdown",
      "metadata": {
        "id": "wxF1Z4QadpsI",
        "colab_type": "text"
      },
      "source": [
        "# Install Spark"
      ]
    },
    {
      "cell_type": "code",
      "metadata": {
        "id": "irTGeJvU4pI9",
        "colab_type": "code",
        "colab": {}
      },
      "source": [
        "!apt-get install openjdk-8-jdk-headless -qq > /dev/null\n",
        "!wget -q https://downloads.apache.org/spark/spark-3.0.0/spark-3.0.0-bin-hadoop2.7.tgz\n",
        "!tar xf spark-3.0.0-bin-hadoop2.7.tgz\n",
        "!pip install -q findspark"
      ],
      "execution_count": 1,
      "outputs": []
    },
    {
      "cell_type": "code",
      "metadata": {
        "id": "zf05GSbAkHcO",
        "colab_type": "code",
        "colab": {
          "base_uri": "https://localhost:8080/",
          "height": 52
        },
        "outputId": "3fcb9ef4-9451-44e1-9501-81a5a58f51d2"
      },
      "source": [
        "!pip install pyspark==2.4.5"
      ],
      "execution_count": 2,
      "outputs": [
        {
          "output_type": "stream",
          "text": [
            "Requirement already satisfied: pyspark==2.4.5 in /usr/local/lib/python3.6/dist-packages (2.4.5)\n",
            "Requirement already satisfied: py4j==0.10.7 in /usr/local/lib/python3.6/dist-packages (from pyspark==2.4.5) (0.10.7)\n"
          ],
          "name": "stdout"
        }
      ]
    },
    {
      "cell_type": "code",
      "metadata": {
        "id": "sH8c_Y9njMJ5",
        "colab_type": "code",
        "colab": {
          "base_uri": "https://localhost:8080/",
          "height": 87
        },
        "outputId": "1af13f35-aa84-4589-b25e-fab58b2b5bbe"
      },
      "source": [
        "!ls"
      ],
      "execution_count": 3,
      "outputs": [
        {
          "output_type": "stream",
          "text": [
            "hmp.parquet\t\t       spark-3.0.0-bin-hadoop2.7.tgz.1\n",
            "sample_data\t\t       spark-3.0.0-bin-hadoop2.7.tgz.2\n",
            "spark-3.0.0-bin-hadoop2.7      spark-3.0.0-bin-hadoop2.7.tgz.3\n",
            "spark-3.0.0-bin-hadoop2.7.tgz\n"
          ],
          "name": "stdout"
        }
      ]
    },
    {
      "cell_type": "code",
      "metadata": {
        "id": "hWGiaP0Sjs0Z",
        "colab_type": "code",
        "colab": {}
      },
      "source": [
        "import os\n",
        "os.environ[\"JAVA_HOME\"] = \"/usr/lib/jvm/java-8-openjdk-amd64\"\n",
        "os.environ[\"SPARK_HOME\"] = \"/content/spark-3.0.0-bin-hadoop2.7\""
      ],
      "execution_count": 4,
      "outputs": []
    },
    {
      "cell_type": "code",
      "metadata": {
        "id": "I86xC0GgkG_u",
        "colab_type": "code",
        "colab": {}
      },
      "source": [
        "import findspark\n",
        "findspark.init()\n",
        "from pyspark.sql import SparkSession"
      ],
      "execution_count": 5,
      "outputs": []
    },
    {
      "cell_type": "code",
      "metadata": {
        "id": "-Onm9GcD5Zda",
        "colab_type": "code",
        "colab": {}
      },
      "source": [
        "try:\n",
        "    from pyspark import SparkContext, SparkConf\n",
        "except ImportError as e:\n",
        "    printmd('<<<<<!!!!! Please restart your kernel after installing Apache Spark !!!!!>>>>>')"
      ],
      "execution_count": 6,
      "outputs": []
    },
    {
      "cell_type": "code",
      "metadata": {
        "id": "Vg1sgY0d3Ygw",
        "colab_type": "code",
        "colab": {}
      },
      "source": [
        "sc = SparkContext.getOrCreate(SparkConf().setMaster(\"local[*]\"))\n",
        "\n",
        "spark = SparkSession \\\n",
        "    .builder \\\n",
        "    .getOrCreate()"
      ],
      "execution_count": 7,
      "outputs": []
    },
    {
      "cell_type": "markdown",
      "metadata": {
        "id": "U9OwwEXHiMmq",
        "colab_type": "text"
      },
      "source": [
        "## Exercise"
      ]
    },
    {
      "cell_type": "code",
      "metadata": {
        "id": "RdOkAdcW19u9",
        "colab_type": "code",
        "colab": {
          "base_uri": "https://localhost:8080/",
          "height": 364
        },
        "outputId": "5cf38c02-7946-4c43-c735-213213cf501a"
      },
      "source": [
        "# delete files from previous runs\n",
        "!rm -f hmp.parquet*\n",
        "\n",
        "# download the file containing the data in PARQUET format\n",
        "!wget https://github.com/IBM/coursera/raw/master/hmp.parquet\n",
        "    \n",
        "# create a dataframe out of it\n",
        "df = spark.read.parquet('hmp.parquet')\n",
        "\n",
        "# register a corresponding query table\n",
        "df.createOrReplaceTempView('df')"
      ],
      "execution_count": 8,
      "outputs": [
        {
          "output_type": "stream",
          "text": [
            "--2020-07-22 05:54:29--  https://github.com/IBM/coursera/raw/master/hmp.parquet\n",
            "Resolving github.com (github.com)... 140.82.112.3\n",
            "Connecting to github.com (github.com)|140.82.112.3|:443... connected.\n",
            "HTTP request sent, awaiting response... 301 Moved Permanently\n",
            "Location: https://github.com/IBM/skillsnetwork/raw/master/hmp.parquet [following]\n",
            "--2020-07-22 05:54:29--  https://github.com/IBM/skillsnetwork/raw/master/hmp.parquet\n",
            "Reusing existing connection to github.com:443.\n",
            "HTTP request sent, awaiting response... 302 Found\n",
            "Location: https://raw.githubusercontent.com/IBM/skillsnetwork/master/hmp.parquet [following]\n",
            "--2020-07-22 05:54:29--  https://raw.githubusercontent.com/IBM/skillsnetwork/master/hmp.parquet\n",
            "Resolving raw.githubusercontent.com (raw.githubusercontent.com)... 151.101.0.133, 151.101.64.133, 151.101.128.133, ...\n",
            "Connecting to raw.githubusercontent.com (raw.githubusercontent.com)|151.101.0.133|:443... connected.\n",
            "HTTP request sent, awaiting response... 200 OK\n",
            "Length: 932997 (911K) [application/octet-stream]\n",
            "Saving to: ‘hmp.parquet’\n",
            "\n",
            "hmp.parquet         100%[===================>] 911.13K  --.-KB/s    in 0.08s   \n",
            "\n",
            "2020-07-22 05:54:30 (11.4 MB/s) - ‘hmp.parquet’ saved [932997/932997]\n",
            "\n"
          ],
          "name": "stdout"
        }
      ]
    },
    {
      "cell_type": "code",
      "metadata": {
        "id": "G6Nd1mmT3Afh",
        "colab_type": "code",
        "colab": {
          "base_uri": "https://localhost:8080/",
          "height": 468
        },
        "outputId": "3b2197ae-413b-4792-fb15-9c044b8388e3"
      },
      "source": [
        "df.show()"
      ],
      "execution_count": 9,
      "outputs": [
        {
          "output_type": "stream",
          "text": [
            "+---+---+---+--------------------+-----------+\n",
            "|  x|  y|  z|              source|      class|\n",
            "+---+---+---+--------------------+-----------+\n",
            "| 22| 49| 35|Accelerometer-201...|Brush_teeth|\n",
            "| 22| 49| 35|Accelerometer-201...|Brush_teeth|\n",
            "| 22| 52| 35|Accelerometer-201...|Brush_teeth|\n",
            "| 22| 52| 35|Accelerometer-201...|Brush_teeth|\n",
            "| 21| 52| 34|Accelerometer-201...|Brush_teeth|\n",
            "| 22| 51| 34|Accelerometer-201...|Brush_teeth|\n",
            "| 20| 50| 35|Accelerometer-201...|Brush_teeth|\n",
            "| 22| 52| 34|Accelerometer-201...|Brush_teeth|\n",
            "| 22| 50| 34|Accelerometer-201...|Brush_teeth|\n",
            "| 22| 51| 35|Accelerometer-201...|Brush_teeth|\n",
            "| 21| 51| 33|Accelerometer-201...|Brush_teeth|\n",
            "| 20| 50| 34|Accelerometer-201...|Brush_teeth|\n",
            "| 21| 49| 33|Accelerometer-201...|Brush_teeth|\n",
            "| 21| 49| 33|Accelerometer-201...|Brush_teeth|\n",
            "| 20| 51| 35|Accelerometer-201...|Brush_teeth|\n",
            "| 18| 49| 34|Accelerometer-201...|Brush_teeth|\n",
            "| 19| 48| 34|Accelerometer-201...|Brush_teeth|\n",
            "| 16| 53| 34|Accelerometer-201...|Brush_teeth|\n",
            "| 18| 52| 35|Accelerometer-201...|Brush_teeth|\n",
            "| 18| 51| 32|Accelerometer-201...|Brush_teeth|\n",
            "+---+---+---+--------------------+-----------+\n",
            "only showing top 20 rows\n",
            "\n"
          ],
          "name": "stdout"
        }
      ]
    },
    {
      "cell_type": "code",
      "metadata": {
        "id": "cDAKLbTq19ya",
        "colab_type": "code",
        "colab": {}
      },
      "source": [
        "df_two_class = spark.sql(\"select * from df where class in ('Use_telephone','Standup_chair')\")"
      ],
      "execution_count": 10,
      "outputs": []
    },
    {
      "cell_type": "code",
      "metadata": {
        "id": "Gxr_Ilde3I7U",
        "colab_type": "code",
        "colab": {
          "base_uri": "https://localhost:8080/",
          "height": 468
        },
        "outputId": "c5f1a0dd-746e-45f8-90ff-3dda9d4c464f"
      },
      "source": [
        "df_two_class.show()"
      ],
      "execution_count": 11,
      "outputs": [
        {
          "output_type": "stream",
          "text": [
            "+---+---+---+--------------------+-------------+\n",
            "|  x|  y|  z|              source|        class|\n",
            "+---+---+---+--------------------+-------------+\n",
            "| 30| 40| 51|Accelerometer-201...|Standup_chair|\n",
            "| 30| 41| 51|Accelerometer-201...|Standup_chair|\n",
            "| 31| 41| 51|Accelerometer-201...|Standup_chair|\n",
            "| 29| 42| 51|Accelerometer-201...|Standup_chair|\n",
            "| 30| 43| 52|Accelerometer-201...|Standup_chair|\n",
            "| 30| 40| 52|Accelerometer-201...|Standup_chair|\n",
            "| 31| 41| 52|Accelerometer-201...|Standup_chair|\n",
            "| 32| 39| 52|Accelerometer-201...|Standup_chair|\n",
            "| 29| 38| 52|Accelerometer-201...|Standup_chair|\n",
            "| 29| 38| 50|Accelerometer-201...|Standup_chair|\n",
            "| 28| 40| 50|Accelerometer-201...|Standup_chair|\n",
            "| 31| 38| 51|Accelerometer-201...|Standup_chair|\n",
            "| 30| 39| 51|Accelerometer-201...|Standup_chair|\n",
            "| 30| 39| 50|Accelerometer-201...|Standup_chair|\n",
            "| 31| 39| 51|Accelerometer-201...|Standup_chair|\n",
            "| 30| 38| 52|Accelerometer-201...|Standup_chair|\n",
            "| 29| 39| 53|Accelerometer-201...|Standup_chair|\n",
            "| 31| 38| 52|Accelerometer-201...|Standup_chair|\n",
            "| 29| 39| 53|Accelerometer-201...|Standup_chair|\n",
            "| 31| 37| 53|Accelerometer-201...|Standup_chair|\n",
            "+---+---+---+--------------------+-------------+\n",
            "only showing top 20 rows\n",
            "\n"
          ],
          "name": "stdout"
        }
      ]
    },
    {
      "cell_type": "code",
      "metadata": {
        "id": "lRFJl4fk192A",
        "colab_type": "code",
        "colab": {}
      },
      "source": [
        "splits = df_two_class.randomSplit([0.8, 0.2])\n",
        "df_train = splits[0]\n",
        "df_test = splits[1]"
      ],
      "execution_count": 12,
      "outputs": []
    },
    {
      "cell_type": "code",
      "metadata": {
        "id": "R-HFlHhW195h",
        "colab_type": "code",
        "colab": {}
      },
      "source": [
        "from pyspark.ml.feature import StringIndexer, OneHotEncoder\n",
        "from pyspark.ml.linalg import Vectors\n",
        "from pyspark.ml.feature import VectorAssembler\n",
        "from pyspark.ml.feature import MinMaxScaler\n",
        "\n",
        "\n",
        "indexer = StringIndexer(inputCol=\"class\", outputCol=\"label\")\n",
        "\n",
        "vectorAssembler = VectorAssembler(inputCols=[\"x\",\"y\",\"z\"],\n",
        "                                  outputCol=\"features\")\n",
        "\n",
        "normalizer = MinMaxScaler(inputCol=\"features\", outputCol=\"features_norm\")"
      ],
      "execution_count": 13,
      "outputs": []
    },
    {
      "cell_type": "code",
      "metadata": {
        "id": "itt7Jotm198v",
        "colab_type": "code",
        "colab": {}
      },
      "source": [
        "from pyspark.ml.classification import GBTClassifier\n",
        "\n",
        "gbt = GBTClassifier(labelCol=\"label\", featuresCol=\"features_norm\", maxIter=10)"
      ],
      "execution_count": 15,
      "outputs": []
    },
    {
      "cell_type": "code",
      "metadata": {
        "id": "EvFdw03819_3",
        "colab_type": "code",
        "colab": {}
      },
      "source": [
        "from pyspark.ml import Pipeline\n",
        "pipeline = Pipeline(stages=[indexer, vectorAssembler, normalizer, gbt])"
      ],
      "execution_count": 16,
      "outputs": []
    },
    {
      "cell_type": "code",
      "metadata": {
        "id": "bMUworCq1-DB",
        "colab_type": "code",
        "colab": {}
      },
      "source": [
        "model = pipeline.fit(df_train)"
      ],
      "execution_count": 17,
      "outputs": []
    },
    {
      "cell_type": "code",
      "metadata": {
        "id": "mUPFcgCx1-GN",
        "colab_type": "code",
        "colab": {}
      },
      "source": [
        "prediction = model.transform(df_train)"
      ],
      "execution_count": 18,
      "outputs": []
    },
    {
      "cell_type": "code",
      "metadata": {
        "id": "Q80gblXD4KK4",
        "colab_type": "code",
        "colab": {
          "base_uri": "https://localhost:8080/",
          "height": 468
        },
        "outputId": "9b848889-4239-4a7e-87b1-2ef9faaa21ef"
      },
      "source": [
        "prediction.show()"
      ],
      "execution_count": 19,
      "outputs": [
        {
          "output_type": "stream",
          "text": [
            "+---+---+---+--------------------+-------------+-----+---------------+--------------------+--------------------+--------------------+----------+\n",
            "|  x|  y|  z|              source|        class|label|       features|       features_norm|       rawPrediction|         probability|prediction|\n",
            "+---+---+---+--------------------+-------------+-----+---------------+--------------------+--------------------+--------------------+----------+\n",
            "|  0| 31| 17|Accelerometer-201...|Standup_chair|  0.0|[0.0,31.0,17.0]|[0.0,0.4423076923...|[1.32190952082575...|[0.93362900698360...|       0.0|\n",
            "|  0| 31| 32|Accelerometer-201...|Standup_chair|  0.0|[0.0,31.0,32.0]|[0.0,0.4423076923...|[1.32190952082575...|[0.93362900698360...|       0.0|\n",
            "|  0| 31| 32|Accelerometer-201...|Standup_chair|  0.0|[0.0,31.0,32.0]|[0.0,0.4423076923...|[1.32190952082575...|[0.93362900698360...|       0.0|\n",
            "|  0| 32| 33|Accelerometer-201...|Standup_chair|  0.0|[0.0,32.0,33.0]|[0.0,0.4615384615...|[1.32190952082575...|[0.93362900698360...|       0.0|\n",
            "|  0| 34| 29|Accelerometer-201...|Standup_chair|  0.0|[0.0,34.0,29.0]|[0.0,0.5,0.346153...|[1.32190952082575...|[0.93362900698360...|       0.0|\n",
            "|  0| 35| 28|Accelerometer-201...|Standup_chair|  0.0|[0.0,35.0,28.0]|[0.0,0.5192307692...|[1.32190952082575...|[0.93362900698360...|       0.0|\n",
            "|  0| 35| 28|Accelerometer-201...|Standup_chair|  0.0|[0.0,35.0,28.0]|[0.0,0.5192307692...|[1.32190952082575...|[0.93362900698360...|       0.0|\n",
            "|  0| 36| 37|Accelerometer-201...|Standup_chair|  0.0|[0.0,36.0,37.0]|[0.0,0.5384615384...|[1.32190952082575...|[0.93362900698360...|       0.0|\n",
            "|  0| 37| 26|Accelerometer-201...|Standup_chair|  0.0|[0.0,37.0,26.0]|[0.0,0.5576923076...|[1.32190952082575...|[0.93362900698360...|       0.0|\n",
            "|  0| 37| 30|Accelerometer-201...|Standup_chair|  0.0|[0.0,37.0,30.0]|[0.0,0.5576923076...|[1.32190952082575...|[0.93362900698360...|       0.0|\n",
            "|  0| 37| 35|Accelerometer-201...|Standup_chair|  0.0|[0.0,37.0,35.0]|[0.0,0.5576923076...|[1.32190952082575...|[0.93362900698360...|       0.0|\n",
            "|  0| 38| 37|Accelerometer-201...|Standup_chair|  0.0|[0.0,38.0,37.0]|[0.0,0.5769230769...|[1.32190952082575...|[0.93362900698360...|       0.0|\n",
            "|  0| 40| 34|Accelerometer-201...|Standup_chair|  0.0|[0.0,40.0,34.0]|[0.0,0.6153846153...|[1.32190952082575...|[0.93362900698360...|       0.0|\n",
            "|  0| 42| 34|Accelerometer-201...|Standup_chair|  0.0|[0.0,42.0,34.0]|[0.0,0.6538461538...|[1.32190952082575...|[0.93362900698360...|       0.0|\n",
            "|  0| 43| 34|Accelerometer-201...|Standup_chair|  0.0|[0.0,43.0,34.0]|[0.0,0.6730769230...|[1.32190952082575...|[0.93362900698360...|       0.0|\n",
            "|  0| 44| 21|Accelerometer-201...|Standup_chair|  0.0|[0.0,44.0,21.0]|[0.0,0.6923076923...|[1.32190952082575...|[0.93362900698360...|       0.0|\n",
            "|  0| 56| 30|Accelerometer-201...|Standup_chair|  0.0|[0.0,56.0,30.0]|[0.0,0.9230769230...|[1.32190952082575...|[0.93362900698360...|       0.0|\n",
            "|  1| 11| 43|Accelerometer-201...|Standup_chair|  0.0|[1.0,11.0,43.0]|[0.01587301587301...|[1.22927336077128...|[0.92118421377031...|       0.0|\n",
            "|  1| 27| 20|Accelerometer-201...|Standup_chair|  0.0|[1.0,27.0,20.0]|[0.01587301587301...|[1.32190952082575...|[0.93362900698360...|       0.0|\n",
            "|  1| 29| 27|Accelerometer-201...|Standup_chair|  0.0|[1.0,29.0,27.0]|[0.01587301587301...|[1.32190952082575...|[0.93362900698360...|       0.0|\n",
            "+---+---+---+--------------------+-------------+-----+---------------+--------------------+--------------------+--------------------+----------+\n",
            "only showing top 20 rows\n",
            "\n"
          ],
          "name": "stdout"
        }
      ]
    },
    {
      "cell_type": "code",
      "metadata": {
        "id": "7zlFO-u81-Jy",
        "colab_type": "code",
        "colab": {
          "base_uri": "https://localhost:8080/",
          "height": 35
        },
        "outputId": "90a7da59-55b4-4bf7-e7d9-af57be61f76d"
      },
      "source": [
        "from pyspark.ml.evaluation import MulticlassClassificationEvaluator\n",
        "binEval = MulticlassClassificationEvaluator().setMetricName(\"accuracy\") .setPredictionCol(\"prediction\").setLabelCol(\"label\")\n",
        "    \n",
        "binEval.evaluate(prediction) "
      ],
      "execution_count": 20,
      "outputs": [
        {
          "output_type": "execute_result",
          "data": {
            "text/plain": [
              "0.9111746090269457"
            ]
          },
          "metadata": {
            "tags": []
          },
          "execution_count": 20
        }
      ]
    },
    {
      "cell_type": "code",
      "metadata": {
        "id": "TM4ItYh_2Lk3",
        "colab_type": "code",
        "colab": {}
      },
      "source": [
        "prediction = model.transform(df_test)"
      ],
      "execution_count": 21,
      "outputs": []
    },
    {
      "cell_type": "code",
      "metadata": {
        "id": "WgMJwXAZ2Lvl",
        "colab_type": "code",
        "colab": {
          "base_uri": "https://localhost:8080/",
          "height": 35
        },
        "outputId": "1d8a046b-6bd8-4c3c-9f58-0d8dab7fb557"
      },
      "source": [
        "binEval.evaluate(prediction) "
      ],
      "execution_count": 22,
      "outputs": [
        {
          "output_type": "execute_result",
          "data": {
            "text/plain": [
              "0.9080914144533663"
            ]
          },
          "metadata": {
            "tags": []
          },
          "execution_count": 22
        }
      ]
    },
    {
      "cell_type": "code",
      "metadata": {
        "id": "34ikratI8e2X",
        "colab_type": "code",
        "colab": {}
      },
      "source": [
        "from pyspark.ml.tuning import CrossValidator, ParamGridBuilder\n",
        "\n",
        "paramGrid = ParamGridBuilder() \\\n",
        "    .addGrid(normalizer.p, [1.0, 2.0, 10.0]) \\\n",
        "    .addGrid(gbt.maxBins, [2,4,8,16]) \\\n",
        "    .addGrid(gbt.maxDepth, [2,4,8,16]) \\\n",
        "    .build()"
      ],
      "execution_count": 24,
      "outputs": []
    },
    {
      "cell_type": "code",
      "metadata": {
        "id": "qrR-OlGG8fAG",
        "colab_type": "code",
        "colab": {}
      },
      "source": [
        "crossval = CrossValidator(estimator=pipeline,\n",
        "                          estimatorParamMaps=paramGrid,\n",
        "                          evaluator=MulticlassClassificationEvaluator(),\n",
        "                          numFolds=4)  "
      ],
      "execution_count": 25,
      "outputs": []
    },
    {
      "cell_type": "code",
      "metadata": {
        "id": "dZic9yJ88fDz",
        "colab_type": "code",
        "colab": {}
      },
      "source": [
        "cvModel = crossval.fit(df_train)"
      ],
      "execution_count": 26,
      "outputs": []
    },
    {
      "cell_type": "code",
      "metadata": {
        "id": "lZLj-LvU8fHS",
        "colab_type": "code",
        "colab": {}
      },
      "source": [
        "prediction = cvModel.transform(df_test)"
      ],
      "execution_count": 27,
      "outputs": []
    },
    {
      "cell_type": "code",
      "metadata": {
        "id": "Sb5nEUbK8fLL",
        "colab_type": "code",
        "colab": {
          "base_uri": "https://localhost:8080/",
          "height": 35
        },
        "outputId": "d87d5539-65ce-497d-c739-c3f950db7391"
      },
      "source": [
        "binEval.evaluate(prediction) "
      ],
      "execution_count": 28,
      "outputs": [
        {
          "output_type": "execute_result",
          "data": {
            "text/plain": [
              "0.9109326744904261"
            ]
          },
          "metadata": {
            "tags": []
          },
          "execution_count": 28
        }
      ]
    },
    {
      "cell_type": "code",
      "metadata": {
        "id": "ak8fUxc58fOe",
        "colab_type": "code",
        "colab": {
          "base_uri": "https://localhost:8080/",
          "height": 139
        },
        "outputId": "36877e0a-28d1-4268-ce6d-d9acae9b1f5f"
      },
      "source": [
        "cvModel.bestModel.stages[-1].explainParams()"
      ],
      "execution_count": 29,
      "outputs": [
        {
          "output_type": "execute_result",
          "data": {
            "application/vnd.google.colaboratory.intrinsic": {
              "type": "string"
            },
            "text/plain": [
              "\"cacheNodeIds: If false, the algorithm will pass trees to executors to match instances with nodes. If true, the algorithm will cache node IDs for each instance. Caching can speed up training of deeper trees. Users can set how often should the cache be checkpointed or disable it by setting checkpointInterval. (default: False)\\ncheckpointInterval: set checkpoint interval (>= 1) or disable checkpoint (-1). E.g. 10 means that the cache will get checkpointed every 10 iterations. Note: this setting will be ignored if the checkpoint directory is not set in the SparkContext. (default: 10)\\nfeatureSubsetStrategy: The number of features to consider for splits at each tree node. Supported options: 'auto' (choose automatically for task: If numTrees == 1, set to 'all'. If numTrees > 1 (forest), set to 'sqrt' for classification and to 'onethird' for regression), 'all' (use all features), 'onethird' (use 1/3 of the features), 'sqrt' (use sqrt(number of features)), 'log2' (use log2(number of features)), 'n' (when n is in the range (0, 1.0], use n * number of features. When n is in the range (1, number of features), use n features). default = 'auto' (default: all)\\nfeaturesCol: features column name. (default: features, current: features_norm)\\nimpurity: Criterion used for information gain calculation (case-insensitive). Supported options: variance (default: variance)\\nlabelCol: label column name. (default: label, current: label)\\nleafCol: Leaf indices column name. Predicted leaf index of each instance in each tree by preorder. (default: )\\nlossType: Loss function which GBT tries to minimize (case-insensitive). Supported options: logistic (default: logistic)\\nmaxBins: Max number of bins for discretizing continuous features.  Must be >=2 and >= number of categories for any categorical feature. (default: 32, current: 16)\\nmaxDepth: Maximum depth of the tree. (>= 0) E.g., depth 0 means 1 leaf node; depth 1 means 1 internal node + 2 leaf nodes. (default: 5, current: 16)\\nmaxIter: max number of iterations (>= 0). (default: 20, current: 10)\\nmaxMemoryInMB: Maximum memory in MB allocated to histogram aggregation. If too small, then 1 node will be split per iteration, and its aggregates may exceed this size. (default: 256)\\nminInfoGain: Minimum information gain for a split to be considered at a tree node. (default: 0.0)\\nminInstancesPerNode: Minimum number of instances each child must have after split. If a split causes the left or right child to have fewer than minInstancesPerNode, the split will be discarded as invalid. Should be >= 1. (default: 1)\\nminWeightFractionPerNode: Minimum fraction of the weighted sample count that each child must have after split. If a split causes the fraction of the total weight in the left or right child to be less than minWeightFractionPerNode, the split will be discarded as invalid. Should be in interval [0.0, 0.5). (default: 0.0)\\npredictionCol: prediction column name. (default: prediction)\\nprobabilityCol: Column name for predicted class conditional probabilities. Note: Not all models output well-calibrated probability estimates! These probabilities should be treated as confidences, not precise probabilities. (default: probability)\\nrawPredictionCol: raw prediction (a.k.a. confidence) column name. (default: rawPrediction)\\nseed: random seed. (default: 4374459252266416068)\\nstepSize: Step size (a.k.a. learning rate) in interval (0, 1] for shrinking the contribution of each estimator. (default: 0.1)\\nsubsamplingRate: Fraction of the training data used for learning each decision tree, in range (0, 1]. (default: 1.0)\\nthresholds: Thresholds in multi-class classification to adjust the probability of predicting each class. Array must have length equal to the number of classes, with values > 0, excepting that at most one value may be 0. The class with largest value p/t is predicted, where p is the original probability of that class and t is the class's threshold. (undefined)\\nvalidationIndicatorCol: name of the column that indicates whether each row is for training or for validation. False indicates training; true indicates validation. (undefined)\\nvalidationTol: Threshold for stopping early when fit with validation is used. If the error rate on the validation input changes by less than the validationTol, then learning will stop early (before `maxIter`). This parameter is ignored when fit without validation is used. (default: 0.01)\\nweightCol: weight column name. If this is not set or empty, we treat all instance weights as 1.0. (undefined)\""
            ]
          },
          "metadata": {
            "tags": []
          },
          "execution_count": 29
        }
      ]
    },
    {
      "cell_type": "code",
      "metadata": {
        "id": "yEoQdFZ_8fR6",
        "colab_type": "code",
        "colab": {}
      },
      "source": [
        ""
      ],
      "execution_count": null,
      "outputs": []
    }
  ]
}
{
  "nbformat": 4,
  "nbformat_minor": 0,
  "metadata": {
    "kernelspec": {
      "display_name": "Python 3.5",
      "name": "python3",
      "language": "python"
    },
    "language_info": {
      "mimetype": "text/x-python",
      "nbconvert_exporter": "python",
      "version": "3.5.4",
      "name": "python",
      "file_extension": ".py",
      "pygments_lexer": "ipython3",
      "codemirror_mode": {
        "version": 3,
        "name": "ipython"
      }
    },
    "colab": {
      "name": "PCA.ipynb",
      "provenance": []
    }
  },
  "cells": [
    {
      "cell_type": "code",
      "metadata": {
        "id": "XYEeIrRyDm9a",
        "colab_type": "code",
        "colab": {}
      },
      "source": [
        "from math import pi\n",
        "from math import sin\n",
        "\n",
        "import matplotlib.pyplot as plt\n",
        "\n",
        "import numpy as np\n",
        "\n",
        "import math\n",
        "\n",
        "def corr_vars( start=-10, stop=10, step=0.5, mu=0, sigma=3, func=lambda x: x ):\n",
        "    x = np.arange(start, stop, step)    \n",
        "    \n",
        "    e = np.random.normal(mu, sigma, x.size)\n",
        "    \n",
        "    y = np.zeros(x.size)\n",
        "    \n",
        "    for ind in range(x.size):\n",
        "        y[ind] = func(x[ind]) + e[ind]\n",
        "    \n",
        "    return (x,y)"
      ],
      "execution_count": 1,
      "outputs": []
    },
    {
      "cell_type": "code",
      "metadata": {
        "id": "qP6R_J6mDm9g",
        "colab_type": "code",
        "colab": {}
      },
      "source": [
        "np.random.seed(100)\n",
        "\n",
        "#(x1,x2) = corr_vars(start=2, stop=4, step=0.2, sigma=2, func=lambda x: 2*math.sin(x)+x*x)\n",
        "(x1,x2) = corr_vars(start=2, stop=4, step=0.2, sigma=2, func=lambda x: 2*math.sin(x))\n",
        "\n",
        "A = np.column_stack((x1,x2))"
      ],
      "execution_count": 2,
      "outputs": []
    },
    {
      "cell_type": "code",
      "metadata": {
        "id": "R8KPvW13Dm9k",
        "colab_type": "code",
        "colab": {
          "base_uri": "https://localhost:8080/",
          "height": 191
        },
        "outputId": "e9d38c72-27ca-4694-9cc4-3d3b74d58cf1"
      },
      "source": [
        "A"
      ],
      "execution_count": 3,
      "outputs": [
        {
          "output_type": "execute_result",
          "data": {
            "text/plain": [
              "array([[ 2.        , -1.68093609],\n",
              "       [ 2.2       ,  2.30235361],\n",
              "       [ 2.4       ,  3.65699797],\n",
              "       [ 2.6       ,  0.52613067],\n",
              "       [ 2.8       ,  2.63261787],\n",
              "       [ 3.        ,  1.3106777 ],\n",
              "       [ 3.2       ,  0.32561105],\n",
              "       [ 3.4       , -2.65116887],\n",
              "       [ 3.6       , -1.26403255],\n",
              "       [ 3.8       , -0.71371289]])"
            ]
          },
          "metadata": {
            "tags": []
          },
          "execution_count": 3
        }
      ]
    },
    {
      "cell_type": "code",
      "metadata": {
        "id": "RU45LuKWDm9o",
        "colab_type": "code",
        "colab": {
          "base_uri": "https://localhost:8080/",
          "height": 527
        },
        "outputId": "57af7344-4ea7-4624-db57-194b564118e3"
      },
      "source": [
        "f, ax = plt.subplots(figsize=(10,10))\n",
        "ax.scatter(A[:,0], A[:,1])\n",
        "ax.set_title(\"Original data\")\n",
        "ax.set_aspect('equal')\n",
        "ax.grid(True)\n",
        "\n",
        "plt.xlim([-5,5])\n",
        "plt.ylim([-4,4])"
      ],
      "execution_count": 4,
      "outputs": [
        {
          "output_type": "execute_result",
          "data": {
            "text/plain": [
              "(-4.0, 4.0)"
            ]
          },
          "metadata": {
            "tags": []
          },
          "execution_count": 4
        },
        {
          "output_type": "display_data",
          "data": {
            "image/png": "[encoded data removed]",
            "text/plain": [
              "<Figure size 720x720 with 1 Axes>"
            ]
          },
          "metadata": {
            "tags": [],
            "needs_background": "light"
          }
        }
      ]
    },
    {
      "cell_type": "code",
      "metadata": {
        "id": "fXsfXjfjDm9r",
        "colab_type": "code",
        "colab": {}
      },
      "source": [
        "A = (A-np.mean(A,axis=0))"
      ],
      "execution_count": 5,
      "outputs": []
    },
    {
      "cell_type": "code",
      "metadata": {
        "id": "UJzt4wM5Dm9w",
        "colab_type": "code",
        "colab": {
          "base_uri": "https://localhost:8080/",
          "height": 191
        },
        "outputId": "1587f735-95a5-4012-b9f9-34fb2a1b69be"
      },
      "source": [
        "A"
      ],
      "execution_count": 6,
      "outputs": [
        {
          "output_type": "execute_result",
          "data": {
            "text/plain": [
              "array([[-0.9       , -2.12538994],\n",
              "       [-0.7       ,  1.85789977],\n",
              "       [-0.5       ,  3.21254412],\n",
              "       [-0.3       ,  0.08167682],\n",
              "       [-0.1       ,  2.18816403],\n",
              "       [ 0.1       ,  0.86622385],\n",
              "       [ 0.3       , -0.1188428 ],\n",
              "       [ 0.5       , -3.09562271],\n",
              "       [ 0.7       , -1.7084864 ],\n",
              "       [ 0.9       , -1.15816674]])"
            ]
          },
          "metadata": {
            "tags": []
          },
          "execution_count": 6
        }
      ]
    },
    {
      "cell_type": "code",
      "metadata": {
        "id": "tyVjRgQpDm93",
        "colab_type": "code",
        "colab": {
          "base_uri": "https://localhost:8080/",
          "height": 527
        },
        "outputId": "78b8ca3c-762d-4353-935e-f07d29fac45f"
      },
      "source": [
        "f, ax = plt.subplots(figsize=(10,10))\n",
        "ax.scatter(A[:,0], A[:,1])\n",
        "ax.set_title(\"Centred data\")\n",
        "ax.set_aspect('equal')\n",
        "ax.grid(True)\n",
        "\n",
        "plt.xlim([-5,5])\n",
        "plt.ylim([-4,4])"
      ],
      "execution_count": 7,
      "outputs": [
        {
          "output_type": "execute_result",
          "data": {
            "text/plain": [
              "(-4.0, 4.0)"
            ]
          },
          "metadata": {
            "tags": []
          },
          "execution_count": 7
        },
        {
          "output_type": "display_data",
          "data": {
            "image/png": "[encoded data removed]",
            "text/plain": [
              "<Figure size 720x720 with 1 Axes>"
            ]
          },
          "metadata": {
            "tags": [],
            "needs_background": "light"
          }
        }
      ]
    },
    {
      "cell_type": "code",
      "metadata": {
        "id": "XNLYy1lsDm97",
        "colab_type": "code",
        "colab": {}
      },
      "source": [
        "evecs, eigenvalues, V = np.linalg.svd(A.T, full_matrices=False)"
      ],
      "execution_count": 8,
      "outputs": []
    },
    {
      "cell_type": "code",
      "metadata": {
        "id": "t_YXI3E4Dm9_",
        "colab_type": "code",
        "colab": {
          "base_uri": "https://localhost:8080/",
          "height": 52
        },
        "outputId": "698998c1-5524-447b-b90b-913741a96714"
      },
      "source": [
        "evecs"
      ],
      "execution_count": 9,
      "outputs": [
        {
          "output_type": "execute_result",
          "data": {
            "text/plain": [
              "array([[-0.14027773,  0.9901122 ],\n",
              "       [ 0.9901122 ,  0.14027773]])"
            ]
          },
          "metadata": {
            "tags": []
          },
          "execution_count": 9
        }
      ]
    },
    {
      "cell_type": "code",
      "metadata": {
        "id": "GzBZk9TwDm-G",
        "colab_type": "code",
        "colab": {
          "base_uri": "https://localhost:8080/",
          "height": 35
        },
        "outputId": "8d4880fe-88ff-4fbb-bdbf-88a9b81d4192"
      },
      "source": [
        "eigenvalues"
      ],
      "execution_count": 10,
      "outputs": [
        {
          "output_type": "execute_result",
          "data": {
            "text/plain": [
              "array([6.19647908, 1.61106079])"
            ]
          },
          "metadata": {
            "tags": []
          },
          "execution_count": 10
        }
      ]
    },
    {
      "cell_type": "code",
      "metadata": {
        "id": "F6JeNqZcDm-P",
        "colab_type": "code",
        "colab": {}
      },
      "source": [
        "x = []\n",
        "y = []\n",
        "for i in range (-4,4):\n",
        "    x.append(i)\n",
        "    y.append(evecs[1,1] * i / evecs[0,1])    \n"
      ],
      "execution_count": 11,
      "outputs": []
    },
    {
      "cell_type": "code",
      "metadata": {
        "id": "CyuQXG8jDm-V",
        "colab_type": "code",
        "colab": {
          "base_uri": "https://localhost:8080/",
          "height": 527
        },
        "outputId": "46197353-6525-441f-9c29-42767f16631d"
      },
      "source": [
        "f, ax = plt.subplots(figsize=(10,10))\n",
        "ax.scatter(A[:,0], A[:,1])\n",
        "ax.set_title(\"Centred data\")\n",
        "ax.set_aspect('equal')\n",
        "ax.grid(True)\n",
        "\n",
        "plt.xlim([-5,5])\n",
        "plt.ylim([-4,4])\n",
        "ax.plot(x, y, linestyle='-')"
      ],
      "execution_count": 12,
      "outputs": [
        {
          "output_type": "execute_result",
          "data": {
            "text/plain": [
              "[<matplotlib.lines.Line2D at 0x7fdfa05790f0>]"
            ]
          },
          "metadata": {
            "tags": []
          },
          "execution_count": 12
        },
        {
          "output_type": "display_data",
          "data": {
            "image/png": "[encoded data removed]",
            "text/plain": [
              "<Figure size 720x720 with 1 Axes>"
            ]
          },
          "metadata": {
            "tags": [],
            "needs_background": "light"
          }
        }
      ]
    },
    {
      "cell_type": "code",
      "metadata": {
        "id": "VF3jAE0iDm-Z",
        "colab_type": "code",
        "colab": {
          "base_uri": "https://localhost:8080/",
          "height": 510
        },
        "outputId": "eb526a77-515f-43be-b7eb-17da40a21767"
      },
      "source": [
        "f, ax = plt.subplots(figsize=(10,10))\n",
        "ax.scatter(A[:,0], A[:,1])\n",
        "ax.set_title(\"New dimension / projection\")\n",
        "ax.set_aspect('equal')\n",
        "ax.grid(True)\n",
        "\n",
        "plt.xlim([-5,5])\n",
        "plt.ylim([-4,4])\n",
        "ax.plot(x, y, linestyle='-')\n",
        "\n",
        "p0 = [x[0],y[0]]\n",
        "p1 = [x[len(x)-1],y[len(x)-1]]\n",
        "\n",
        "a = np.array([[p1[0]-p0[0], p1[1]-p0[1]],\n",
        "              [p0[1]-p1[1], p1[0]-p0[0]]])\n",
        "\n",
        "for i in range(0, len(A)):\n",
        "    q  = A[i]    \n",
        "    \n",
        "    b = -np.array([-q[0]*(p1[0]-p0[0]) - q[1]*(p1[1]-p0[1]),\n",
        "                   -p0[1]*(p1[0]-p0[0])+ p0[0]*(p1[1]-p0[1])])\n",
        "\n",
        "    proj = np.linalg.solve(a,b)\n",
        "    \n",
        "    ax.plot(proj[0],proj[1], 'bo', markersize=4, color='red')\n",
        "    ax.plot((q[0],proj[0]),(q[1],proj[1]), linestyle='--', color='red')     "
      ],
      "execution_count": 14,
      "outputs": [
        {
          "output_type": "display_data",
          "data": {
            "image/png": "[encoded data removed]",
            "text/plain": [
              "<Figure size 720x720 with 1 Axes>"
            ]
          },
          "metadata": {
            "tags": [],
            "needs_background": "light"
          }
        }
      ]
    }
  ]
}
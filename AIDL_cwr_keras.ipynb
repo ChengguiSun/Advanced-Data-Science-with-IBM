{
  "nbformat": 4,
  "nbformat_minor": 0,
  "metadata": {
    "kernelspec": {
      "display_name": "Python 3.5",
      "language": "python",
      "name": "python3"
    },
    "language_info": {
      "codemirror_mode": {
        "name": "ipython",
        "version": 3
      },
      "file_extension": ".py",
      "mimetype": "text/x-python",
      "name": "python",
      "nbconvert_exporter": "python",
      "pygments_lexer": "ipython3",
      "version": "3.5.5"
    },
    "colab": {
      "name": "AIDL_cwr_keras.ipynb",
      "provenance": [],
      "collapsed_sections": []
    }
  },
  "cells": [
    {
      "cell_type": "code",
      "metadata": {
        "id": "qTzeKpDhhLzk",
        "colab_type": "code",
        "colab": {}
      },
      "source": [
        "import pandas as pd\n",
        "df_healthy = pd.read_csv('result_healthy_pandas.csv', engine='python', header=None)\n",
        "df_healthy.head()"
      ],
      "execution_count": null,
      "outputs": []
    },
    {
      "cell_type": "code",
      "metadata": {
        "id": "_ex6AYjMhLzq",
        "colab_type": "code",
        "colab": {}
      },
      "source": [
        "df_healthy.loc[df_healthy[1] == 100]"
      ],
      "execution_count": null,
      "outputs": []
    },
    {
      "cell_type": "code",
      "metadata": {
        "id": "0u1J9QuahLzu",
        "colab_type": "code",
        "colab": {}
      },
      "source": [
        "df_faulty = pd.read_csv('result_faulty_pandas.csv', engine='python', header=None)\n",
        "df_faulty.head()"
      ],
      "execution_count": null,
      "outputs": []
    },
    {
      "cell_type": "code",
      "metadata": {
        "id": "B9YhMR4fhLzz",
        "colab_type": "code",
        "colab": {}
      },
      "source": [
        "import numpy as np\n",
        "from numpy import concatenate\n",
        "from matplotlib import pyplot\n",
        "from pandas import read_csv\n",
        "from pandas import DataFrame\n",
        "from pandas import concat\n",
        "import sklearn\n",
        "from sklearn.preprocessing import MinMaxScaler\n",
        "from sklearn.preprocessing import MinMaxScaler\n",
        "from sklearn.preprocessing import LabelEncoder\n",
        "from sklearn.metrics import mean_squared_error\n",
        "from keras.models import Sequential\n",
        "from keras.layers import Dense\n",
        "from keras.layers import LSTM\n",
        "from keras.callbacks import Callback\n",
        "from keras.models import Sequential\n",
        "from keras.layers import LSTM, Dense, Activation\n",
        "import matplotlib.pyplot as plt\n",
        "from mpl_toolkits.mplot3d import Axes3D\n",
        "import time\n",
        "%matplotlib inline"
      ],
      "execution_count": null,
      "outputs": []
    },
    {
      "cell_type": "code",
      "metadata": {
        "id": "S1NSH1VbhLz2",
        "colab_type": "code",
        "colab": {}
      },
      "source": [
        "def get_recording(df,file_id):\n",
        "    return np.array(df.sort_values(by=0, ascending=True).loc[df[1] == file_id].drop(0,1).drop(1,1))\n"
      ],
      "execution_count": null,
      "outputs": []
    },
    {
      "cell_type": "code",
      "metadata": {
        "id": "1gFZRfKJhLz6",
        "colab_type": "code",
        "colab": {}
      },
      "source": [
        "import numpy as np\n",
        "healthy_sample = get_recording(df_healthy,100)\n",
        "faulty_sample = get_recording(df_faulty,125)"
      ],
      "execution_count": null,
      "outputs": []
    },
    {
      "cell_type": "code",
      "metadata": {
        "id": "Ae4XYzR2hL0A",
        "colab_type": "code",
        "colab": {}
      },
      "source": [
        "fig, ax = plt.subplots(num=None, figsize=(14, 6), dpi=80, facecolor='w', edgecolor='k')\n",
        "size = len(healthy_sample)\n",
        "ax.plot(range(0,size), healthy_sample[:,0], '-', color='red', animated = True, linewidth=1)\n",
        "ax.plot(range(0,size), healthy_sample[:,1], '-', color='blue', animated = True, linewidth=1)"
      ],
      "execution_count": null,
      "outputs": []
    },
    {
      "cell_type": "code",
      "metadata": {
        "id": "AzyZKBuahL0E",
        "colab_type": "code",
        "colab": {}
      },
      "source": [
        "fig, ax = plt.subplots(num=None, figsize=(14, 6), dpi=80, facecolor='w', edgecolor='k')\n",
        "size = len(faulty_sample)\n",
        "ax.plot(range(0,size), faulty_sample[:,1], '-', color='red', animated = True, linewidth=1)\n",
        "ax.plot(range(0,size), faulty_sample[:,0], '-', color='blue', animated = True, linewidth=1)"
      ],
      "execution_count": null,
      "outputs": []
    },
    {
      "cell_type": "code",
      "metadata": {
        "id": "0P26WvSThL0H",
        "colab_type": "code",
        "colab": {}
      },
      "source": [
        "fig, ax = plt.subplots(num=None, figsize=(14, 6), dpi=80, facecolor='w', edgecolor='k')\n",
        "ax.plot(range(0,500), healthy_sample[:500,0], '-', color='red', animated = True, linewidth=1)\n",
        "ax.plot(range(0,500), healthy_sample[:500,1], '-', color='blue', animated = True, linewidth=1)"
      ],
      "execution_count": null,
      "outputs": []
    },
    {
      "cell_type": "code",
      "metadata": {
        "id": "q1Hx19V8hL0K",
        "colab_type": "code",
        "colab": {}
      },
      "source": [
        "fig, ax = plt.subplots(num=None, figsize=(14, 6), dpi=80, facecolor='w', edgecolor='k')\n",
        "ax.plot(range(0,500), faulty_sample[:500,0], '-', color='red', animated = True, linewidth=1)\n",
        "ax.plot(range(0,500), faulty_sample[:500,1], '-', color='blue', animated = True, linewidth=1)"
      ],
      "execution_count": null,
      "outputs": []
    },
    {
      "cell_type": "code",
      "metadata": {
        "id": "MDLzZGKOhL0Q",
        "colab_type": "code",
        "colab": {}
      },
      "source": [
        "class LossHistory(Callback):\n",
        "    def on_train_begin(self, logs={}):\n",
        "        self.losses = []\n",
        "\n",
        "    def on_batch_end(self, batch, logs={}):\n",
        "        self.losses.append(logs.get('loss'))"
      ],
      "execution_count": null,
      "outputs": []
    },
    {
      "cell_type": "code",
      "metadata": {
        "id": "NzA3rmgjhL0W",
        "colab_type": "code",
        "colab": {}
      },
      "source": [
        "timesteps = 100\n",
        "dim = 2\n",
        "lossHistory = LossHistory()\n",
        "# design network\n",
        "\n",
        "model = Sequential()\n",
        "model.add(LSTM(50,input_shape=(timesteps,dim),return_sequences=True))\n",
        "model.add(Dense(2))\n",
        "model.compile(loss='mae', optimizer='adam')\n",
        "\n",
        "def train(data):\n",
        "    model.fit(data, data, epochs=20, batch_size=72, validation_data=(data, data), verbose=1, shuffle=False,callbacks=[lossHistory])\n",
        "\n",
        "def score(data):\n",
        "    yhat =  model.predict(data)\n",
        "    return yhat"
      ],
      "execution_count": null,
      "outputs": []
    },
    {
      "cell_type": "code",
      "metadata": {
        "id": "Pid-i4Y_hL0Z",
        "colab_type": "code",
        "colab": {}
      },
      "source": [
        "#some learners constantly reported 502 errors in Watson Studio. \n",
        "#This is due to the limited resources in the free tier and the heavy resource consumption of Keras.\n",
        "#This is a workaround to limit resource consumption\n",
        "\n",
        "from keras import backend as K\n",
        "\n",
        "K.set_session(K.tf.Session(config=K.tf.ConfigProto(intra_op_parallelism_threads=1, inter_op_parallelism_threads=1)))\n"
      ],
      "execution_count": null,
      "outputs": []
    },
    {
      "cell_type": "code",
      "metadata": {
        "id": "_CtXHS6ihL0c",
        "colab_type": "code",
        "colab": {}
      },
      "source": [
        "def create_trimmed_recording(df,file_id):\n",
        "    recording = get_recording(df,file_id) \n",
        "    samples = len(recording)\n",
        "    trim = samples % 100\n",
        "    recording_trimmed = recording[:samples-trim]\n",
        "    recording_trimmed.shape = (int((samples-trim)/timesteps),timesteps,dim)\n",
        "    return recording_trimmed\n"
      ],
      "execution_count": null,
      "outputs": []
    },
    {
      "cell_type": "code",
      "metadata": {
        "id": "PC_uq6wUhL0h",
        "colab_type": "code",
        "colab": {}
      },
      "source": [
        "#pd.unique()\n",
        "#df_healthy.drop(0,1).drop(2,1).drop(3,1)\n",
        "pd.unique(df_healthy.iloc[:,1])"
      ],
      "execution_count": null,
      "outputs": []
    },
    {
      "cell_type": "code",
      "metadata": {
        "id": "THer_51BhL0k",
        "colab_type": "code",
        "colab": {}
      },
      "source": [
        "file_ids = pd.unique(df_healthy.iloc[:,1])\n",
        "start = time.time()\n",
        "for file_id in file_ids:\n",
        "    recording_trimmed = create_trimmed_recording(df_healthy,file_id)\n",
        "    print(\"Staring training on %s\" % (file_id))\n",
        "    train(recording_trimmed)\n",
        "    print(\"Finished training on %s after %s seconds\" % (file_id,time.time()-start))\n",
        "\n",
        "print(\"Finished job on after %s seconds\" % (time.time()-start))\n",
        "healthy_losses = lossHistory.losses\n"
      ],
      "execution_count": null,
      "outputs": []
    },
    {
      "cell_type": "code",
      "metadata": {
        "id": "IztZhDuyhL0m",
        "colab_type": "code",
        "colab": {}
      },
      "source": [
        "fig, ax = plt.subplots(num=None, figsize=(14, 6), dpi=80, facecolor='w', edgecolor='k')\n",
        "size = len(healthy_losses)\n",
        "plt.ylim(0,0.008)\n",
        "ax.plot(range(0,size), healthy_losses, '-', color='blue', animated = True, linewidth=1)"
      ],
      "execution_count": null,
      "outputs": []
    },
    {
      "cell_type": "code",
      "metadata": {
        "id": "s3-T_mVthL0q",
        "colab_type": "code",
        "colab": {}
      },
      "source": [
        "#file_ids = spark.sql('select distinct _c1 from df_healhty').rdd.map(lambda row : row._c1).collect()\n",
        "start = time.time()\n",
        "for file_id in [105]:\n",
        "    recording_trimmed = create_trimmed_recording(df_faulty,file_id)\n",
        "    print(\"Staring training on %s\" % (file_id))\n",
        "    train(recording_trimmed)\n",
        "    print(\"Finished training on %s after %s seconds\" % (file_id,time.time()-start))\n",
        "\n",
        "print(\"Finished job on after %s seconds\" % (time.time()-start))\n",
        "faulty_losses = lossHistory.losses"
      ],
      "execution_count": null,
      "outputs": []
    },
    {
      "cell_type": "code",
      "metadata": {
        "id": "s1AOTNJXhL00",
        "colab_type": "code",
        "colab": {}
      },
      "source": [
        "file_ids = pd.unique(df_faulty.iloc[:,1])\n",
        "start = time.time()\n",
        "for file_id in file_ids:\n",
        "    recording_trimmed = create_trimmed_recording(df_faulty,file_id)\n",
        "    print(\"Staring training on %s\" % (file_id))\n",
        "    train(recording_trimmed)\n",
        "    print(\"Finished training on %s after %s seconds\" % (file_id,time.time()-start))\n",
        "\n",
        "print(\"Finished job on after %s seconds\" % (time.time()-start))\n",
        "faulty_losses = lossHistory.losses\n"
      ],
      "execution_count": null,
      "outputs": []
    },
    {
      "cell_type": "code",
      "metadata": {
        "id": "5l9V0wu5hL03",
        "colab_type": "code",
        "colab": {}
      },
      "source": [
        "fig, ax = plt.subplots(num=None, figsize=(14, 6), dpi=80, facecolor='w', edgecolor='k')\n",
        "size = len(healthy_losses+faulty_losses)\n",
        "plt.ylim(0,0.008)\n",
        "ax.plot(range(0,size), healthy_losses+faulty_losses, '-', color='blue', animated = True, linewidth=1)"
      ],
      "execution_count": null,
      "outputs": []
    },
    {
      "cell_type": "code",
      "metadata": {
        "id": "key4xXnPhL06",
        "colab_type": "code",
        "colab": {}
      },
      "source": [
        ""
      ],
      "execution_count": null,
      "outputs": []
    }
  ]
}
{
  "nbformat": 4,
  "nbformat_minor": 0,
  "metadata": {
    "kernelspec": {
      "display_name": "Python 3.5",
      "language": "python",
      "name": "python3"
    },
    "language_info": {
      "codemirror_mode": {
        "name": "ipython",
        "version": 3
      },
      "file_extension": ".py",
      "mimetype": "text/x-python",
      "name": "python",
      "nbconvert_exporter": "python",
      "pygments_lexer": "ipython3",
      "version": "3.5.5"
    },
    "colab": {
      "name": "AIDL_cwr_etl.ipynb",
      "provenance": [],
      "collapsed_sections": []
    }
  },
  "cells": [
    {
      "cell_type": "code",
      "metadata": {
        "id": "7OTKgjVJeWtf",
        "colab_type": "code",
        "colab": {}
      },
      "source": [
        "import numpy as np\n",
        "import pandas as pd\n",
        "import scipy.io as sio\n",
        "import os"
      ],
      "execution_count": null,
      "outputs": []
    },
    {
      "cell_type": "code",
      "metadata": {
        "id": "KBjl8L7jeWtp",
        "colab_type": "code",
        "colab": {}
      },
      "source": [
        "!wget https://github.com/ChengguiSun/IBMADS_DATA/blob/master/97.mat\n",
        "!wget https://github.com/ChengguiSun/IBMADS_DATA/blob/master/98.mat\n",
        "!wget https://github.com/ChengguiSun/IBMADS_DATA/blob/master/99.mat\n",
        "!wget https://github.com/ChengguiSun/IBMADS_DATA/blob/master/100.mat"
      ],
      "execution_count": null,
      "outputs": []
    },
    {
      "cell_type": "code",
      "metadata": {
        "id": "fFxO3cL9eWtv",
        "colab_type": "code",
        "colab": {}
      },
      "source": [
        "!mkdir  cwr_healthy"
      ],
      "execution_count": null,
      "outputs": []
    },
    {
      "cell_type": "code",
      "metadata": {
        "id": "MRBq_EVheWt4",
        "colab_type": "code",
        "colab": {}
      },
      "source": [
        "move *.mat cwr_healthy/"
      ],
      "execution_count": null,
      "outputs": []
    },
    {
      "cell_type": "code",
      "metadata": {
        "id": "ysyLE1Q6eWt8",
        "colab_type": "code",
        "colab": {}
      },
      "source": [
        "def read_folder(folder):\n",
        "    data = 'dummy'\n",
        "    skip = False\n",
        "    for file in os.listdir(folder):\n",
        "        file_id = file[:-4]\n",
        "        mat_file_dict = sio.loadmat(folder+file)\n",
        "        del data\n",
        "        for key, value in mat_file_dict.items():\n",
        "            if 'DE_time' in key or 'FE_time' in key:\n",
        "                a = np.array(mat_file_dict[key])\n",
        "                try:\n",
        "                    data\n",
        "                except NameError:\n",
        "                    data = a\n",
        "                else:\n",
        "                    if (data.shape[0] != a.shape[0]):\n",
        "                        print('skipping ' + file_id)\n",
        "                        skip = True\n",
        "                        continue\n",
        "                    data = np.hstack((data,a))\n",
        "        if skip:\n",
        "            skip=False\n",
        "            continue\n",
        "        id = np.repeat(file_id,data.shape[0])\n",
        "        id.shape = (id.shape[0],1)\n",
        "        data = np.hstack((id,data))\n",
        "        if data.shape[1] == 2:\n",
        "            zeros = np.repeat(float(0),data.shape[0])\n",
        "            zeros.shape =(data.shape[0],1)\n",
        "            data = np.hstack((data,zeros))\n",
        "        try:\n",
        "            result\n",
        "        except NameError:\n",
        "            result = data\n",
        "        else:\n",
        "            result = np.vstack((result,data))\n",
        "    return result"
      ],
      "execution_count": null,
      "outputs": []
    },
    {
      "cell_type": "code",
      "metadata": {
        "id": "AdKwYmA8eWt_",
        "colab_type": "code",
        "colab": {}
      },
      "source": [
        "result_healthy = read_folder('./cwr_healthy/')"
      ],
      "execution_count": null,
      "outputs": []
    },
    {
      "cell_type": "code",
      "metadata": {
        "id": "A71qQtQxeWuD",
        "colab_type": "code",
        "colab": {}
      },
      "source": [
        "pdf = pd.DataFrame(result_healthy)"
      ],
      "execution_count": null,
      "outputs": []
    },
    {
      "cell_type": "code",
      "metadata": {
        "id": "z7Q2n6QCeWuL",
        "colab_type": "code",
        "colab": {}
      },
      "source": [
        "pdf.to_csv('result_healthy_pandas.csv', header=False, index=True)"
      ],
      "execution_count": null,
      "outputs": []
    },
    {
      "cell_type": "code",
      "metadata": {
        "id": "YdfjauOGeWuP",
        "colab_type": "code",
        "colab": {}
      },
      "source": [
        "#!for url in `curl -s csegroups.case.edu/bearingdatacenter/pages/12k-drive-end-bearing-fault-data |grep mat |grep http |awk -F'href=\"' '{print $2}' |awk -F'\">' '{print $1}'`; do wget $url; done\n",
        "#!for url in `curl -s csegroups.case.edu/bearingdatacenter/pages/48k-drive-end-bearing-fault-data |grep mat |grep http |awk -F'href=\"' '{print $2}' |awk -F'\">' '{print $1}'`; do wget $url; done\n",
        "#!for url in `curl -s csegroups.case.edu/bearingdatacenter/pages/12k-fan-end-bearing-fault-data |grep mat |grep http |awk -F'href=\"' '{print $2}' |awk -F'\">' '{print $1}'`; do wget $url; done\n",
        "#!mkdir cwr_faulty\n",
        "#!mv *.mat cwr_faulty/"
      ],
      "execution_count": null,
      "outputs": []
    },
    {
      "cell_type": "code",
      "metadata": {
        "id": "TC4wG4sceWuS",
        "colab_type": "code",
        "colab": {}
      },
      "source": [
        "!wget http://csegroups.case.edu/sites/default/files/bearingdatacenter/files/Datafiles/105.mat\n",
        "!wget http://csegroups.case.edu/sites/default/files/bearingdatacenter/files/Datafiles/106.mat\n",
        "!wget http://csegroups.case.edu/sites/default/files/bearingdatacenter/files/Datafiles/107.mat\n",
        "!wget http://csegroups.case.edu/sites/default/files/bearingdatacenter/files/Datafiles/108.mat"
      ],
      "execution_count": null,
      "outputs": []
    },
    {
      "cell_type": "code",
      "metadata": {
        "id": "f3RmKCdCeWuY",
        "colab_type": "code",
        "colab": {}
      },
      "source": [
        "!mkdir cwr_faulty\n",
        "!mv *.mat cwr_faulty/"
      ],
      "execution_count": null,
      "outputs": []
    },
    {
      "cell_type": "code",
      "metadata": {
        "id": "eVJqbWCIeWue",
        "colab_type": "code",
        "colab": {}
      },
      "source": [
        "!ls cwr_faulty/"
      ],
      "execution_count": null,
      "outputs": []
    },
    {
      "cell_type": "code",
      "metadata": {
        "id": "jztzAAxCeWuh",
        "colab_type": "code",
        "colab": {}
      },
      "source": [
        "result_faulty = read_folder('./cwr_faulty/')"
      ],
      "execution_count": null,
      "outputs": []
    },
    {
      "cell_type": "code",
      "metadata": {
        "id": "fL8LywZDeWuo",
        "colab_type": "code",
        "colab": {}
      },
      "source": [
        "pdf = pd.DataFrame(result_faulty)"
      ],
      "execution_count": null,
      "outputs": []
    },
    {
      "cell_type": "code",
      "metadata": {
        "id": "dvdmnAWGeWur",
        "colab_type": "code",
        "colab": {}
      },
      "source": [
        "pdf.to_csv('result_faulty_pandas.csv', header=False, index=True)"
      ],
      "execution_count": null,
      "outputs": []
    }
  ]
}
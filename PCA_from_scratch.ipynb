{
  "nbformat": 4,
  "nbformat_minor": 0,
  "metadata": {
    "kernelspec": {
      "display_name": "Python 3.5",
      "name": "python3",
      "language": "python"
    },
    "language_info": {
      "mimetype": "text/x-python",
      "nbconvert_exporter": "python",
      "version": "3.5.4",
      "name": "python",
      "pygments_lexer": "ipython3",
      "file_extension": ".py",
      "codemirror_mode": {
        "version": 3,
        "name": "ipython"
      }
    },
    "colab": {
      "name": "PCA from scratch.ipynb",
      "provenance": []
    }
  },
  "cells": [
    {
      "cell_type": "code",
      "metadata": {
        "id": "kSAHZEvbDlba",
        "colab_type": "code",
        "colab": {}
      },
      "source": [
        "import numpy as np\n",
        "import matplotlib.pyplot as plt\n",
        "import math\n",
        "from sklearn import decomposition\n",
        "\n",
        "def plot_arrow(ax, start, stop):\n",
        "    ax.annotate('', xytext=start, xy=stop,                 \n",
        "                arrowprops=dict(facecolor='red', width=2.0))\n",
        "    \n",
        "def corr_vars( start=-10, stop=10, step=0.5, mu=0, sigma=3, func=lambda x: x ):\n",
        "    x = np.arange(start, stop, step)    \n",
        "    e = np.random.normal(mu, sigma, x.size)\n",
        "    y = np.zeros(x.size)\n",
        "    \n",
        "    for ind in range(x.size):\n",
        "        y[ind] = func(x[ind]) + e[ind]\n",
        "    \n",
        "    return (x,y)"
      ],
      "execution_count": 1,
      "outputs": []
    },
    {
      "cell_type": "code",
      "metadata": {
        "id": "v9lxFSw3Dlbg",
        "colab_type": "code",
        "colab": {
          "base_uri": "https://localhost:8080/",
          "height": 191
        },
        "outputId": "e0ed419e-11a0-478b-ba6f-07138df84af6"
      },
      "source": [
        "np.random.seed(100)\n",
        "\n",
        "(x1,x2) = corr_vars(start=2, stop=4, step=0.2, sigma=2, func=lambda x: 2*math.sin(x))\n",
        "\n",
        "A = np.column_stack((x1,x2))\n",
        "\n",
        "Aorig = A\n",
        "\n",
        "A"
      ],
      "execution_count": 2,
      "outputs": [
        {
          "output_type": "execute_result",
          "data": {
            "text/plain": [
              "array([[ 2.        , -1.68093609],\n",
              "       [ 2.2       ,  2.30235361],\n",
              "       [ 2.4       ,  3.65699797],\n",
              "       [ 2.6       ,  0.52613067],\n",
              "       [ 2.8       ,  2.63261787],\n",
              "       [ 3.        ,  1.3106777 ],\n",
              "       [ 3.2       ,  0.32561105],\n",
              "       [ 3.4       , -2.65116887],\n",
              "       [ 3.6       , -1.26403255],\n",
              "       [ 3.8       , -0.71371289]])"
            ]
          },
          "metadata": {
            "tags": []
          },
          "execution_count": 2
        }
      ]
    },
    {
      "cell_type": "code",
      "metadata": {
        "id": "bco-pwQqDlbq",
        "colab_type": "code",
        "colab": {
          "base_uri": "https://localhost:8080/",
          "height": 299
        },
        "outputId": "49187c9d-fefc-4be2-b574-91edd5968a40"
      },
      "source": [
        "A = (A-np.mean(A,axis=0))\n",
        "\n",
        "# Plot the original matrix\n",
        "f, (ax1, ax2) = plt.subplots(1, 2, sharey=True, figsize=(7,4))\n",
        "ax1.scatter(Aorig[:,0], Aorig[:,1])\n",
        "ax1.set_title(\"Original data\")\n",
        "ax1.grid(True)\n",
        "\n",
        "# Plot the centered data\n",
        "ax2.scatter(A[:,0],A[:,1])\n",
        "ax2.set_title(\"Centered data\")\n",
        "ax2.grid(True)\n",
        "\n",
        "ax1.axhline(0, color=\"blue\")\n",
        "ax1.axvline(0, color=\"blue\")\n",
        "ax2.axhline(0, color=\"blue\")\n",
        "ax2.axvline(0, color=\"blue\")\n",
        "\n",
        "plt.xlim([-2,5])\n",
        "plt.ylim([-4,5])"
      ],
      "execution_count": 3,
      "outputs": [
        {
          "output_type": "execute_result",
          "data": {
            "text/plain": [
              "(-4.0, 5.0)"
            ]
          },
          "metadata": {
            "tags": []
          },
          "execution_count": 3
        },
        {
          "output_type": "display_data",
          "data": {
            "image/png": "[encoded data removed]",
            "text/plain": [
              "<Figure size 504x288 with 2 Axes>"
            ]
          },
          "metadata": {
            "tags": [],
            "needs_background": "light"
          }
        }
      ]
    },
    {
      "cell_type": "code",
      "metadata": {
        "id": "fCUp8ZOwDlbw",
        "colab_type": "code",
        "colab": {
          "base_uri": "https://localhost:8080/",
          "height": 87
        },
        "outputId": "8820fac1-909c-4306-ccb7-2907526b4723"
      },
      "source": [
        "S = np.dot(A.T,A)/(A.shape[0]-1)\n",
        "\n",
        "print(\"The covariance matrix is:\")\n",
        "print(S,\"\\n\")"
      ],
      "execution_count": 4,
      "outputs": [
        {
          "output_type": "stream",
          "text": [
            "The covariance matrix is:\n",
            "[[ 0.36666667 -0.55248919]\n",
            " [-0.55248919  4.18798554]] \n",
            "\n"
          ],
          "name": "stdout"
        }
      ]
    },
    {
      "cell_type": "code",
      "metadata": {
        "id": "cfQKDOMBDlb2",
        "colab_type": "code",
        "colab": {
          "base_uri": "https://localhost:8080/",
          "height": 316
        },
        "outputId": "7a213b05-84c5-412a-8db7-7bfda6be7d00"
      },
      "source": [
        "f, ax1 = plt.subplots(1, 1, sharey=True, figsize=(12,4))\n",
        "\n",
        "V = np.array([[-1],[0]])\n",
        "print(\"Vector slope: \",V[1]/V[0])\n",
        "ax1.scatter(A[:,0],A[:,1])\n",
        "ax1.set_title(\"Vector [-1,1]\")\n",
        "ax1.grid(True)\n",
        "ax1.plot([0,V[0]],[0,V[1]],c='r')\n",
        "plot_arrow(ax1, (0,0),(V[0],V[1]))\n",
        "plt.xlim([-5,5])\n",
        "plt.ylim([-5,5])"
      ],
      "execution_count": 5,
      "outputs": [
        {
          "output_type": "stream",
          "text": [
            "Vector slope:  [-0.]\n"
          ],
          "name": "stdout"
        },
        {
          "output_type": "execute_result",
          "data": {
            "text/plain": [
              "(-5.0, 5.0)"
            ]
          },
          "metadata": {
            "tags": []
          },
          "execution_count": 5
        },
        {
          "output_type": "display_data",
          "data": {
            "image/png": "[encoded data removed]",
            "text/plain": [
              "<Figure size 864x288 with 1 Axes>"
            ]
          },
          "metadata": {
            "tags": [],
            "needs_background": "light"
          }
        }
      ]
    },
    {
      "cell_type": "code",
      "metadata": {
        "id": "30PsSYfbDlb7",
        "colab_type": "code",
        "colab": {
          "base_uri": "https://localhost:8080/",
          "height": 316
        },
        "outputId": "a32c3e29-f257-46a5-f51e-fa5ffbecc205"
      },
      "source": [
        "f, ax1 = plt.subplots(1, 1, sharey=True, figsize=(12,4))\n",
        "\n",
        "V = np.dot(S,V)\n",
        "print(\"Vector slope: \",V[1]/V[0])\n",
        "ax1.scatter(A[:,0],A[:,1])\n",
        "ax1.set_title(\"Vector [-1,1]\")\n",
        "ax1.grid(True)\n",
        "ax1.plot([0,V[0]],[0,V[1]],c='r')\n",
        "plot_arrow(ax1, (0,0),(V[0],V[1]))\n",
        "\n",
        "plt.xlim([-5,5])\n",
        "plt.ylim([-5,5])"
      ],
      "execution_count": 6,
      "outputs": [
        {
          "output_type": "stream",
          "text": [
            "Vector slope:  [-1.50678871]\n"
          ],
          "name": "stdout"
        },
        {
          "output_type": "execute_result",
          "data": {
            "text/plain": [
              "(-5.0, 5.0)"
            ]
          },
          "metadata": {
            "tags": []
          },
          "execution_count": 6
        },
        {
          "output_type": "display_data",
          "data": {
            "image/png": "[encoded data removed]",
            "text/plain": [
              "<Figure size 864x288 with 1 Axes>"
            ]
          },
          "metadata": {
            "tags": [],
            "needs_background": "light"
          }
        }
      ]
    },
    {
      "cell_type": "code",
      "metadata": {
        "id": "I_DnKWeFDlb_",
        "colab_type": "code",
        "colab": {
          "base_uri": "https://localhost:8080/",
          "height": 316
        },
        "outputId": "96b890bb-5281-4e09-bdaa-347a82e7b758"
      },
      "source": [
        "f, ax1 = plt.subplots(1, 1, sharey=True, figsize=(12,4))\n",
        "\n",
        "V = np.dot(S,V)\n",
        "print(\"Vector slope: \",V[1]/V[0])\n",
        "ax1.scatter(A[:,0],A[:,1])\n",
        "ax1.set_title(\"Vector [-1,1]\")\n",
        "ax1.grid(True)\n",
        "ax1.plot([0,V[0]],[0,V[1]],c='r')\n",
        "plot_arrow(ax1, (0,0),(V[0],V[1]))\n",
        "\n",
        "plt.xlim([-5,5])\n",
        "plt.ylim([-5,5])"
      ],
      "execution_count": 7,
      "outputs": [
        {
          "output_type": "stream",
          "text": [
            "Vector slope:  [-5.72313052]\n"
          ],
          "name": "stdout"
        },
        {
          "output_type": "execute_result",
          "data": {
            "text/plain": [
              "(-5.0, 5.0)"
            ]
          },
          "metadata": {
            "tags": []
          },
          "execution_count": 7
        },
        {
          "output_type": "display_data",
          "data": {
            "image/png": "[encoded data removed]",
            "text/plain": [
              "<Figure size 864x288 with 1 Axes>"
            ]
          },
          "metadata": {
            "tags": [],
            "needs_background": "light"
          }
        }
      ]
    },
    {
      "cell_type": "code",
      "metadata": {
        "id": "idcq9A4cDlcE",
        "colab_type": "code",
        "colab": {
          "base_uri": "https://localhost:8080/",
          "height": 426
        },
        "outputId": "7cee1099-0e91-41a0-d633-ba06d95bbcf7"
      },
      "source": [
        "f, ax1 = plt.subplots(1, 1, sharey=True, figsize=(12,4))\n",
        "\n",
        "V = np.dot(S,V)\n",
        "print(\"Vector slope: \",V[1]/V[0])\n",
        "ax1.scatter(A[:,0],A[:,1])\n",
        "ax1.set_title(\"Vector [-1,1]\")\n",
        "ax1.grid(True)\n",
        "ax1.plot([0,V[0]],[0,V[1]],c='r')\n",
        "plot_arrow(ax1, (0,0),(V[0],V[1]))\n",
        "\n",
        "plt.xlim([-5,5])\n",
        "plt.ylim([-5,5])"
      ],
      "execution_count": 8,
      "outputs": [
        {
          "output_type": "stream",
          "text": [
            "Vector slope:  [-6.94911232]\n"
          ],
          "name": "stdout"
        },
        {
          "output_type": "execute_result",
          "data": {
            "text/plain": [
              "(-5.0, 5.0)"
            ]
          },
          "metadata": {
            "tags": []
          },
          "execution_count": 8
        },
        {
          "output_type": "display_data",
          "data": {
            "image/png": "[encoded data removed]",
            "text/plain": [
              "<Figure size 864x288 with 1 Axes>"
            ]
          },
          "metadata": {
            "tags": [],
            "needs_background": "light"
          }
        }
      ]
    },
    {
      "cell_type": "code",
      "metadata": {
        "id": "a9iT1evADlcM",
        "colab_type": "code",
        "colab": {
          "base_uri": "https://localhost:8080/",
          "height": 156
        },
        "outputId": "8b30f9e0-2070-4e2f-a37a-1bcb235b41c1"
      },
      "source": [
        "print(\"The slope of the vector converges to the direction of greatest variance:\\n\")\n",
        "\n",
        "V = np.dot(S,V)\n",
        "print(\"Vector slope: \",V[1]/V[0])\n",
        "V = np.dot(S,V)\n",
        "print(\"Vector slope: \",V[1]/V[0])\n",
        "V = np.dot(S,V)\n",
        "print(\"Vector slope: \",V[1]/V[0])\n",
        "V = np.dot(S,V)\n",
        "print(\"Vector slope: \",V[1]/V[0])\n",
        "V = np.dot(S,V)\n",
        "print(\"Vector slope: \",V[1]/V[0])\n",
        "V = np.dot(S,V)\n",
        "print(\"Vector slope: \",V[1]/V[0])"
      ],
      "execution_count": 9,
      "outputs": [
        {
          "output_type": "stream",
          "text": [
            "The slope of the vector converges to the direction of greatest variance:\n",
            "\n",
            "Vector slope:  [-7.0507464]\n",
            "Vector slope:  [-7.0577219]\n",
            "Vector slope:  [-7.05819391]\n",
            "Vector slope:  [-7.05822582]\n",
            "Vector slope:  [-7.05822798]\n",
            "Vector slope:  [-7.05822813]\n"
          ],
          "name": "stdout"
        }
      ]
    },
    {
      "cell_type": "code",
      "metadata": {
        "id": "VjsK2HjeDlcQ",
        "colab_type": "code",
        "colab": {
          "base_uri": "https://localhost:8080/",
          "height": 69
        },
        "outputId": "f92af686-58a5-4751-e9f0-9bbd111b4697"
      },
      "source": [
        "# https://en.wikipedia.org/wiki/Eigenvalue_algorithm\n",
        "\n",
        "l_1 = (S.trace() + np.sqrt(pow(S.trace(),2) - 4*np.linalg.det(S))) / 2\n",
        "l_2 = (S.trace() - np.sqrt(pow(S.trace(),2) - 4*np.linalg.det(S))) / 2\n",
        "\n",
        "print(\"The eigenvalues are:\")\n",
        "print(\"L1:\",l_1)\n",
        "print(\"L2:\",l_2)"
      ],
      "execution_count": 10,
      "outputs": [
        {
          "output_type": "stream",
          "text": [
            "The eigenvalues are:\n",
            "L1: 4.266261447240239\n",
            "L2: 0.28839076171131417\n"
          ],
          "name": "stdout"
        }
      ]
    },
    {
      "cell_type": "code",
      "metadata": {
        "id": "pVNE6fasDlcY",
        "colab_type": "code",
        "colab": {
          "base_uri": "https://localhost:8080/",
          "height": 69
        },
        "outputId": "94b8aa6d-0405-456a-b059-2f636c7ed7e7"
      },
      "source": [
        "# Cayley-Hamilton theorem\n",
        "# (A - λ1I )(A - λ2I ) = (A - λ2I )(A - λ1I ) = 0\n",
        "\n",
        "A1 = S - l_1 * np.identity(2)\n",
        "A2 = S - l_2 * np.identity(2)\n",
        "\n",
        "E1 = A2[:,1]\n",
        "E2 = A1[:,0]\n",
        "\n",
        "E1 = E1 / np.linalg.norm(E1)\n",
        "E2 = E2 / np.linalg.norm(E2)\n",
        "\n",
        "print(\"The eigenvectors are:\")\n",
        "print(\"E1:\", E1)\n",
        "print(\"E2:\", E2)"
      ],
      "execution_count": 11,
      "outputs": [
        {
          "output_type": "stream",
          "text": [
            "The eigenvectors are:\n",
            "E1: [-0.14027773  0.9901122 ]\n",
            "E2: [-0.9901122  -0.14027773]\n"
          ],
          "name": "stdout"
        }
      ]
    },
    {
      "cell_type": "code",
      "metadata": {
        "id": "XKPxiY6hDlce",
        "colab_type": "code",
        "colab": {
          "base_uri": "https://localhost:8080/",
          "height": 52
        },
        "outputId": "bff0f2b1-8ea9-4b03-e32c-d90b9b9c6e65"
      },
      "source": [
        "E = np.column_stack((E1,E2))\n",
        "\n",
        "E"
      ],
      "execution_count": 12,
      "outputs": [
        {
          "output_type": "execute_result",
          "data": {
            "text/plain": [
              "array([[-0.14027773, -0.9901122 ],\n",
              "       [ 0.9901122 , -0.14027773]])"
            ]
          },
          "metadata": {
            "tags": []
          },
          "execution_count": 12
        }
      ]
    },
    {
      "cell_type": "code",
      "metadata": {
        "id": "X-OxD3WtDlch",
        "colab_type": "code",
        "colab": {
          "base_uri": "https://localhost:8080/",
          "height": 69
        },
        "outputId": "4418b2fa-0d9a-45f8-8ef1-4246ae3577df"
      },
      "source": [
        "evals, evecs = np.linalg.eigh(S)\n",
        "\n",
        "print(evals)\n",
        "print(evecs)"
      ],
      "execution_count": 13,
      "outputs": [
        {
          "output_type": "stream",
          "text": [
            "[0.28839076 4.26626145]\n",
            "[[-0.9901122  -0.14027773]\n",
            " [-0.14027773  0.9901122 ]]\n"
          ],
          "name": "stdout"
        }
      ]
    },
    {
      "cell_type": "code",
      "metadata": {
        "id": "ou-ZVsfzDlck",
        "colab_type": "code",
        "colab": {
          "base_uri": "https://localhost:8080/",
          "height": 299
        },
        "outputId": "ddb3dd05-5af0-4a07-92f4-723a9ced9f03"
      },
      "source": [
        "f, (ax1, ax2, ax3) = plt.subplots(1, 3, sharey=True, figsize=(12,4))\n",
        "ax1.scatter(Aorig[:,0],Aorig[:,1])\n",
        "ax1.set_title(\"Original Data\")\n",
        "ax1.grid(True)\n",
        "ax1.set_aspect('equal')\n",
        "\n",
        "ax2.scatter(Aorig[:,0],Aorig[:,1])\n",
        "ax2.set_title(\"E1\")\n",
        "ax2.grid(True)\n",
        "plot_arrow(ax2, np.mean(Aorig,axis=0), np.mean(Aorig,axis=0) + np.dot(Aorig, E).std(axis=0).mean() * E1)\n",
        "ax2.set_aspect('equal')               \n",
        "\n",
        "ax3.scatter(Aorig[:,0],Aorig[:,1])\n",
        "ax3.set_title(\"E1 and E2\")\n",
        "ax3.grid(True)\n",
        "plot_arrow(ax3, np.mean(Aorig,axis=0), np.mean(Aorig,axis=0) + np.dot(Aorig, E).std(axis=0).mean() * E1)\n",
        "plot_arrow(ax3, np.mean(Aorig,axis=0), np.mean(Aorig,axis=0) + np.dot(Aorig, E).std(axis=0).mean() * E2)\n",
        "ax3.set_aspect('equal')               \n",
        "\n",
        "plt.xlim([0,5])\n",
        "plt.ylim([-4,5])"
      ],
      "execution_count": 14,
      "outputs": [
        {
          "output_type": "execute_result",
          "data": {
            "text/plain": [
              "(-4.0, 5.0)"
            ]
          },
          "metadata": {
            "tags": []
          },
          "execution_count": 14
        },
        {
          "output_type": "display_data",
          "data": {
            "image/png": "[encoded data removed]",
            "text/plain": [
              "<Figure size 864x288 with 3 Axes>"
            ]
          },
          "metadata": {
            "tags": [],
            "needs_background": "light"
          }
        }
      ]
    },
    {
      "cell_type": "code",
      "metadata": {
        "id": "HifK20pFDlcp",
        "colab_type": "code",
        "colab": {
          "base_uri": "https://localhost:8080/",
          "height": 191
        },
        "outputId": "89d5aeaa-daeb-4ea8-a8f1-07aecbbbff1d"
      },
      "source": [
        "F1 = np.dot(A, E1)\n",
        "F2 = np.dot(A, E2)\n",
        "\n",
        "F = np.column_stack((F1, F2))\n",
        "F"
      ],
      "execution_count": 15,
      "outputs": [
        {
          "output_type": "execute_result",
          "data": {
            "text/plain": [
              "array([[-1.97812455,  1.18924584],\n",
              "       [ 1.93772363,  0.43245658],\n",
              "       [ 3.25091797,  0.04440771],\n",
              "       [ 0.12295254,  0.28557622],\n",
              "       [ 2.18055566, -0.20793946],\n",
              "       [ 0.84363103, -0.22052313],\n",
              "       [-0.15975102, -0.28036266],\n",
              "       [-3.13515266, -0.06080918],\n",
              "       [-1.78978762, -0.45341595],\n",
              "       [-1.27296497, -0.72863598]])"
            ]
          },
          "metadata": {
            "tags": []
          },
          "execution_count": 15
        }
      ]
    },
    {
      "cell_type": "code",
      "metadata": {
        "id": "u68KgbsiDlcu",
        "colab_type": "code",
        "colab": {
          "base_uri": "https://localhost:8080/",
          "height": 191
        },
        "outputId": "bc5d340a-5943-4279-8e40-702c8ddcb673"
      },
      "source": [
        "pca = decomposition.PCA(n_components=2)\n",
        "print(pca.fit_transform(A))"
      ],
      "execution_count": 16,
      "outputs": [
        {
          "output_type": "stream",
          "text": [
            "[[-1.97812455  1.18924584]\n",
            " [ 1.93772363  0.43245658]\n",
            " [ 3.25091797  0.04440771]\n",
            " [ 0.12295254  0.28557622]\n",
            " [ 2.18055566 -0.20793946]\n",
            " [ 0.84363103 -0.22052313]\n",
            " [-0.15975102 -0.28036266]\n",
            " [-3.13515266 -0.06080918]\n",
            " [-1.78978762 -0.45341595]\n",
            " [-1.27296497 -0.72863598]]\n"
          ],
          "name": "stdout"
        }
      ]
    }
  ]
}
{
  "nbformat": 4,
  "nbformat_minor": 0,
  "metadata": {
    "kernelspec": {
      "name": "python3",
      "display_name": "Python 3"
    },
    "colab": {
      "name": "AIDL_CNN_imageclassification.ipynb",
      "provenance": [],
      "collapsed_sections": []
    }
  },
  "cells": [
    {
      "cell_type": "markdown",
      "metadata": {
        "id": "1tEeoLsvh5zD",
        "colab_type": "text"
      },
      "source": [
        "## Exercise 1"
      ]
    },
    {
      "cell_type": "markdown",
      "metadata": {
        "id": "PPuwTYco9EQw",
        "colab_type": "text"
      },
      "source": [
        "'''Trains a simple deep NN on the MNIST dataset.\n",
        "\n",
        "Gets to 98.40% test accuracy after 20 epochs\n",
        "(there is *a lot* of margin for parameter tuning).\n",
        "2 seconds per epoch on a K520 GPU.\n",
        "'''"
      ]
    },
    {
      "cell_type": "code",
      "metadata": {
        "id": "4GyNzQET9Cmo",
        "colab_type": "code",
        "colab": {}
      },
      "source": [
        "from __future__ import print_function\n",
        "\n",
        "import keras\n",
        "from keras.datasets import mnist\n",
        "from keras.models import Sequential\n",
        "from keras.layers import Dense, Dropout, Flatten\n",
        "from keras.optimizers import RMSprop\n",
        "from keras.layers import Conv2D, MaxPooling2D\n",
        "from keras import backend as K"
      ],
      "execution_count": 3,
      "outputs": []
    },
    {
      "cell_type": "code",
      "metadata": {
        "id": "6DXA0Svl9OHR",
        "colab_type": "code",
        "colab": {
          "base_uri": "https://localhost:8080/",
          "height": 51
        },
        "outputId": "05bd33ab-d362-4d80-cbaf-6e0f9eff94c8"
      },
      "source": [
        "batch_size = 128\n",
        "num_classes = 10\n",
        "epochs = 20\n",
        "\n",
        "# input image dimension\n",
        "img_rows, img_cols = 28, 28\n",
        "\n",
        "# the data, shuffled and split between train and test sets\n",
        "(x_train, y_train), (x_test, y_test) = mnist.load_data()\n",
        "\n",
        "#x_train = x_train.reshape(60000, 784)\n",
        "#x_test = x_test.reshape(10000, 784)\n",
        "\n",
        "if K.image_data_format() == 'channels_first':\n",
        "  x_train = x_train.reshape(x_train.shape[0], 1, img_rows, img_cols)\n",
        "  x_test = x_test.reshape(x_test.shape[0], 1, img_rows, img_cols)\n",
        "  input_shape = (1, img_rows, img_cols, 1)\n",
        "else:\n",
        "  x_train = x_train.reshape(x_train.shape[0], img_rows, img_cols, 1)\n",
        "  x_test= x_test.reshape(x_test.shape[0], img_rows, img_cols, 1)\n",
        "  input_shape = (img_rows, img_cols, 1)\n",
        "\n",
        "x_train = x_train.astype('float32')\n",
        "x_test = x_test.astype('float32')\n",
        "x_train /= 255\n",
        "x_test /= 255\n",
        "print(x_train.shape[0], 'train samples')\n",
        "print(x_test.shape[0], 'test samples')"
      ],
      "execution_count": 4,
      "outputs": [
        {
          "output_type": "stream",
          "text": [
            "60000 train samples\n",
            "10000 test samples\n"
          ],
          "name": "stdout"
        }
      ]
    },
    {
      "cell_type": "code",
      "metadata": {
        "id": "yIQBZVAw9WFK",
        "colab_type": "code",
        "colab": {}
      },
      "source": [
        "# convert class vectors to binary class matrices\n",
        "y_train = keras.utils.to_categorical(y_train, num_classes)\n",
        "y_test = keras.utils.to_categorical(y_test, num_classes)"
      ],
      "execution_count": 5,
      "outputs": []
    },
    {
      "cell_type": "code",
      "metadata": {
        "id": "9KkMlwoQ8xOU",
        "colab_type": "code",
        "colab": {
          "base_uri": "https://localhost:8080/",
          "height": 357
        },
        "outputId": "3eed7bfc-3003-426b-a7bc-070bdce409c0"
      },
      "source": [
        "#Please construct the following neural network and report accuracy after training\n",
        "#Layer 1: 2D Convolution with 32 hidden neurons, kernel 3 by 3, relu activation, input_shape (28,28,1)\n",
        "#Layer 2: 2D MaxPooling, pool_size 2 by 2\n",
        "#Layer 3: Flatten (Hint: model.add(Flatten()))\n",
        "#Layer 4 Softmax Output Layer according to the problem (output vector)\n",
        "\n",
        "\n",
        "model = Sequential()\n",
        "model.add(Conv2D(32, (3,3), activation='relu', input_shape=(28, 28, 1)))\n",
        "model.add(MaxPooling2D(pool_size = (2, 2)))\n",
        "model.add(Flatten())\n",
        "model.add(Dense(128, activation = 'relu'))\n",
        "model.add(Dropout(0.5))\n",
        "model.add(Dense(num_classes, activation='softmax'))\n",
        "#> Please delete this code \n",
        "\n",
        "model.summary()\n",
        "\n",
        "model.compile(loss='categorical_crossentropy',\n",
        "              optimizer=RMSprop(),\n",
        "              metrics=['accuracy'])"
      ],
      "execution_count": 6,
      "outputs": [
        {
          "output_type": "stream",
          "text": [
            "Model: \"sequential_1\"\n",
            "_________________________________________________________________\n",
            "Layer (type)                 Output Shape              Param #   \n",
            "=================================================================\n",
            "conv2d_1 (Conv2D)            (None, 26, 26, 32)        320       \n",
            "_________________________________________________________________\n",
            "max_pooling2d_1 (MaxPooling2 (None, 13, 13, 32)        0         \n",
            "_________________________________________________________________\n",
            "flatten_1 (Flatten)          (None, 5408)              0         \n",
            "_________________________________________________________________\n",
            "dense_1 (Dense)              (None, 128)               692352    \n",
            "_________________________________________________________________\n",
            "dropout_1 (Dropout)          (None, 128)               0         \n",
            "_________________________________________________________________\n",
            "dense_2 (Dense)              (None, 10)                1290      \n",
            "=================================================================\n",
            "Total params: 693,962\n",
            "Trainable params: 693,962\n",
            "Non-trainable params: 0\n",
            "_________________________________________________________________\n"
          ],
          "name": "stdout"
        }
      ]
    },
    {
      "cell_type": "code",
      "metadata": {
        "id": "xC5voTZB4aTY",
        "colab_type": "code",
        "colab": {
          "base_uri": "https://localhost:8080/",
          "height": 748
        },
        "outputId": "15a9101b-7b50-41c9-e803-d2efffab3629"
      },
      "source": [
        "#some learners constantly reported 502 errors in Watson Studio. \n",
        "#This is due to the limited resources in the free tier and the heavy resource consumption of Keras.\n",
        "#This is a workaround to limit resource consumption\n",
        "\n",
        "# from keras import backend as K\n",
        "# import tensorflow.keras.backend as K\n",
        "#K.tensorflow_backend.set_session(sess)\n",
        "\n",
        "# K.set_session(K.tf.Session(config=K.tf.ConfigProto(intra_op_parallelism_threads=1, inter_op_parallelism_threads=1)))\n",
        "\n",
        "history = model.fit(x_train, y_train,\n",
        "                    batch_size=batch_size,\n",
        "                    epochs=epochs,\n",
        "                    verbose=1,\n",
        "                    validation_data=(x_test, y_test))\n",
        "score = model.evaluate(x_test, y_test, verbose=0)\n",
        "print('Test loss:', score[0])\n",
        "print('Test accuracy:', score[1])"
      ],
      "execution_count": 7,
      "outputs": [
        {
          "output_type": "stream",
          "text": [
            "Train on 60000 samples, validate on 10000 samples\n",
            "Epoch 1/20\n",
            "60000/60000 [==============================] - 29s 484us/step - loss: 0.3182 - accuracy: 0.9059 - val_loss: 0.0934 - val_accuracy: 0.9700\n",
            "Epoch 2/20\n",
            "60000/60000 [==============================] - 29s 482us/step - loss: 0.1163 - accuracy: 0.9665 - val_loss: 0.0642 - val_accuracy: 0.9786\n",
            "Epoch 3/20\n",
            "60000/60000 [==============================] - 29s 488us/step - loss: 0.0846 - accuracy: 0.9755 - val_loss: 0.0535 - val_accuracy: 0.9820\n",
            "Epoch 4/20\n",
            "60000/60000 [==============================] - 32s 538us/step - loss: 0.0714 - accuracy: 0.9789 - val_loss: 0.0439 - val_accuracy: 0.9855\n",
            "Epoch 5/20\n",
            "60000/60000 [==============================] - 31s 513us/step - loss: 0.0608 - accuracy: 0.9823 - val_loss: 0.0474 - val_accuracy: 0.9836\n",
            "Epoch 6/20\n",
            "60000/60000 [==============================] - 29s 488us/step - loss: 0.0548 - accuracy: 0.9840 - val_loss: 0.0450 - val_accuracy: 0.9853\n",
            "Epoch 7/20\n",
            "60000/60000 [==============================] - 29s 490us/step - loss: 0.0522 - accuracy: 0.9846 - val_loss: 0.0459 - val_accuracy: 0.9850\n",
            "Epoch 8/20\n",
            "60000/60000 [==============================] - 29s 480us/step - loss: 0.0488 - accuracy: 0.9857 - val_loss: 0.0443 - val_accuracy: 0.9864\n",
            "Epoch 9/20\n",
            "60000/60000 [==============================] - 29s 479us/step - loss: 0.0452 - accuracy: 0.9866 - val_loss: 0.0425 - val_accuracy: 0.9869\n",
            "Epoch 10/20\n",
            "60000/60000 [==============================] - 29s 485us/step - loss: 0.0461 - accuracy: 0.9865 - val_loss: 0.0478 - val_accuracy: 0.9855\n",
            "Epoch 11/20\n",
            "60000/60000 [==============================] - 29s 485us/step - loss: 0.0445 - accuracy: 0.9874 - val_loss: 0.0461 - val_accuracy: 0.9875\n",
            "Epoch 12/20\n",
            "60000/60000 [==============================] - 30s 507us/step - loss: 0.0463 - accuracy: 0.9870 - val_loss: 0.0448 - val_accuracy: 0.9872\n",
            "Epoch 13/20\n",
            "60000/60000 [==============================] - 30s 494us/step - loss: 0.0474 - accuracy: 0.9870 - val_loss: 0.0495 - val_accuracy: 0.9864\n",
            "Epoch 14/20\n",
            "60000/60000 [==============================] - 29s 487us/step - loss: 0.0497 - accuracy: 0.9861 - val_loss: 0.0534 - val_accuracy: 0.9844\n",
            "Epoch 15/20\n",
            "60000/60000 [==============================] - 31s 520us/step - loss: 0.0472 - accuracy: 0.9864 - val_loss: 0.0488 - val_accuracy: 0.9862\n",
            "Epoch 16/20\n",
            "60000/60000 [==============================] - 30s 501us/step - loss: 0.0501 - accuracy: 0.9864 - val_loss: 0.0509 - val_accuracy: 0.9858\n",
            "Epoch 17/20\n",
            "60000/60000 [==============================] - 30s 503us/step - loss: 0.0497 - accuracy: 0.9862 - val_loss: 0.0504 - val_accuracy: 0.9860\n",
            "Epoch 18/20\n",
            "60000/60000 [==============================] - 29s 475us/step - loss: 0.0484 - accuracy: 0.9865 - val_loss: 0.0575 - val_accuracy: 0.9841\n",
            "Epoch 19/20\n",
            "60000/60000 [==============================] - 29s 479us/step - loss: 0.0504 - accuracy: 0.9862 - val_loss: 0.0568 - val_accuracy: 0.9840\n",
            "Epoch 20/20\n",
            "60000/60000 [==============================] - 29s 478us/step - loss: 0.0511 - accuracy: 0.9862 - val_loss: 0.0582 - val_accuracy: 0.9858\n",
            "Test loss: 0.058235449361191786\n",
            "Test accuracy: 0.98580002784729\n"
          ],
          "name": "stdout"
        }
      ]
    },
    {
      "cell_type": "markdown",
      "metadata": {
        "id": "vQPbnR5KioNI",
        "colab_type": "text"
      },
      "source": [
        "## Exercise 2"
      ]
    },
    {
      "cell_type": "code",
      "metadata": {
        "id": "_WXPyvzoinGO",
        "colab_type": "code",
        "colab": {
          "base_uri": "https://localhost:8080/",
          "height": 68
        },
        "outputId": "392817b4-3f9d-4ea4-f501-cc51d4d88434"
      },
      "source": [
        "batch_size = 128\n",
        "num_classes = 10\n",
        "epochs = 12\n",
        "\n",
        "# input image dimensions\n",
        "img_rows, img_cols = 28, 28\n",
        "\n",
        "# the data, shuffled and split between train and test sets\n",
        "(x_train, y_train), (x_test, y_test) = mnist.load_data()\n",
        "\n",
        "if K.image_data_format() == 'channels_first':\n",
        "    x_train = x_train.reshape(x_train.shape[0], 1, img_rows, img_cols)\n",
        "    x_test = x_test.reshape(x_test.shape[0], 1, img_rows, img_cols)\n",
        "    input_shape = (1, img_rows, img_cols)\n",
        "else:\n",
        "    x_train = x_train.reshape(x_train.shape[0], img_rows, img_cols, 1)\n",
        "    x_test = x_test.reshape(x_test.shape[0], img_rows, img_cols, 1)\n",
        "    input_shape = (img_rows, img_cols, 1)\n",
        "\n",
        "x_train = x_train.astype('float32')\n",
        "x_test = x_test.astype('float32')\n",
        "x_train /= 255\n",
        "x_test /= 255\n",
        "print('x_train shape:', x_train.shape)\n",
        "print(x_train.shape[0], 'train samples')\n",
        "print(x_test.shape[0], 'test samples')\n"
      ],
      "execution_count": 8,
      "outputs": [
        {
          "output_type": "stream",
          "text": [
            "x_train shape: (60000, 28, 28, 1)\n",
            "60000 train samples\n",
            "10000 test samples\n"
          ],
          "name": "stdout"
        }
      ]
    },
    {
      "cell_type": "code",
      "metadata": {
        "id": "vSxAE-bGiyP_",
        "colab_type": "code",
        "colab": {}
      },
      "source": [
        "# convert class vectors to binary class matrices\n",
        "y_train = keras.utils.to_categorical(y_train, num_classes)\n",
        "y_test = keras.utils.to_categorical(y_test, num_classes)"
      ],
      "execution_count": 9,
      "outputs": []
    },
    {
      "cell_type": "code",
      "metadata": {
        "id": "tds1gWe_izoH",
        "colab_type": "code",
        "colab": {
          "base_uri": "https://localhost:8080/",
          "height": 425
        },
        "outputId": "248851ef-8878-4709-d48c-1ba456a676cb"
      },
      "source": [
        "#Please construct the following neural network and report accuracy after training\n",
        "#Layer 1: 2D Convolution with 32 hidden neurons, kernel 3 by 3, relu activation (Note: input_shape is given)\n",
        "#Layer 2: 2D Convolution with 64 hidden neurons, kernel 3 by 3, relu activation \n",
        "#Layer 3: 2D MaxPooling, pool_size 2 by 2\n",
        "#Layer 4: 25% Dropout\n",
        "#Layer 5: Flatten (Hint: model.add(Flatten()))\n",
        "#Layer 6: Fully connected layer with 128 neurons, relu activation\n",
        "#Layer 7: 50% Dropout\n",
        "#Layer 8 Softmax Output Layer according to the problem (output vector)\n",
        "\n",
        "model = Sequential()\n",
        "model.add(Conv2D(32, (3,3), activation='relu', input_shape=(28, 28, 1)))\n",
        "model.add(Conv2D(64, (3,3), activation='relu'))\n",
        "model.add(MaxPooling2D(pool_size = (2, 2)))\n",
        "model.add(Dropout(0.25))\n",
        "model.add(Flatten())\n",
        "model.add(Dense(128, activation = 'relu'))\n",
        "model.add(Dropout(0.5))\n",
        "model.add(Dense(num_classes, activation='softmax'))\n",
        "#> Please delete this code \n",
        "\n",
        "model.summary()\n"
      ],
      "execution_count": 10,
      "outputs": [
        {
          "output_type": "stream",
          "text": [
            "Model: \"sequential_2\"\n",
            "_________________________________________________________________\n",
            "Layer (type)                 Output Shape              Param #   \n",
            "=================================================================\n",
            "conv2d_2 (Conv2D)            (None, 26, 26, 32)        320       \n",
            "_________________________________________________________________\n",
            "conv2d_3 (Conv2D)            (None, 24, 24, 64)        18496     \n",
            "_________________________________________________________________\n",
            "max_pooling2d_2 (MaxPooling2 (None, 12, 12, 64)        0         \n",
            "_________________________________________________________________\n",
            "dropout_2 (Dropout)          (None, 12, 12, 64)        0         \n",
            "_________________________________________________________________\n",
            "flatten_2 (Flatten)          (None, 9216)              0         \n",
            "_________________________________________________________________\n",
            "dense_3 (Dense)              (None, 128)               1179776   \n",
            "_________________________________________________________________\n",
            "dropout_3 (Dropout)          (None, 128)               0         \n",
            "_________________________________________________________________\n",
            "dense_4 (Dense)              (None, 10)                1290      \n",
            "=================================================================\n",
            "Total params: 1,199,882\n",
            "Trainable params: 1,199,882\n",
            "Non-trainable params: 0\n",
            "_________________________________________________________________\n"
          ],
          "name": "stdout"
        }
      ]
    },
    {
      "cell_type": "code",
      "metadata": {
        "id": "NNpNLpftjr84",
        "colab_type": "code",
        "colab": {}
      },
      "source": [
        "model.compile(loss=keras.losses.categorical_crossentropy,\n",
        "              optimizer=keras.optimizers.Adadelta(),\n",
        "              metrics=['accuracy'])"
      ],
      "execution_count": 11,
      "outputs": []
    },
    {
      "cell_type": "code",
      "metadata": {
        "id": "v-by8OanjvT7",
        "colab_type": "code",
        "colab": {
          "base_uri": "https://localhost:8080/",
          "height": 476
        },
        "outputId": "ac12552a-63f0-4c79-e973-3365044883ca"
      },
      "source": [
        "model.fit(x_train, y_train,\n",
        "          batch_size=batch_size,\n",
        "          epochs=epochs,\n",
        "          verbose=1,\n",
        "          validation_data=(x_test, y_test))\n",
        "score = model.evaluate(x_test, y_test, verbose=0)\n",
        "print('Test loss:', score[0])\n",
        "print('Test accuracy:', score[1])"
      ],
      "execution_count": 12,
      "outputs": [
        {
          "output_type": "stream",
          "text": [
            "Train on 60000 samples, validate on 10000 samples\n",
            "Epoch 1/12\n",
            "60000/60000 [==============================] - 159s 3ms/step - loss: 0.2806 - accuracy: 0.9137 - val_loss: 0.0616 - val_accuracy: 0.9810\n",
            "Epoch 2/12\n",
            "60000/60000 [==============================] - 156s 3ms/step - loss: 0.0928 - accuracy: 0.9721 - val_loss: 0.0468 - val_accuracy: 0.9848\n",
            "Epoch 3/12\n",
            "60000/60000 [==============================] - 161s 3ms/step - loss: 0.0706 - accuracy: 0.9798 - val_loss: 0.0375 - val_accuracy: 0.9874\n",
            "Epoch 4/12\n",
            "60000/60000 [==============================] - 154s 3ms/step - loss: 0.0552 - accuracy: 0.9833 - val_loss: 0.0314 - val_accuracy: 0.9893\n",
            "Epoch 5/12\n",
            "60000/60000 [==============================] - 159s 3ms/step - loss: 0.0493 - accuracy: 0.9851 - val_loss: 0.0340 - val_accuracy: 0.9883\n",
            "Epoch 6/12\n",
            "60000/60000 [==============================] - 152s 3ms/step - loss: 0.0442 - accuracy: 0.9869 - val_loss: 0.0335 - val_accuracy: 0.9889\n",
            "Epoch 7/12\n",
            "60000/60000 [==============================] - 157s 3ms/step - loss: 0.0395 - accuracy: 0.9883 - val_loss: 0.0285 - val_accuracy: 0.9907\n",
            "Epoch 8/12\n",
            "60000/60000 [==============================] - 155s 3ms/step - loss: 0.0355 - accuracy: 0.9893 - val_loss: 0.0275 - val_accuracy: 0.9912\n",
            "Epoch 9/12\n",
            "60000/60000 [==============================] - 158s 3ms/step - loss: 0.0350 - accuracy: 0.9895 - val_loss: 0.0246 - val_accuracy: 0.9911\n",
            "Epoch 10/12\n",
            "60000/60000 [==============================] - 154s 3ms/step - loss: 0.0318 - accuracy: 0.9905 - val_loss: 0.0268 - val_accuracy: 0.9917\n",
            "Epoch 11/12\n",
            "60000/60000 [==============================] - 158s 3ms/step - loss: 0.0291 - accuracy: 0.9910 - val_loss: 0.0265 - val_accuracy: 0.9914\n",
            "Epoch 12/12\n",
            "60000/60000 [==============================] - 156s 3ms/step - loss: 0.0274 - accuracy: 0.9916 - val_loss: 0.0270 - val_accuracy: 0.9919\n",
            "Test loss: 0.027023370094679193\n",
            "Test accuracy: 0.9919000267982483\n"
          ],
          "name": "stdout"
        }
      ]
    }
  ]
}
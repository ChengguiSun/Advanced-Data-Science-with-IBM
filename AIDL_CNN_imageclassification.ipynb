{
  "nbformat": 4,
  "nbformat_minor": 0,
  "metadata": {
    "kernelspec": {
      "name": "python3",
      "display_name": "Python 3"
    },
    "colab": {
      "name": "AIDL_CNN_imageclassification.ipynb",
      "provenance": [],
      "collapsed_sections": []
    }
  },
  "cells": [
    {
      "cell_type": "markdown",
      "metadata": {
        "id": "PPuwTYco9EQw",
        "colab_type": "text"
      },
      "source": [
        "'''Trains a simple deep NN on the MNIST dataset.\n",
        "\n",
        "Gets to 98.40% test accuracy after 20 epochs\n",
        "(there is *a lot* of margin for parameter tuning).\n",
        "2 seconds per epoch on a K520 GPU.\n",
        "'''"
      ]
    },
    {
      "cell_type": "code",
      "metadata": {
        "id": "4GyNzQET9Cmo",
        "colab_type": "code",
        "colab": {}
      },
      "source": [
        "from __future__ import print_function\n",
        "\n",
        "import keras\n",
        "from keras.datasets import mnist\n",
        "from keras.models import Sequential\n",
        "from keras.layers import Dense, Dropout, Flatten\n",
        "from keras.optimizers import RMSprop\n",
        "from keras.layers import Conv2D, MaxPooling2D"
      ],
      "execution_count": 5,
      "outputs": []
    },
    {
      "cell_type": "code",
      "metadata": {
        "id": "6DXA0Svl9OHR",
        "colab_type": "code",
        "colab": {
          "base_uri": "https://localhost:8080/",
          "height": 51
        },
        "outputId": "b3327428-e082-4342-b196-363df89df6eb"
      },
      "source": [
        "batch_size = 128\n",
        "num_classes = 10\n",
        "epochs = 20\n",
        "\n",
        "# input image dimension\n",
        "img_rows, img_cols = 28, 28\n",
        "\n",
        "# the data, shuffled and split between train and test sets\n",
        "(x_train, y_train), (x_test, y_test) = mnist.load_data()\n",
        "\n",
        "#x_train = x_train.reshape(60000, 784)\n",
        "#x_test = x_test.reshape(10000, 784)\n",
        "\n",
        "if K.image_data_format() == 'channels_first':\n",
        "  x_train = x_train.reshape(x_train.shape[0], 1, img_rows, img_cols)\n",
        "  x_test = x_test.reshape(x_test.shape[0], 1, img_rows, img_cols)\n",
        "  input_shape = (1, img_rows, img_cols, 1)\n",
        "else:\n",
        "  x_train = x_train.reshape(x_train.shape[0], img_rows, img_cols, 1)\n",
        "  x_test= x_test.reshape(x_test.shape[0], img_rows, img_cols, 1)\n",
        "  input_shape = (img_rows, img_cols, 1)\n",
        "\n",
        "x_train = x_train.astype('float32')\n",
        "x_test = x_test.astype('float32')\n",
        "x_train /= 255\n",
        "x_test /= 255\n",
        "print(x_train.shape[0], 'train samples')\n",
        "print(x_test.shape[0], 'test samples')"
      ],
      "execution_count": 10,
      "outputs": [
        {
          "output_type": "stream",
          "text": [
            "60000 train samples\n",
            "10000 test samples\n"
          ],
          "name": "stdout"
        }
      ]
    },
    {
      "cell_type": "code",
      "metadata": {
        "id": "yIQBZVAw9WFK",
        "colab_type": "code",
        "colab": {}
      },
      "source": [
        "# convert class vectors to binary class matrices\n",
        "y_train = keras.utils.to_categorical(y_train, num_classes)\n",
        "y_test = keras.utils.to_categorical(y_test, num_classes)"
      ],
      "execution_count": 11,
      "outputs": []
    },
    {
      "cell_type": "code",
      "metadata": {
        "id": "9KkMlwoQ8xOU",
        "colab_type": "code",
        "colab": {
          "base_uri": "https://localhost:8080/",
          "height": 357
        },
        "outputId": "069ec591-7651-4bc1-95b8-2380ec64d5d2"
      },
      "source": [
        "#Please construct the following neural network and report accuracy after training\n",
        "#Layer 1: 2D Convolution with 32 hidden neurons, kernel 3 by 3, relu activation, input_shape (28,28,1)\n",
        "#Layer 2: 2D MaxPooling, pool_size 2 by 2\n",
        "#Layer 3: Flatten (Hint: model.add(Flatten()))\n",
        "#Layer 4 Softmax Output Layer according to the problem (output vector)\n",
        "\n",
        "\n",
        "model = Sequential()\n",
        "model.add(Conv2D(32, (3,3), activation='relu', input_shape=(28, 28, 1)))\n",
        "model.add(MaxPooling2D(pool_size = (2, 2)))\n",
        "model.add(Flatten())\n",
        "model.add(Dense(128, activation = 'relu'))\n",
        "model.add(Dropout(0.5))\n",
        "model.add(Dense(num_classes, activation='softmax'))\n",
        "#> Please delete this code \n",
        "\n",
        "model.summary()\n",
        "\n",
        "model.compile(loss='categorical_crossentropy',\n",
        "              optimizer=RMSprop(),\n",
        "              metrics=['accuracy'])"
      ],
      "execution_count": 12,
      "outputs": [
        {
          "output_type": "stream",
          "text": [
            "Model: \"sequential_6\"\n",
            "_________________________________________________________________\n",
            "Layer (type)                 Output Shape              Param #   \n",
            "=================================================================\n",
            "conv2d_6 (Conv2D)            (None, 26, 26, 32)        320       \n",
            "_________________________________________________________________\n",
            "max_pooling2d_6 (MaxPooling2 (None, 13, 13, 32)        0         \n",
            "_________________________________________________________________\n",
            "flatten_6 (Flatten)          (None, 5408)              0         \n",
            "_________________________________________________________________\n",
            "dense_11 (Dense)             (None, 128)               692352    \n",
            "_________________________________________________________________\n",
            "dropout_6 (Dropout)          (None, 128)               0         \n",
            "_________________________________________________________________\n",
            "dense_12 (Dense)             (None, 10)                1290      \n",
            "=================================================================\n",
            "Total params: 693,962\n",
            "Trainable params: 693,962\n",
            "Non-trainable params: 0\n",
            "_________________________________________________________________\n"
          ],
          "name": "stdout"
        }
      ]
    },
    {
      "cell_type": "code",
      "metadata": {
        "id": "xC5voTZB4aTY",
        "colab_type": "code",
        "colab": {
          "base_uri": "https://localhost:8080/",
          "height": 748
        },
        "outputId": "b3146e4e-8f3f-4c9f-feec-7a039f2eccbb"
      },
      "source": [
        "#some learners constantly reported 502 errors in Watson Studio. \n",
        "#This is due to the limited resources in the free tier and the heavy resource consumption of Keras.\n",
        "#This is a workaround to limit resource consumption\n",
        "\n",
        "# from keras import backend as K\n",
        "# import tensorflow.keras.backend as K\n",
        "#K.tensorflow_backend.set_session(sess)\n",
        "\n",
        "# K.set_session(K.tf.Session(config=K.tf.ConfigProto(intra_op_parallelism_threads=1, inter_op_parallelism_threads=1)))\n",
        "\n",
        "history = model.fit(x_train, y_train,\n",
        "                    batch_size=batch_size,\n",
        "                    epochs=epochs,\n",
        "                    verbose=1,\n",
        "                    validation_data=(x_test, y_test))\n",
        "score = model.evaluate(x_test, y_test, verbose=0)\n",
        "print('Test loss:', score[0])\n",
        "print('Test accuracy:', score[1])"
      ],
      "execution_count": 13,
      "outputs": [
        {
          "output_type": "stream",
          "text": [
            "Train on 60000 samples, validate on 10000 samples\n",
            "Epoch 1/20\n",
            "60000/60000 [==============================] - 24s 393us/step - loss: 0.3118 - accuracy: 0.9063 - val_loss: 0.0829 - val_accuracy: 0.9753\n",
            "Epoch 2/20\n",
            "60000/60000 [==============================] - 23s 385us/step - loss: 0.1122 - accuracy: 0.9674 - val_loss: 0.0580 - val_accuracy: 0.9824\n",
            "Epoch 3/20\n",
            "60000/60000 [==============================] - 23s 384us/step - loss: 0.0861 - accuracy: 0.9749 - val_loss: 0.0546 - val_accuracy: 0.9810\n",
            "Epoch 4/20\n",
            "60000/60000 [==============================] - 23s 384us/step - loss: 0.0689 - accuracy: 0.9797 - val_loss: 0.0459 - val_accuracy: 0.9853\n",
            "Epoch 5/20\n",
            "60000/60000 [==============================] - 23s 390us/step - loss: 0.0612 - accuracy: 0.9827 - val_loss: 0.0447 - val_accuracy: 0.9853\n",
            "Epoch 6/20\n",
            "60000/60000 [==============================] - 23s 380us/step - loss: 0.0535 - accuracy: 0.9841 - val_loss: 0.0442 - val_accuracy: 0.9860\n",
            "Epoch 7/20\n",
            "60000/60000 [==============================] - 23s 376us/step - loss: 0.0505 - accuracy: 0.9855 - val_loss: 0.0396 - val_accuracy: 0.9865\n",
            "Epoch 8/20\n",
            "60000/60000 [==============================] - 23s 377us/step - loss: 0.0495 - accuracy: 0.9864 - val_loss: 0.0439 - val_accuracy: 0.9855\n",
            "Epoch 9/20\n",
            "60000/60000 [==============================] - 23s 377us/step - loss: 0.0469 - accuracy: 0.9867 - val_loss: 0.0426 - val_accuracy: 0.9865\n",
            "Epoch 10/20\n",
            "60000/60000 [==============================] - 23s 376us/step - loss: 0.0469 - accuracy: 0.9867 - val_loss: 0.0478 - val_accuracy: 0.9855\n",
            "Epoch 11/20\n",
            "60000/60000 [==============================] - 23s 376us/step - loss: 0.0461 - accuracy: 0.9867 - val_loss: 0.0448 - val_accuracy: 0.9863\n",
            "Epoch 12/20\n",
            "60000/60000 [==============================] - 22s 373us/step - loss: 0.0451 - accuracy: 0.9867 - val_loss: 0.0571 - val_accuracy: 0.9844\n",
            "Epoch 13/20\n",
            "60000/60000 [==============================] - 23s 376us/step - loss: 0.0458 - accuracy: 0.9868 - val_loss: 0.0493 - val_accuracy: 0.9861\n",
            "Epoch 14/20\n",
            "60000/60000 [==============================] - 23s 377us/step - loss: 0.0475 - accuracy: 0.9865 - val_loss: 0.0470 - val_accuracy: 0.9870\n",
            "Epoch 15/20\n",
            "60000/60000 [==============================] - 23s 377us/step - loss: 0.0462 - accuracy: 0.9872 - val_loss: 0.0529 - val_accuracy: 0.9858\n",
            "Epoch 16/20\n",
            "60000/60000 [==============================] - 23s 375us/step - loss: 0.0468 - accuracy: 0.9873 - val_loss: 0.0565 - val_accuracy: 0.9841\n",
            "Epoch 17/20\n",
            "60000/60000 [==============================] - 22s 372us/step - loss: 0.0480 - accuracy: 0.9866 - val_loss: 0.0607 - val_accuracy: 0.9833\n",
            "Epoch 18/20\n",
            "60000/60000 [==============================] - 22s 373us/step - loss: 0.0484 - accuracy: 0.9863 - val_loss: 0.0566 - val_accuracy: 0.9849\n",
            "Epoch 19/20\n",
            "60000/60000 [==============================] - 23s 383us/step - loss: 0.0484 - accuracy: 0.9870 - val_loss: 0.0547 - val_accuracy: 0.9863\n",
            "Epoch 20/20\n",
            "60000/60000 [==============================] - 23s 387us/step - loss: 0.0476 - accuracy: 0.9865 - val_loss: 0.0535 - val_accuracy: 0.9861\n",
            "Test loss: 0.05353157554558711\n",
            "Test accuracy: 0.9861000180244446\n"
          ],
          "name": "stdout"
        }
      ]
    }
  ]
}
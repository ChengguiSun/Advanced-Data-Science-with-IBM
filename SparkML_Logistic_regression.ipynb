{
  "nbformat": 4,
  "nbformat_minor": 0,
  "metadata": {
    "colab": {
      "name": "SparkML_Logistic regression",
      "provenance": [],
      "collapsed_sections": [],
      "authorship_tag": "ABX9TyMxnC+YbPQADeYZka2wcueZ"
    },
    "kernelspec": {
      "name": "python3",
      "display_name": "Python 3"
    }
  },
  "cells": [
    {
      "cell_type": "markdown",
      "metadata": {
        "id": "wxF1Z4QadpsI",
        "colab_type": "text"
      },
      "source": [
        "# Install Spark"
      ]
    },
    {
      "cell_type": "code",
      "metadata": {
        "id": "bR4pF5b1jDp2",
        "colab_type": "code",
        "colab": {}
      },
      "source": [
        "!apt-get install openjdk-8-jdk-headless -qq > /dev/null\n",
        "!wget -q https://downloads.apache.org/spark/spark-3.0.0-preview2/spark-3.0.0-preview2-bin-hadoop2.7.tgz\n",
        "!tar xf spark-3.0.0-preview2-bin-hadoop2.7.tgz\n",
        "!pip install -q findspark"
      ],
      "execution_count": null,
      "outputs": []
    },
    {
      "cell_type": "code",
      "metadata": {
        "id": "zf05GSbAkHcO",
        "colab_type": "code",
        "colab": {
          "base_uri": "https://localhost:8080/",
          "height": 238
        },
        "outputId": "27fba3fe-8e8b-4437-f400-13266e802f72"
      },
      "source": [
        "!pip install pyspark==2.4.5"
      ],
      "execution_count": null,
      "outputs": [
        {
          "output_type": "stream",
          "text": [
            "Collecting pyspark==2.4.5\n",
            "\u001b[?25l  Downloading https://files.pythonhosted.org/packages/9a/5a/271c416c1c2185b6cb0151b29a91fff6fcaed80173c8584ff6d20e46b465/pyspark-2.4.5.tar.gz (217.8MB)\n",
            "\u001b[K     |████████████████████████████████| 217.8MB 60kB/s \n",
            "\u001b[?25hCollecting py4j==0.10.7\n",
            "\u001b[?25l  Downloading https://files.pythonhosted.org/packages/e3/53/c737818eb9a7dc32a7cd4f1396e787bd94200c3997c72c1dbe028587bd76/py4j-0.10.7-py2.py3-none-any.whl (197kB)\n",
            "\u001b[K     |████████████████████████████████| 204kB 45.3MB/s \n",
            "\u001b[?25hBuilding wheels for collected packages: pyspark\n",
            "  Building wheel for pyspark (setup.py) ... \u001b[?25l\u001b[?25hdone\n",
            "  Created wheel for pyspark: filename=pyspark-2.4.5-py2.py3-none-any.whl size=218257927 sha256=a979be2539e0e69b1c4be363e01ae49530d33281ee9c8052f795c05b45a79b23\n",
            "  Stored in directory: /root/.cache/pip/wheels/bf/db/04/61d66a5939364e756eb1c1be4ec5bdce6e04047fc7929a3c3c\n",
            "Successfully built pyspark\n",
            "Installing collected packages: py4j, pyspark\n",
            "Successfully installed py4j-0.10.7 pyspark-2.4.5\n"
          ],
          "name": "stdout"
        }
      ]
    },
    {
      "cell_type": "code",
      "metadata": {
        "id": "sH8c_Y9njMJ5",
        "colab_type": "code",
        "colab": {
          "base_uri": "https://localhost:8080/",
          "height": 51
        },
        "outputId": "40ff8adf-04f2-4082-8c7d-af9e5c9fc9bc"
      },
      "source": [
        "!ls"
      ],
      "execution_count": null,
      "outputs": [
        {
          "output_type": "stream",
          "text": [
            "sample_data\t\t\t    spark-3.0.0-preview2-bin-hadoop2.7.tgz\n",
            "spark-3.0.0-preview2-bin-hadoop2.7\n"
          ],
          "name": "stdout"
        }
      ]
    },
    {
      "cell_type": "code",
      "metadata": {
        "id": "hWGiaP0Sjs0Z",
        "colab_type": "code",
        "colab": {}
      },
      "source": [
        "import os\n",
        "os.environ[\"JAVA_HOME\"] = \"/usr/lib/jvm/java-8-openjdk-amd64\"\n",
        "os.environ[\"SPARK_HOME\"] = \"/content/spark-3.0.0-preview2-bin-hadoop2.7\""
      ],
      "execution_count": null,
      "outputs": []
    },
    {
      "cell_type": "code",
      "metadata": {
        "id": "I86xC0GgkG_u",
        "colab_type": "code",
        "colab": {}
      },
      "source": [
        "import findspark\n",
        "findspark.init()\n",
        "from pyspark.sql import SparkSession\n",
        "\n",
        "# spark = SparkSession.builder.master(\"local[*]\").getOrCreate()"
      ],
      "execution_count": null,
      "outputs": []
    },
    {
      "cell_type": "code",
      "metadata": {
        "id": "-Onm9GcD5Zda",
        "colab_type": "code",
        "colab": {}
      },
      "source": [
        "try:\n",
        "    from pyspark import SparkContext, SparkConf\n",
        "except ImportError as e:\n",
        "    printmd('<<<<<!!!!! Please restart your kernel after installing Apache Spark !!!!!>>>>>')"
      ],
      "execution_count": null,
      "outputs": []
    },
    {
      "cell_type": "code",
      "metadata": {
        "id": "Vg1sgY0d3Ygw",
        "colab_type": "code",
        "colab": {}
      },
      "source": [
        "sc = SparkContext.getOrCreate(SparkConf().setMaster(\"local[*]\"))\n",
        "\n",
        "spark = SparkSession \\\n",
        "    .builder \\\n",
        "    .getOrCreate()"
      ],
      "execution_count": null,
      "outputs": []
    },
    {
      "cell_type": "markdown",
      "metadata": {
        "id": "U9OwwEXHiMmq",
        "colab_type": "text"
      },
      "source": [
        "## Exercise"
      ]
    },
    {
      "cell_type": "code",
      "metadata": {
        "id": "ZpvT6s-KeD0e",
        "colab_type": "code",
        "colab": {
          "base_uri": "https://localhost:8080/",
          "height": 357
        },
        "outputId": "4c3d2e9a-15d8-4a69-c823-9c6f56a8b68f"
      },
      "source": [
        "# download the file containing the data in PARQUET format\n",
        "!wget https://github.com/IBM/coursera/raw/master/hmp.parquet\n",
        "    \n",
        "# create a dataframe out of it\n",
        "df = spark.read.parquet('hmp.parquet')\n",
        "\n",
        "# register a corresponding query table\n",
        "df.createOrReplaceTempView('df')"
      ],
      "execution_count": null,
      "outputs": [
        {
          "output_type": "stream",
          "text": [
            "--2020-07-15 06:49:54--  https://github.com/IBM/coursera/raw/master/hmp.parquet\n",
            "Resolving github.com (github.com)... 140.82.112.3\n",
            "Connecting to github.com (github.com)|140.82.112.3|:443... connected.\n",
            "HTTP request sent, awaiting response... 301 Moved Permanently\n",
            "Location: https://github.com/IBM/skillsnetwork/raw/master/hmp.parquet [following]\n",
            "--2020-07-15 06:49:54--  https://github.com/IBM/skillsnetwork/raw/master/hmp.parquet\n",
            "Reusing existing connection to github.com:443.\n",
            "HTTP request sent, awaiting response... 302 Found\n",
            "Location: https://raw.githubusercontent.com/IBM/skillsnetwork/master/hmp.parquet [following]\n",
            "--2020-07-15 06:49:55--  https://raw.githubusercontent.com/IBM/skillsnetwork/master/hmp.parquet\n",
            "Resolving raw.githubusercontent.com (raw.githubusercontent.com)... 151.101.0.133, 151.101.64.133, 151.101.128.133, ...\n",
            "Connecting to raw.githubusercontent.com (raw.githubusercontent.com)|151.101.0.133|:443... connected.\n",
            "HTTP request sent, awaiting response... 200 OK\n",
            "Length: 932997 (911K) [application/octet-stream]\n",
            "Saving to: ‘hmp.parquet’\n",
            "\n",
            "hmp.parquet         100%[===================>] 911.13K  --.-KB/s    in 0.1s    \n",
            "\n",
            "2020-07-15 06:49:55 (7.49 MB/s) - ‘hmp.parquet’ saved [932997/932997]\n",
            "\n"
          ],
          "name": "stdout"
        }
      ]
    },
    {
      "cell_type": "code",
      "metadata": {
        "id": "eGO9auQVQPY3",
        "colab_type": "code",
        "colab": {
          "base_uri": "https://localhost:8080/",
          "height": 459
        },
        "outputId": "11e08c4b-7554-4caf-ae04-47597676aebb"
      },
      "source": [
        "df.show()"
      ],
      "execution_count": null,
      "outputs": [
        {
          "output_type": "stream",
          "text": [
            "+---+---+---+--------------------+-----------+\n",
            "|  x|  y|  z|              source|      class|\n",
            "+---+---+---+--------------------+-----------+\n",
            "| 22| 49| 35|Accelerometer-201...|Brush_teeth|\n",
            "| 22| 49| 35|Accelerometer-201...|Brush_teeth|\n",
            "| 22| 52| 35|Accelerometer-201...|Brush_teeth|\n",
            "| 22| 52| 35|Accelerometer-201...|Brush_teeth|\n",
            "| 21| 52| 34|Accelerometer-201...|Brush_teeth|\n",
            "| 22| 51| 34|Accelerometer-201...|Brush_teeth|\n",
            "| 20| 50| 35|Accelerometer-201...|Brush_teeth|\n",
            "| 22| 52| 34|Accelerometer-201...|Brush_teeth|\n",
            "| 22| 50| 34|Accelerometer-201...|Brush_teeth|\n",
            "| 22| 51| 35|Accelerometer-201...|Brush_teeth|\n",
            "| 21| 51| 33|Accelerometer-201...|Brush_teeth|\n",
            "| 20| 50| 34|Accelerometer-201...|Brush_teeth|\n",
            "| 21| 49| 33|Accelerometer-201...|Brush_teeth|\n",
            "| 21| 49| 33|Accelerometer-201...|Brush_teeth|\n",
            "| 20| 51| 35|Accelerometer-201...|Brush_teeth|\n",
            "| 18| 49| 34|Accelerometer-201...|Brush_teeth|\n",
            "| 19| 48| 34|Accelerometer-201...|Brush_teeth|\n",
            "| 16| 53| 34|Accelerometer-201...|Brush_teeth|\n",
            "| 18| 52| 35|Accelerometer-201...|Brush_teeth|\n",
            "| 18| 51| 32|Accelerometer-201...|Brush_teeth|\n",
            "+---+---+---+--------------------+-----------+\n",
            "only showing top 20 rows\n",
            "\n"
          ],
          "name": "stdout"
        }
      ]
    },
    {
      "cell_type": "code",
      "metadata": {
        "id": "HPai8u1sPMgV",
        "colab_type": "code",
        "colab": {}
      },
      "source": [
        "splits = df.randomSplit([0.8, 0.2])\n",
        "df_train = splits[0]\n",
        "df_test = splits[1]"
      ],
      "execution_count": null,
      "outputs": []
    },
    {
      "cell_type": "code",
      "metadata": {
        "id": "jAGstxuuPQ1J",
        "colab_type": "code",
        "colab": {}
      },
      "source": [
        "from pyspark.ml.feature import StringIndexer, OneHotEncoder\n",
        "from pyspark.ml.linalg import Vectors\n",
        "from pyspark.ml.feature import VectorAssembler\n",
        "from pyspark.ml.feature import MinMaxScaler\n",
        "\n",
        "\n",
        "indexer = StringIndexer(inputCol=\"class\", outputCol=\"label\")\n",
        "\n",
        "vectorAssembler = VectorAssembler(inputCols=[\"x\",\"y\",\"z\"],\n",
        "                                  outputCol=\"features\")\n",
        "\n",
        "normalizer = MinMaxScaler(inputCol=\"features\", outputCol=\"features_norm\")"
      ],
      "execution_count": null,
      "outputs": []
    },
    {
      "cell_type": "code",
      "metadata": {
        "id": "AO1bncsDPu9C",
        "colab_type": "code",
        "colab": {}
      },
      "source": [
        "from pyspark.ml.classification import LogisticRegression\n",
        "\n",
        "lr = LogisticRegression(maxIter=10, regParam=0.3, elasticNetParam=0.8)"
      ],
      "execution_count": null,
      "outputs": []
    },
    {
      "cell_type": "code",
      "metadata": {
        "id": "zpN6gvA-P1Wr",
        "colab_type": "code",
        "colab": {}
      },
      "source": [
        "from pyspark.ml import Pipeline\n",
        "pipeline = Pipeline(stages=[indexer, vectorAssembler, normalizer, lr])"
      ],
      "execution_count": null,
      "outputs": []
    },
    {
      "cell_type": "code",
      "metadata": {
        "id": "9EziuwpvP4OL",
        "colab_type": "code",
        "colab": {}
      },
      "source": [
        "model = pipeline.fit(df_train)"
      ],
      "execution_count": null,
      "outputs": []
    },
    {
      "cell_type": "code",
      "metadata": {
        "id": "Ikcxp0Z1P5E5",
        "colab_type": "code",
        "colab": {}
      },
      "source": [
        "prediction = model.transform(df_train)"
      ],
      "execution_count": null,
      "outputs": []
    },
    {
      "cell_type": "code",
      "metadata": {
        "id": "HvZTbBJoP80L",
        "colab_type": "code",
        "colab": {
          "base_uri": "https://localhost:8080/",
          "height": 238
        },
        "outputId": "a5815e77-f441-4477-9fe3-dccde5e96e44"
      },
      "source": [
        "prediction.printSchema()"
      ],
      "execution_count": null,
      "outputs": [
        {
          "output_type": "stream",
          "text": [
            "root\n",
            " |-- x: integer (nullable = true)\n",
            " |-- y: integer (nullable = true)\n",
            " |-- z: integer (nullable = true)\n",
            " |-- source: string (nullable = true)\n",
            " |-- class: string (nullable = true)\n",
            " |-- label: double (nullable = false)\n",
            " |-- features: vector (nullable = true)\n",
            " |-- features_norm: vector (nullable = true)\n",
            " |-- rawPrediction: vector (nullable = true)\n",
            " |-- probability: vector (nullable = true)\n",
            " |-- prediction: double (nullable = false)\n",
            "\n"
          ],
          "name": "stdout"
        }
      ]
    },
    {
      "cell_type": "code",
      "metadata": {
        "id": "lGA-siJYRVVm",
        "colab_type": "code",
        "colab": {
          "base_uri": "https://localhost:8080/",
          "height": 459
        },
        "outputId": "ec78135d-fa81-4d9a-d114-4ac74a5a8ab5"
      },
      "source": [
        "prediction.show()"
      ],
      "execution_count": null,
      "outputs": [
        {
          "output_type": "stream",
          "text": [
            "+---+---+---+--------------------+--------------+-----+---------------+--------------------+--------------------+--------------------+----------+\n",
            "|  x|  y|  z|              source|         class|label|       features|       features_norm|       rawPrediction|         probability|prediction|\n",
            "+---+---+---+--------------------+--------------+-----+---------------+--------------------+--------------------+--------------------+----------+\n",
            "|  0| 11| 38|Accelerometer-201...| Sitdown_chair|  8.0|[0.0,11.0,38.0]|[0.0,0.1746031746...|[1.25314125744684...|[0.20619140457022...|       0.0|\n",
            "|  0| 24| 35|Accelerometer-201...| Sitdown_chair|  8.0|[0.0,24.0,35.0]|[0.0,0.3809523809...|[1.25314125744684...|[0.20619140457022...|       0.0|\n",
            "|  0| 27| 37|Accelerometer-201...|   Brush_teeth|  6.0|[0.0,27.0,37.0]|[0.0,0.4285714285...|[1.25314125744684...|[0.20619140457022...|       0.0|\n",
            "|  0| 29| 17|Accelerometer-201...|     Getup_bed|  1.0|[0.0,29.0,17.0]|[0.0,0.4603174603...|[1.25314125744684...|[0.20619140457022...|       0.0|\n",
            "|  0| 29| 38|Accelerometer-201...|   Brush_teeth|  6.0|[0.0,29.0,38.0]|[0.0,0.4603174603...|[1.25314125744684...|[0.20619140457022...|       0.0|\n",
            "|  0| 30| 24|Accelerometer-201...| Standup_chair|  7.0|[0.0,30.0,24.0]|[0.0,0.4761904761...|[1.25314125744684...|[0.20619140457022...|       0.0|\n",
            "|  0| 30| 44|Accelerometer-201...|   Brush_teeth|  6.0|[0.0,30.0,44.0]|[0.0,0.4761904761...|[1.25314125744684...|[0.20619140457022...|       0.0|\n",
            "|  0| 31| 28|Accelerometer-201...|     Getup_bed|  1.0|[0.0,31.0,28.0]|[0.0,0.4920634920...|[1.25314125744684...|[0.20619140457022...|       0.0|\n",
            "|  0| 31| 28|Accelerometer-201...|  Climb_stairs|  4.0|[0.0,31.0,28.0]|[0.0,0.4920634920...|[1.25314125744684...|[0.20619140457022...|       0.0|\n",
            "|  0| 32| 23|Accelerometer-201...|     Getup_bed|  1.0|[0.0,32.0,23.0]|[0.0,0.5079365079...|[1.25314125744684...|[0.20619140457022...|       0.0|\n",
            "|  0| 32| 33|Accelerometer-201...|          Walk|  0.0|[0.0,32.0,33.0]|[0.0,0.5079365079...|[1.25314125744684...|[0.20619140457022...|       0.0|\n",
            "|  0| 32| 33|Accelerometer-201...| Standup_chair|  7.0|[0.0,32.0,33.0]|[0.0,0.5079365079...|[1.25314125744684...|[0.20619140457022...|       0.0|\n",
            "|  0| 32| 36|Accelerometer-201...|   Brush_teeth|  6.0|[0.0,32.0,36.0]|[0.0,0.5079365079...|[1.25314125744684...|[0.20619140457022...|       0.0|\n",
            "|  0| 33| 27|Accelerometer-201...|Descend_stairs| 10.0|[0.0,33.0,27.0]|[0.0,0.5238095238...|[1.25314125744684...|[0.20619140457022...|       0.0|\n",
            "|  0| 33| 31|Accelerometer-201...|Descend_stairs| 10.0|[0.0,33.0,31.0]|[0.0,0.5238095238...|[1.25314125744684...|[0.20619140457022...|       0.0|\n",
            "|  0| 33| 31|Accelerometer-201...|  Climb_stairs|  4.0|[0.0,33.0,31.0]|[0.0,0.5238095238...|[1.25314125744684...|[0.20619140457022...|       0.0|\n",
            "|  0| 33| 32|Accelerometer-201...|  Climb_stairs|  4.0|[0.0,33.0,32.0]|[0.0,0.5238095238...|[1.25314125744684...|[0.20619140457022...|       0.0|\n",
            "|  0| 33| 32|Accelerometer-201...|     Getup_bed|  1.0|[0.0,33.0,32.0]|[0.0,0.5238095238...|[1.25314125744684...|[0.20619140457022...|       0.0|\n",
            "|  0| 33| 38|Accelerometer-201...|Descend_stairs| 10.0|[0.0,33.0,38.0]|[0.0,0.5238095238...|[1.25314125744684...|[0.20619140457022...|       0.0|\n",
            "|  0| 34| 32|Accelerometer-201...|  Climb_stairs|  4.0|[0.0,34.0,32.0]|[0.0,0.5396825396...|[1.25314125744684...|[0.20619140457022...|       0.0|\n",
            "+---+---+---+--------------------+--------------+-----+---------------+--------------------+--------------------+--------------------+----------+\n",
            "only showing top 20 rows\n",
            "\n"
          ],
          "name": "stdout"
        }
      ]
    },
    {
      "cell_type": "code",
      "metadata": {
        "id": "mdRsZj78QDCt",
        "colab_type": "code",
        "colab": {
          "base_uri": "https://localhost:8080/",
          "height": 34
        },
        "outputId": "d79fe5eb-a419-47a9-a23a-8c46b82fb38b"
      },
      "source": [
        "from pyspark.ml.evaluation import MulticlassClassificationEvaluator\n",
        "binEval = MulticlassClassificationEvaluator().setMetricName(\"accuracy\") .setPredictionCol(\"prediction\").setLabelCol(\"label\")\n",
        "    \n",
        "binEval.evaluate(prediction) "
      ],
      "execution_count": null,
      "outputs": [
        {
          "output_type": "execute_result",
          "data": {
            "text/plain": [
              "0.206191337053434"
            ]
          },
          "metadata": {
            "tags": []
          },
          "execution_count": 16
        }
      ]
    },
    {
      "cell_type": "code",
      "metadata": {
        "id": "5IX65sjgQF-6",
        "colab_type": "code",
        "colab": {}
      },
      "source": [
        "prediction = model.transform(df_test)"
      ],
      "execution_count": null,
      "outputs": []
    },
    {
      "cell_type": "code",
      "metadata": {
        "id": "akthohlTQIFr",
        "colab_type": "code",
        "colab": {
          "base_uri": "https://localhost:8080/",
          "height": 34
        },
        "outputId": "a474501a-43aa-474d-e0f5-486926852716"
      },
      "source": [
        "binEval.evaluate(prediction) "
      ],
      "execution_count": null,
      "outputs": [
        {
          "output_type": "execute_result",
          "data": {
            "text/plain": [
              "0.2082497112937404"
            ]
          },
          "metadata": {
            "tags": []
          },
          "execution_count": 18
        }
      ]
    }
  ]
}
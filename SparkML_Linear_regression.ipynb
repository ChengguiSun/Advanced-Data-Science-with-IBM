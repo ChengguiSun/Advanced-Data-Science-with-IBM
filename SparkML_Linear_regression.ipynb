{
  "nbformat": 4,
  "nbformat_minor": 0,
  "metadata": {
    "colab": {
      "name": "SparkML_Linear regression",
      "provenance": [],
      "collapsed_sections": [],
      "authorship_tag": "ABX9TyNoVX/RVJz4MknHcwpCub6+"
    },
    "kernelspec": {
      "name": "python3",
      "display_name": "Python 3"
    }
  },
  "cells": [
    {
      "cell_type": "markdown",
      "metadata": {
        "id": "wxF1Z4QadpsI",
        "colab_type": "text"
      },
      "source": [
        "# Install Spark"
      ]
    },
    {
      "cell_type": "code",
      "metadata": {
        "id": "bR4pF5b1jDp2",
        "colab_type": "code",
        "colab": {}
      },
      "source": [
        "!apt-get install openjdk-8-jdk-headless -qq > /dev/null\n",
        "!wget -q https://downloads.apache.org/spark/spark-3.0.0-preview2/spark-3.0.0-preview2-bin-hadoop2.7.tgz\n",
        "!tar xf spark-3.0.0-preview2-bin-hadoop2.7.tgz\n",
        "!pip install -q findspark"
      ],
      "execution_count": null,
      "outputs": []
    },
    {
      "cell_type": "code",
      "metadata": {
        "id": "zf05GSbAkHcO",
        "colab_type": "code",
        "colab": {
          "base_uri": "https://localhost:8080/",
          "height": 52
        },
        "outputId": "5ea8cc9c-33f2-4c6d-b0bc-0fe4f064bf9a"
      },
      "source": [
        "!pip install pyspark==2.4.5"
      ],
      "execution_count": null,
      "outputs": [
        {
          "output_type": "stream",
          "text": [
            "Requirement already satisfied: pyspark==2.4.5 in /usr/local/lib/python3.6/dist-packages (2.4.5)\n",
            "Requirement already satisfied: py4j==0.10.7 in /usr/local/lib/python3.6/dist-packages (from pyspark==2.4.5) (0.10.7)\n"
          ],
          "name": "stdout"
        }
      ]
    },
    {
      "cell_type": "code",
      "metadata": {
        "id": "sH8c_Y9njMJ5",
        "colab_type": "code",
        "colab": {
          "base_uri": "https://localhost:8080/",
          "height": 69
        },
        "outputId": "8dd174e0-aa3b-4066-8099-175070e43af1"
      },
      "source": [
        "!ls"
      ],
      "execution_count": null,
      "outputs": [
        {
          "output_type": "stream",
          "text": [
            "hmp.parquet\t\t\t    spark-3.0.0-preview2-bin-hadoop2.7.tgz\n",
            "sample_data\t\t\t    spark-3.0.0-preview2-bin-hadoop2.7.tgz.1\n",
            "spark-3.0.0-preview2-bin-hadoop2.7  spark-3.0.0-preview2-bin-hadoop2.7.tgz.2\n"
          ],
          "name": "stdout"
        }
      ]
    },
    {
      "cell_type": "code",
      "metadata": {
        "id": "hWGiaP0Sjs0Z",
        "colab_type": "code",
        "colab": {}
      },
      "source": [
        "import os\n",
        "os.environ[\"JAVA_HOME\"] = \"/usr/lib/jvm/java-8-openjdk-amd64\"\n",
        "os.environ[\"SPARK_HOME\"] = \"/content/spark-3.0.0-preview2-bin-hadoop2.7\""
      ],
      "execution_count": null,
      "outputs": []
    },
    {
      "cell_type": "code",
      "metadata": {
        "id": "I86xC0GgkG_u",
        "colab_type": "code",
        "colab": {}
      },
      "source": [
        "import findspark\n",
        "findspark.init()\n",
        "from pyspark.sql import SparkSession\n",
        "\n",
        "# spark = SparkSession.builder.master(\"local[*]\").getOrCreate()"
      ],
      "execution_count": null,
      "outputs": []
    },
    {
      "cell_type": "code",
      "metadata": {
        "id": "-Onm9GcD5Zda",
        "colab_type": "code",
        "colab": {}
      },
      "source": [
        "try:\n",
        "    from pyspark import SparkContext, SparkConf\n",
        "except ImportError as e:\n",
        "    printmd('<<<<<!!!!! Please restart your kernel after installing Apache Spark !!!!!>>>>>')"
      ],
      "execution_count": null,
      "outputs": []
    },
    {
      "cell_type": "code",
      "metadata": {
        "id": "Vg1sgY0d3Ygw",
        "colab_type": "code",
        "colab": {}
      },
      "source": [
        "sc = SparkContext.getOrCreate(SparkConf().setMaster(\"local[*]\"))\n",
        "\n",
        "spark = SparkSession \\\n",
        "    .builder \\\n",
        "    .getOrCreate()"
      ],
      "execution_count": null,
      "outputs": []
    },
    {
      "cell_type": "markdown",
      "metadata": {
        "id": "U9OwwEXHiMmq",
        "colab_type": "text"
      },
      "source": [
        "## Exercise"
      ]
    },
    {
      "cell_type": "code",
      "metadata": {
        "id": "ZpvT6s-KeD0e",
        "colab_type": "code",
        "colab": {
          "base_uri": "https://localhost:8080/",
          "height": 364
        },
        "outputId": "edfd88e1-30de-45eb-c67a-322bebc1c0a6"
      },
      "source": [
        "# download the file containing the data in PARQUET format\n",
        "!wget https://github.com/IBM/coursera/raw/master/hmp.parquet\n",
        "    \n",
        "# create a dataframe out of it\n",
        "df = spark.read.parquet('hmp.parquet')\n",
        "\n",
        "# register a corresponding query table\n",
        "df.createOrReplaceTempView('df')"
      ],
      "execution_count": null,
      "outputs": [
        {
          "output_type": "stream",
          "text": [
            "--2020-07-15 04:15:44--  https://github.com/IBM/coursera/raw/master/hmp.parquet\n",
            "Resolving github.com (github.com)... 140.82.113.4\n",
            "Connecting to github.com (github.com)|140.82.113.4|:443... connected.\n",
            "HTTP request sent, awaiting response... 301 Moved Permanently\n",
            "Location: https://github.com/IBM/skillsnetwork/raw/master/hmp.parquet [following]\n",
            "--2020-07-15 04:15:44--  https://github.com/IBM/skillsnetwork/raw/master/hmp.parquet\n",
            "Reusing existing connection to github.com:443.\n",
            "HTTP request sent, awaiting response... 302 Found\n",
            "Location: https://raw.githubusercontent.com/IBM/skillsnetwork/master/hmp.parquet [following]\n",
            "--2020-07-15 04:15:44--  https://raw.githubusercontent.com/IBM/skillsnetwork/master/hmp.parquet\n",
            "Resolving raw.githubusercontent.com (raw.githubusercontent.com)... 151.101.0.133, 151.101.64.133, 151.101.128.133, ...\n",
            "Connecting to raw.githubusercontent.com (raw.githubusercontent.com)|151.101.0.133|:443... connected.\n",
            "HTTP request sent, awaiting response... 200 OK\n",
            "Length: 932997 (911K) [application/octet-stream]\n",
            "Saving to: ‘hmp.parquet.1’\n",
            "\n",
            "hmp.parquet.1       100%[===================>] 911.13K  --.-KB/s    in 0.1s    \n",
            "\n",
            "2020-07-15 04:15:45 (7.14 MB/s) - ‘hmp.parquet.1’ saved [932997/932997]\n",
            "\n"
          ],
          "name": "stdout"
        }
      ]
    },
    {
      "cell_type": "code",
      "metadata": {
        "id": "r3ad2F1ks8qR",
        "colab_type": "code",
        "colab": {
          "base_uri": "https://localhost:8080/",
          "height": 468
        },
        "outputId": "80497293-72f3-4189-a4e0-c7d11b001d6f"
      },
      "source": [
        "df.show()"
      ],
      "execution_count": null,
      "outputs": [
        {
          "output_type": "stream",
          "text": [
            "+---+---+---+--------------------+-----------+\n",
            "|  x|  y|  z|              source|      class|\n",
            "+---+---+---+--------------------+-----------+\n",
            "| 22| 49| 35|Accelerometer-201...|Brush_teeth|\n",
            "| 22| 49| 35|Accelerometer-201...|Brush_teeth|\n",
            "| 22| 52| 35|Accelerometer-201...|Brush_teeth|\n",
            "| 22| 52| 35|Accelerometer-201...|Brush_teeth|\n",
            "| 21| 52| 34|Accelerometer-201...|Brush_teeth|\n",
            "| 22| 51| 34|Accelerometer-201...|Brush_teeth|\n",
            "| 20| 50| 35|Accelerometer-201...|Brush_teeth|\n",
            "| 22| 52| 34|Accelerometer-201...|Brush_teeth|\n",
            "| 22| 50| 34|Accelerometer-201...|Brush_teeth|\n",
            "| 22| 51| 35|Accelerometer-201...|Brush_teeth|\n",
            "| 21| 51| 33|Accelerometer-201...|Brush_teeth|\n",
            "| 20| 50| 34|Accelerometer-201...|Brush_teeth|\n",
            "| 21| 49| 33|Accelerometer-201...|Brush_teeth|\n",
            "| 21| 49| 33|Accelerometer-201...|Brush_teeth|\n",
            "| 20| 51| 35|Accelerometer-201...|Brush_teeth|\n",
            "| 18| 49| 34|Accelerometer-201...|Brush_teeth|\n",
            "| 19| 48| 34|Accelerometer-201...|Brush_teeth|\n",
            "| 16| 53| 34|Accelerometer-201...|Brush_teeth|\n",
            "| 18| 52| 35|Accelerometer-201...|Brush_teeth|\n",
            "| 18| 51| 32|Accelerometer-201...|Brush_teeth|\n",
            "+---+---+---+--------------------+-----------+\n",
            "only showing top 20 rows\n",
            "\n"
          ],
          "name": "stdout"
        }
      ]
    },
    {
      "cell_type": "code",
      "metadata": {
        "id": "aFvsq5T5eD4a",
        "colab_type": "code",
        "colab": {}
      },
      "source": [
        "df_energy = spark.sql(\"\"\"\n",
        "select sqrt(sum(x*x)+sum(y*y)+sum(z*z)) as label, class from df group by class\n",
        "\"\"\")      \n",
        "df_energy.createOrReplaceTempView('df_energy')  "
      ],
      "execution_count": null,
      "outputs": []
    },
    {
      "cell_type": "code",
      "metadata": {
        "id": "BdNxT7oatFzE",
        "colab_type": "code",
        "colab": {
          "base_uri": "https://localhost:8080/",
          "height": 347
        },
        "outputId": "708a124f-385a-492d-80d5-9e4aa23d24c9"
      },
      "source": [
        "df_energy.show()"
      ],
      "execution_count": null,
      "outputs": [
        {
          "output_type": "stream",
          "text": [
            "+------------------+--------------+\n",
            "|             label|         class|\n",
            "+------------------+--------------+\n",
            "| 11785.39634462923|   Brush_teeth|\n",
            "|11082.626493751379|  Climb_stairs|\n",
            "|10616.408809008817|     Comb_hair|\n",
            "| 7173.493500380411|Descend_stairs|\n",
            "|15003.269043778426|   Drink_glass|\n",
            "| 12542.96539897962|      Eat_meat|\n",
            "| 6071.460120926432|      Eat_soup|\n",
            "|13225.945637269193|     Getup_bed|\n",
            "|6783.4063714331605|   Liedown_bed|\n",
            "|14454.885091207056|    Pour_water|\n",
            "|10261.338314274606| Sitdown_chair|\n",
            "| 9737.511232342687| Standup_chair|\n",
            "| 8959.680239829991| Use_telephone|\n",
            "|16537.370891408344|          Walk|\n",
            "+------------------+--------------+\n",
            "\n"
          ],
          "name": "stdout"
        }
      ]
    },
    {
      "cell_type": "code",
      "metadata": {
        "id": "puXEv0gEeD8V",
        "colab_type": "code",
        "colab": {}
      },
      "source": [
        "df_join = spark.sql('select * from df inner join df_energy on df.class = df_energy.class')"
      ],
      "execution_count": null,
      "outputs": []
    },
    {
      "cell_type": "code",
      "metadata": {
        "id": "7W66Ag5oeD_5",
        "colab_type": "code",
        "colab": {
          "base_uri": "https://localhost:8080/",
          "height": 468
        },
        "outputId": "823ef969-7cec-48e0-c580-75d026683c00"
      },
      "source": [
        "df_join.show()"
      ],
      "execution_count": null,
      "outputs": [
        {
          "output_type": "stream",
          "text": [
            "+---+---+---+--------------------+-----------+-----------------+-----------+\n",
            "|  x|  y|  z|              source|      class|            label|      class|\n",
            "+---+---+---+--------------------+-----------+-----------------+-----------+\n",
            "| 22| 49| 35|Accelerometer-201...|Brush_teeth|11785.39634462923|Brush_teeth|\n",
            "| 22| 49| 35|Accelerometer-201...|Brush_teeth|11785.39634462923|Brush_teeth|\n",
            "| 22| 52| 35|Accelerometer-201...|Brush_teeth|11785.39634462923|Brush_teeth|\n",
            "| 22| 52| 35|Accelerometer-201...|Brush_teeth|11785.39634462923|Brush_teeth|\n",
            "| 21| 52| 34|Accelerometer-201...|Brush_teeth|11785.39634462923|Brush_teeth|\n",
            "| 22| 51| 34|Accelerometer-201...|Brush_teeth|11785.39634462923|Brush_teeth|\n",
            "| 20| 50| 35|Accelerometer-201...|Brush_teeth|11785.39634462923|Brush_teeth|\n",
            "| 22| 52| 34|Accelerometer-201...|Brush_teeth|11785.39634462923|Brush_teeth|\n",
            "| 22| 50| 34|Accelerometer-201...|Brush_teeth|11785.39634462923|Brush_teeth|\n",
            "| 22| 51| 35|Accelerometer-201...|Brush_teeth|11785.39634462923|Brush_teeth|\n",
            "| 21| 51| 33|Accelerometer-201...|Brush_teeth|11785.39634462923|Brush_teeth|\n",
            "| 20| 50| 34|Accelerometer-201...|Brush_teeth|11785.39634462923|Brush_teeth|\n",
            "| 21| 49| 33|Accelerometer-201...|Brush_teeth|11785.39634462923|Brush_teeth|\n",
            "| 21| 49| 33|Accelerometer-201...|Brush_teeth|11785.39634462923|Brush_teeth|\n",
            "| 20| 51| 35|Accelerometer-201...|Brush_teeth|11785.39634462923|Brush_teeth|\n",
            "| 18| 49| 34|Accelerometer-201...|Brush_teeth|11785.39634462923|Brush_teeth|\n",
            "| 19| 48| 34|Accelerometer-201...|Brush_teeth|11785.39634462923|Brush_teeth|\n",
            "| 16| 53| 34|Accelerometer-201...|Brush_teeth|11785.39634462923|Brush_teeth|\n",
            "| 18| 52| 35|Accelerometer-201...|Brush_teeth|11785.39634462923|Brush_teeth|\n",
            "| 18| 51| 32|Accelerometer-201...|Brush_teeth|11785.39634462923|Brush_teeth|\n",
            "+---+---+---+--------------------+-----------+-----------------+-----------+\n",
            "only showing top 20 rows\n",
            "\n"
          ],
          "name": "stdout"
        }
      ]
    },
    {
      "cell_type": "code",
      "metadata": {
        "id": "ZBmT8umieEDP",
        "colab_type": "code",
        "colab": {}
      },
      "source": [
        "from pyspark.ml.feature import VectorAssembler\n",
        "from pyspark.ml.feature import Normalizer\n",
        "\n",
        "\n",
        "vectorAssembler = VectorAssembler(inputCols=[\"x\",\"y\",\"z\"],\n",
        "                                  outputCol=\"features\")\n",
        "normalizer = Normalizer(inputCol=\"features\", outputCol=\"features_norm\", p=1.0) # p-norm"
      ],
      "execution_count": null,
      "outputs": []
    },
    {
      "cell_type": "code",
      "metadata": {
        "id": "rwUvZXQ_eEGp",
        "colab_type": "code",
        "colab": {}
      },
      "source": [
        "from pyspark.ml.regression import LinearRegression\n",
        "\n",
        "lr = LinearRegression(maxIter=10, regParam=0.3, elasticNetParam=0.8)"
      ],
      "execution_count": null,
      "outputs": []
    },
    {
      "cell_type": "code",
      "metadata": {
        "id": "oUFHeWyheEKC",
        "colab_type": "code",
        "colab": {}
      },
      "source": [
        "from pyspark.ml import Pipeline\n",
        "pipeline = Pipeline(stages=[vectorAssembler, normalizer,lr])"
      ],
      "execution_count": null,
      "outputs": []
    },
    {
      "cell_type": "code",
      "metadata": {
        "id": "ZhDksWBEeEQX",
        "colab_type": "code",
        "colab": {}
      },
      "source": [
        "model = pipeline.fit(df_join)"
      ],
      "execution_count": null,
      "outputs": []
    },
    {
      "cell_type": "code",
      "metadata": {
        "id": "ETDUZTEieET1",
        "colab_type": "code",
        "colab": {}
      },
      "source": [
        "prediction = model.transform(df_join)"
      ],
      "execution_count": null,
      "outputs": []
    },
    {
      "cell_type": "code",
      "metadata": {
        "id": "m8SjOlYpeEXE",
        "colab_type": "code",
        "colab": {
          "base_uri": "https://localhost:8080/",
          "height": 468
        },
        "outputId": "bd8fe46e-1d03-460d-a58b-f6be1f8a259e"
      },
      "source": [
        "prediction.show()"
      ],
      "execution_count": null,
      "outputs": [
        {
          "output_type": "stream",
          "text": [
            "+---+---+---+--------------------+-----------+-----------------+-----------+----------------+--------------------+------------------+\n",
            "|  x|  y|  z|              source|      class|            label|      class|        features|       features_norm|        prediction|\n",
            "+---+---+---+--------------------+-----------+-----------------+-----------+----------------+--------------------+------------------+\n",
            "| 22| 49| 35|Accelerometer-201...|Brush_teeth|11785.39634462923|Brush_teeth|[22.0,49.0,35.0]|[0.20754716981132...|12586.729735016828|\n",
            "| 22| 49| 35|Accelerometer-201...|Brush_teeth|11785.39634462923|Brush_teeth|[22.0,49.0,35.0]|[0.20754716981132...|12586.729735016828|\n",
            "| 22| 52| 35|Accelerometer-201...|Brush_teeth|11785.39634462923|Brush_teeth|[22.0,52.0,35.0]|[0.20183486238532...|12542.703337345756|\n",
            "| 22| 52| 35|Accelerometer-201...|Brush_teeth|11785.39634462923|Brush_teeth|[22.0,52.0,35.0]|[0.20183486238532...|12542.703337345756|\n",
            "| 21| 52| 34|Accelerometer-201...|Brush_teeth|11785.39634462923|Brush_teeth|[21.0,52.0,34.0]|[0.19626168224299...|12573.865911821156|\n",
            "| 22| 51| 34|Accelerometer-201...|Brush_teeth|11785.39634462923|Brush_teeth|[22.0,51.0,34.0]|[0.20560747663551...|12541.076564471234|\n",
            "| 20| 50| 35|Accelerometer-201...|Brush_teeth|11785.39634462923|Brush_teeth|[20.0,50.0,35.0]|[0.19047619047619...|12666.983895607029|\n",
            "| 22| 52| 34|Accelerometer-201...|Brush_teeth|11785.39634462923|Brush_teeth|[22.0,52.0,34.0]|[0.20370370370370...|12526.401098580878|\n",
            "| 22| 50| 34|Accelerometer-201...|Brush_teeth|11785.39634462923|Brush_teeth|[22.0,50.0,34.0]|[0.20754716981132...|12555.752030361591|\n",
            "| 22| 51| 35|Accelerometer-201...|Brush_teeth|11785.39634462923|Brush_teeth|[22.0,51.0,35.0]|[0.20370370370370...|12557.378803236114|\n",
            "| 21| 51| 33|Accelerometer-201...|Brush_teeth|11785.39634462923|Brush_teeth|[21.0,51.0,33.0]|[0.2,0.4857142857...|12572.239138946636|\n",
            "| 20| 50| 34|Accelerometer-201...|Brush_teeth|11785.39634462923|Brush_teeth|[20.0,50.0,34.0]|[0.19230769230769...| 12650.68165684215|\n",
            "| 21| 49| 33|Accelerometer-201...|Brush_teeth|11785.39634462923|Brush_teeth|[21.0,49.0,33.0]|[0.20388349514563...|12601.590070727349|\n",
            "| 21| 49| 33|Accelerometer-201...|Brush_teeth|11785.39634462923|Brush_teeth|[21.0,49.0,33.0]|[0.20388349514563...|12601.590070727349|\n",
            "| 20| 51| 35|Accelerometer-201...|Brush_teeth|11785.39634462923|Brush_teeth|[20.0,51.0,35.0]|[0.18867924528301...|12652.308429716672|\n",
            "| 18| 49| 34|Accelerometer-201...|Brush_teeth|11785.39634462923|Brush_teeth|[18.0,49.0,34.0]|[0.17821782178217...|12760.286749213064|\n",
            "| 19| 48| 34|Accelerometer-201...|Brush_teeth|11785.39634462923|Brush_teeth|[19.0,48.0,34.0]|[0.18811881188118...|12727.497401863142|\n",
            "| 16| 53| 34|Accelerometer-201...|Brush_teeth|11785.39634462923|Brush_teeth|[16.0,53.0,34.0]|[0.15533980582524...|12796.514512132195|\n",
            "| 18| 52| 35|Accelerometer-201...|Brush_teeth|11785.39634462923|Brush_teeth|[18.0,52.0,35.0]|[0.17142857142857...|12732.562590306872|\n",
            "| 18| 51| 32|Accelerometer-201...|Brush_teeth|11785.39634462923|Brush_teeth|[18.0,51.0,32.0]|[0.17821782178217...|12698.331339902592|\n",
            "+---+---+---+--------------------+-----------+-----------------+-----------+----------------+--------------------+------------------+\n",
            "only showing top 20 rows\n",
            "\n"
          ],
          "name": "stdout"
        }
      ]
    },
    {
      "cell_type": "code",
      "metadata": {
        "id": "vXSZS7ATeEaq",
        "colab_type": "code",
        "colab": {
          "base_uri": "https://localhost:8080/",
          "height": 35
        },
        "outputId": "fd348086-4a0b-4b2d-9ab0-3fb371651c70"
      },
      "source": [
        "model.stages[2].summary.r2"
      ],
      "execution_count": null,
      "outputs": [
        {
          "output_type": "execute_result",
          "data": {
            "text/plain": [
              "0.03259100556263628"
            ]
          },
          "metadata": {
            "tags": []
          },
          "execution_count": 23
        }
      ]
    }
  ]
}
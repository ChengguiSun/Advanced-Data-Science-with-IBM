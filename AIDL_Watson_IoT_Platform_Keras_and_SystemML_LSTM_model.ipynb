{
  "nbformat": 4,
  "nbformat_minor": 0,
  "metadata": {
    "kernelspec": {
      "name": "python3",
      "display_name": "Python 3"
    },
    "colab": {
      "name": "AIDL_Watson IoT Platform Keras and SystemML LSTM model.ipynb",
      "provenance": [],
      "collapsed_sections": []
    }
  },
  "cells": [
    {
      "cell_type": "markdown",
      "metadata": {
        "id": "bH-MbkxeLJ7w",
        "colab_type": "text"
      },
      "source": [
        "### Setup"
      ]
    },
    {
      "cell_type": "code",
      "metadata": {
        "id": "9bw-oof8y6qf",
        "colab_type": "code",
        "colab": {}
      },
      "source": [
        "import numpy as np\n",
        "from numpy import concatenate\n",
        "from matplotlib import pyplot\n",
        "from pandas import read_csv\n",
        "from pandas import DataFrame\n",
        "from pandas import concat\n",
        "import sklearn\n",
        "import keras, math\n",
        "from  sklearn.preprocessing import MinMaxScaler\n",
        "from sklearn.preprocessing import MinMaxScaler\n",
        "from sklearn.preprocessing import LabelEncoder\n",
        "from sklearn.metrics import mean_squared_error\n",
        "from keras.models import Sequential\n",
        "from keras.layers import Dense\n",
        "from keras.layers import LSTM\n",
        "from keras.callbacks import Callback\n",
        "from keras.models import Sequential\n",
        "from keras.layers import LSTM, Dense, Activation\n",
        "import pickle\n",
        "import matplotlib.pyplot as plt\n",
        "from mpl_toolkits.mplot3d import Axes3D\n",
        "from queue import Queue\n",
        "%matplotlib inline"
      ],
      "execution_count": null,
      "outputs": []
    },
    {
      "cell_type": "code",
      "metadata": {
        "id": "FXnOKaQX5v5E",
        "colab_type": "code",
        "colab": {}
      },
      "source": [
        "#!pip install --upgrade systemml\n",
        "!pip install --upgrade https://github.com/niketanpansare/future_of_data/raw/master/systemml-1.1.0-SNAPSHOT-python.tar.gz\n",
        "!ln -s -f ~/.local/lib/python2.7/site-packages/systemml/systemml-java/*.jar ~/data/libs/"
      ],
      "execution_count": null,
      "outputs": []
    },
    {
      "cell_type": "code",
      "metadata": {
        "id": "CmUE_ARS6iIQ",
        "colab_type": "code",
        "colab": {}
      },
      "source": [
        "!pip show systemml"
      ],
      "execution_count": null,
      "outputs": []
    },
    {
      "cell_type": "code",
      "metadata": {
        "id": "c2zGLmxgN0YR",
        "colab_type": "code",
        "colab": {}
      },
      "source": [
        "!apt-get install openjdk-8-jdk-headless -qq > /dev/null"
      ],
      "execution_count": null,
      "outputs": []
    },
    {
      "cell_type": "code",
      "metadata": {
        "id": "Z-jqNcOl6kP8",
        "colab_type": "code",
        "colab": {}
      },
      "source": [
        "!wget -q https://downloads.apache.org/spark/spark-3.0.0/spark-3.0.0-bin-hadoop2.7.tgz\n",
        "!tar xf spark-3.0.0-bin-hadoop2.7.tgz\n",
        "!pip install -q findspark"
      ],
      "execution_count": null,
      "outputs": []
    },
    {
      "cell_type": "code",
      "metadata": {
        "id": "IjXrQVeN6tPT",
        "colab_type": "code",
        "colab": {}
      },
      "source": [
        "!pip install pyspark==2.4.5"
      ],
      "execution_count": null,
      "outputs": []
    },
    {
      "cell_type": "code",
      "metadata": {
        "id": "GL9Ko2be7F-8",
        "colab_type": "code",
        "colab": {}
      },
      "source": [
        "import os\n",
        "os.environ[\"JAVA_HOME\"] = \"/usr/lib/jvm/java-8-openjdk-amd64\"\n",
        "os.environ[\"SPARK_HOME\"] = \"/content/spark-3.0.0-bin-hadoop2.7\""
      ],
      "execution_count": null,
      "outputs": []
    },
    {
      "cell_type": "code",
      "metadata": {
        "id": "Ji5_w2Fn7JIr",
        "colab_type": "code",
        "colab": {}
      },
      "source": [
        "import findspark\n",
        "findspark.init()\n",
        "from pyspark.sql import SparkSession"
      ],
      "execution_count": null,
      "outputs": []
    },
    {
      "cell_type": "markdown",
      "metadata": {
        "id": "uhMChX63LkG7",
        "colab_type": "text"
      },
      "source": [
        "### Exercise"
      ]
    },
    {
      "cell_type": "code",
      "metadata": {
        "id": "rcf_aHfe3SQ_",
        "colab_type": "code",
        "colab": {}
      },
      "source": [
        "!wget https://raw.githubusercontent.com/romeokienzler/developerWorks/master/lorenzattractor/watsoniotp.healthy.phase_aligned.pickle\n",
        "!wget https://raw.githubusercontent.com/romeokienzler/developerWorks/master/lorenzattractor/watsoniotp.broken.phase_aligned.pickle\n",
        "!mv watsoniotp.healthy.phase_aligned.pickle watsoniotp.healthy.pickle\n",
        "!mv watsoniotp.broken.phase_aligned.pickle watsoniotp.broken.pickle"
      ],
      "execution_count": null,
      "outputs": []
    },
    {
      "cell_type": "code",
      "metadata": {
        "id": "476XwFdEy6qm",
        "colab_type": "code",
        "colab": {}
      },
      "source": [
        "data_healthy = pickle.load(open('watsoniotp.healthy.pickle', 'rb'), encoding='latin1')\n",
        "data_broken = pickle.load(open('watsoniotp.broken.pickle', 'rb'), encoding='latin1')"
      ],
      "execution_count": null,
      "outputs": []
    },
    {
      "cell_type": "code",
      "metadata": {
        "id": "yCcE9x1Jy6qw",
        "colab_type": "code",
        "colab": {}
      },
      "source": [
        "data_healthy = data_healthy.reshape(3000,3)\n",
        "data_broken = data_broken.reshape(3000,3)"
      ],
      "execution_count": null,
      "outputs": []
    },
    {
      "cell_type": "code",
      "metadata": {
        "id": "nY-8sTwhy6q3",
        "colab_type": "code",
        "colab": {}
      },
      "source": [
        "def scaleData(data):\n",
        "    # normalize features\n",
        "    scaler = MinMaxScaler(feature_range=(0, 1))\n",
        "    return scaler.fit_transform(data)"
      ],
      "execution_count": null,
      "outputs": []
    },
    {
      "cell_type": "code",
      "metadata": {
        "id": "9OtkItqfy6rB",
        "colab_type": "code",
        "colab": {}
      },
      "source": [
        "data_healthy_scaled = scaleData(data_healthy)\n",
        "data_broken_scaled = scaleData(data_broken)"
      ],
      "execution_count": null,
      "outputs": []
    },
    {
      "cell_type": "code",
      "metadata": {
        "id": "4GVE_-3Py6rI",
        "colab_type": "code",
        "colab": {}
      },
      "source": [
        "timesteps = 10\n",
        "dim = 3\n",
        "samples = 300\n",
        "data_healthy_scaled_reshaped = data_healthy_scaled"
      ],
      "execution_count": null,
      "outputs": []
    },
    {
      "cell_type": "code",
      "metadata": {
        "id": "H975N_7My6rS",
        "colab_type": "code",
        "colab": {}
      },
      "source": [
        "# design network\n",
        "\n",
        "model = Sequential()\n",
        "model.add(LSTM(50,input_shape=(timesteps,dim),return_sequences=False))\n",
        "model.add(Dense(timesteps*dim))\n",
        "model.compile(loss='mse', optimizer=keras.optimizers.SGD(lr=0.01, momentum=0.95, decay=5e-4, nesterov=True))"
      ],
      "execution_count": null,
      "outputs": []
    },
    {
      "cell_type": "markdown",
      "metadata": {
        "id": "23qGPfCky6rY",
        "colab_type": "text"
      },
      "source": [
        "## Now use Keras2DML importer"
      ]
    },
    {
      "cell_type": "code",
      "metadata": {
        "id": "xjWsz1Aty6ra",
        "colab_type": "code",
        "colab": {}
      },
      "source": [
        "from systemml.mllearn import Keras2DML\n",
        "epochs = 50\n",
        "batch_size = 50\n",
        "max_iter = int(epochs*math.ceil(samples/batch_size))\n",
        "model = Keras2DML(spark, model, input_shape=(timesteps, dim, 1), batch_size=batch_size, max_iter=max_iter, test_interval=0, display=10)\n",
        "model.set(perform_one_hot_encoding=False)\n",
        "# model.set(debug=True) "
      ],
      "execution_count": null,
      "outputs": []
    },
    {
      "cell_type": "code",
      "metadata": {
        "id": "SM-L5JU6y6rj",
        "colab_type": "code",
        "colab": {}
      },
      "source": [
        "def train(data):\n",
        "    data = data.reshape(samples, timesteps*dim, 1)\n",
        "    model.fit(data, data) # epochs=50, batch_size=72, validation_data=(data, data), verbose=0, shuffle=False,callbacks=[LossHistory()])"
      ],
      "execution_count": null,
      "outputs": []
    },
    {
      "cell_type": "code",
      "metadata": {
        "id": "aN2ArjFHy6rp",
        "colab_type": "code",
        "colab": {}
      },
      "source": [
        "train(data_healthy_scaled)"
      ],
      "execution_count": null,
      "outputs": []
    },
    {
      "cell_type": "code",
      "metadata": {
        "id": "6z6Fs9JBy6ry",
        "colab_type": "code",
        "colab": {}
      },
      "source": [
        ""
      ],
      "execution_count": null,
      "outputs": []
    }
  ]
}
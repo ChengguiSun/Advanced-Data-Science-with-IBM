{
  "nbformat": 4,
  "nbformat_minor": 0,
  "metadata": {
    "celltoolbar": "Raw Cell Format",
    "language_info": {
      "codemirror_mode": {
        "name": "ipython",
        "version": 2
      },
      "pygments_lexer": "ipython2",
      "file_extension": ".py",
      "name": "python",
      "version": "2.7.11",
      "mimetype": "text/x-python",
      "nbconvert_exporter": "python"
    },
    "kernelspec": {
      "language": "python",
      "display_name": "Python 2 with Spark 2.1",
      "name": "python2-spark21"
    },
    "colab": {
      "name": "AIDL_pytorch_tutorial.ipynb",
      "provenance": [],
      "collapsed_sections": []
    }
  },
  "cells": [
    {
      "cell_type": "code",
      "metadata": {
        "id": "GJ41Vhrlgzjc",
        "colab_type": "code",
        "colab": {}
      },
      "source": [
        "%matplotlib inline"
      ],
      "execution_count": 1,
      "outputs": []
    },
    {
      "cell_type": "markdown",
      "metadata": {
        "id": "aeky47w0gzji",
        "colab_type": "text"
      },
      "source": [
        "\n",
        "Introduction to PyTorch\n",
        "============\n",
        "\n",
        "PyTorch's tensor library\n",
        "------------------------------------\n",
        "\n",
        "The most of PyTorch operations are running on <b>tensors</b>.\n",
        "A tensor is an multidimensional array.\n",
        "Lets have a look on some basic tensor operations.\n",
        "But first, lets import some important PyTorch libraries:\n",
        "- <b>torch</b> - a Tensor library similar to NumPy, with strong GPU support\n",
        "- <b>torch.autograd</b> - a \"tape-based\" (about this - later on) automatic differentiation library\n",
        "- <b>torch.nn</b> - a neural networks library deeply integrated with autograd \n",
        "- <b>torch.optim</b> - an optimization package to be used with torch.nn with standard optimization methods such as SGD, RMSProp, LBFGS, Adam etc.\n",
        "\n",
        "\n",
        "We also set a seed to be able to reproduce the same results later.\n",
        "\n"
      ]
    },
    {
      "cell_type": "code",
      "metadata": {
        "id": "RwxTSFxbgzjj",
        "colab_type": "code",
        "colab": {
          "base_uri": "https://localhost:8080/",
          "height": 35
        },
        "outputId": "b5e93e39-2c91-4ae4-9289-ad81cef4d6f0"
      },
      "source": [
        "import torch\n",
        "import torch.autograd as autograd\n",
        "import torch.nn as nn\n",
        "import torch.optim as optim\n",
        "\n",
        "torch.manual_seed(123)"
      ],
      "execution_count": 2,
      "outputs": [
        {
          "output_type": "execute_result",
          "data": {
            "text/plain": [
              "<torch._C.Generator at 0x7f579e128230>"
            ]
          },
          "metadata": {
            "tags": []
          },
          "execution_count": 2
        }
      ]
    },
    {
      "cell_type": "markdown",
      "metadata": {
        "id": "eUVRfuj_gzjn",
        "colab_type": "text"
      },
      "source": [
        "Creating Tensors\n",
        "----------------\n",
        "\n",
        "Tensors can be created from Python lists with the <b>torch.Tensor()</b> function.\n",
        "\n",
        "\n"
      ]
    },
    {
      "cell_type": "code",
      "metadata": {
        "id": "NySpB-jygzjo",
        "colab_type": "code",
        "colab": {
          "base_uri": "https://localhost:8080/",
          "height": 1000
        },
        "outputId": "1439d66e-9de4-4a7e-adbf-42c4ca4620ec"
      },
      "source": [
        "# Create a torch.Tensor object from python list\n",
        "v = [1, 2, 3]\n",
        "print(type(v))\n",
        "v_tensor = torch.Tensor(v)\n",
        "print(v_tensor)\n",
        "\n",
        "# Create a torch.Tensor object of size 2x3 from 2x3 matrix\n",
        "m2x3 = [[1, 2, 3], [4, 5, 6]]\n",
        "m2x3_tensor = torch.Tensor(m2x3)\n",
        "print(m2x3_tensor)\n",
        "\n",
        "# Create a 3D torch.Tensor object of size 3x3x3.\n",
        "m3x3x3 = [[[1, 2, 3], [4, 5, 6], [7, 8, 9]],\n",
        "          [[10, 11, 12],[13, 14, 15], [16, 17, 18]],\n",
        "            [[19, 20, 21],[22, 23, 24], [25, 26, 27]]]\n",
        "m3x3x3_tensor = torch.Tensor(m3x3x3)\n",
        "print(m3x3x3_tensor)\n",
        "\n",
        "#Create a 4Dtensor from random data and given dimensions (in this case 3x4x5x6) with torch.randn()\n",
        "m4x3x3x3_tensor = torch.randn((4, 3, 3, 3))\n",
        "m4x3x3x3_tensor.shape\n",
        "print(m4x3x3x3_tensor)"
      ],
      "execution_count": 3,
      "outputs": [
        {
          "output_type": "stream",
          "text": [
            "<class 'list'>\n",
            "tensor([1., 2., 3.])\n",
            "tensor([[1., 2., 3.],\n",
            "        [4., 5., 6.]])\n",
            "tensor([[[ 1.,  2.,  3.],\n",
            "         [ 4.,  5.,  6.],\n",
            "         [ 7.,  8.,  9.]],\n",
            "\n",
            "        [[10., 11., 12.],\n",
            "         [13., 14., 15.],\n",
            "         [16., 17., 18.]],\n",
            "\n",
            "        [[19., 20., 21.],\n",
            "         [22., 23., 24.],\n",
            "         [25., 26., 27.]]])\n",
            "tensor([[[[ 3.3737e-01, -1.7778e-01, -3.0353e-01],\n",
            "          [-5.8801e-01,  3.4861e-01,  6.6034e-01],\n",
            "          [-2.1964e-01, -3.7917e-01,  7.6711e-01]],\n",
            "\n",
            "         [[-1.1925e+00,  6.9835e-01, -1.4097e+00],\n",
            "          [ 1.7938e-01,  1.8951e+00,  4.9545e-01],\n",
            "          [ 2.6920e-01, -7.7020e-02, -1.0205e+00]],\n",
            "\n",
            "         [[-1.6896e-01,  9.1776e-01,  1.5810e+00],\n",
            "          [ 1.3010e+00,  1.2753e+00, -2.0095e-01],\n",
            "          [ 4.9647e-01, -1.5723e+00,  9.6657e-01]]],\n",
            "\n",
            "\n",
            "        [[[-1.1481e+00, -1.1589e+00,  3.2547e-01],\n",
            "          [-6.3151e-01, -2.8400e+00, -1.3250e+00],\n",
            "          [ 1.7843e-01, -2.1338e+00,  1.0524e+00]],\n",
            "\n",
            "         [[-3.8848e-01, -9.3435e-01, -4.9914e-01],\n",
            "          [-1.0867e+00,  8.8054e-01,  1.5542e+00],\n",
            "          [ 6.2662e-01, -1.7549e-01,  9.8284e-02]],\n",
            "\n",
            "         [[-9.3507e-02,  2.6621e-01, -5.8504e-01],\n",
            "          [ 8.7684e-01,  1.6221e+00, -1.4779e+00],\n",
            "          [ 1.1331e+00, -1.2203e+00,  1.3139e+00]]],\n",
            "\n",
            "\n",
            "        [[[ 1.0533e+00,  1.3881e-01,  2.2473e+00],\n",
            "          [-8.0364e-01, -2.8084e-01,  7.6968e-01],\n",
            "          [-6.5956e-01, -7.9793e-01,  1.8383e-01]],\n",
            "\n",
            "         [[ 2.2935e-01,  5.1463e-01,  9.9376e-01],\n",
            "          [-2.5873e-01, -1.0826e+00, -4.4382e-02],\n",
            "          [ 1.6236e+00, -2.3229e+00,  1.0878e+00]],\n",
            "\n",
            "         [[ 6.7155e-01,  6.9330e-01, -9.4872e-01],\n",
            "          [-7.6507e-02, -1.5264e-01,  1.1674e-01],\n",
            "          [ 4.4026e-01, -1.4465e+00,  2.5529e-01]]],\n",
            "\n",
            "\n",
            "        [[[-5.4963e-01,  1.0042e+00,  8.2723e-01],\n",
            "          [-3.9481e-01,  4.8923e-01, -2.1681e-01],\n",
            "          [-1.7472e+00, -1.6025e+00, -1.0764e+00]],\n",
            "\n",
            "         [[ 9.0315e-01, -7.2184e-01,  1.2311e+00],\n",
            "          [-1.0973e+00, -9.6690e-01,  6.7125e-01],\n",
            "          [-9.4053e-01, -4.6806e-01,  1.0322e+00]],\n",
            "\n",
            "         [[-2.8300e-01,  1.1124e+00, -4.1684e-01],\n",
            "          [-1.7106e+00, -3.2902e-01,  1.3966e+00],\n",
            "          [-9.9491e-01, -1.5822e-03,  1.2471e+00]]]])\n"
          ],
          "name": "stdout"
        }
      ]
    },
    {
      "cell_type": "markdown",
      "metadata": {
        "id": "Rb7dWS-Pgzjt",
        "colab_type": "text"
      },
      "source": [
        "What is a multidimensional tensor?\n",
        "-------------------\n",
        "Since we frequently deal with n > 3 dimensional tensors, its understanding is very important. \n",
        "The best way to think of a higher (n) dimensional object (and tensor in particular) is as of a container which keeps a series of n-1 dimensional objects \"inside\" of it. We can \"pull out\" these \"inner\" objects by indexing in to higher dimensional tensor container.\n",
        "Let's have a look on some examples:\n",
        "\n",
        "- For a vector v (dim(v)=1), indexing into it (\"pulling out of it\") returns its \"slice\" - a scalar s (dim(s)=0). \n",
        "\n",
        "- For a matrix, indexing into it returns its \"slice\" - a (row or column) vector. \n",
        "\n",
        "- 3D tensor can be seen as a cube or 3D rectangular consisting of horizontally \"stacked\" matrices. So if we index into a such tensor it will give us its slice which is a matrix!\n",
        "\n",
        "- We can't easily visualize 5D (or n-D) tensors, but the idea is actually the same. If we index in to them, we will pull out an object of dimension n-1.\n",
        "\n",
        "- E.g. a 4D tensor can be seen as a list of cubes or 3D reactangulars. If we index in to a 4D tensor, we will get 3D rectangulars.\n",
        "\n",
        "![IMG_0120.png](attachment:IMG_0120.png)\n"
      ]
    },
    {
      "cell_type": "code",
      "metadata": {
        "id": "ecEohZHsgzju",
        "colab_type": "code",
        "colab": {
          "base_uri": "https://localhost:8080/",
          "height": 295
        },
        "outputId": "d7b71328-3b9a-48f9-82c2-fc121ce0c359"
      },
      "source": [
        "# Index into v_tensor and get a scalar\n",
        "print(v_tensor[0])\n",
        "\n",
        "# Index into m2x3_tensor and get a vector\n",
        "print(m2x3_tensor[0])\n",
        "\n",
        "# Index into m3x3x3_tensor and get a matrix\n",
        "print(m3x3x3_tensor[0])\n",
        "\n",
        "# Index into m4x3x3x3_tensor and get a 3D rectangular of size 4x5x6\n",
        "print(m4x3x3x3_tensor[0])"
      ],
      "execution_count": 4,
      "outputs": [
        {
          "output_type": "stream",
          "text": [
            "tensor(1.)\n",
            "tensor([1., 2., 3.])\n",
            "tensor([[1., 2., 3.],\n",
            "        [4., 5., 6.],\n",
            "        [7., 8., 9.]])\n",
            "tensor([[[ 0.3374, -0.1778, -0.3035],\n",
            "         [-0.5880,  0.3486,  0.6603],\n",
            "         [-0.2196, -0.3792,  0.7671]],\n",
            "\n",
            "        [[-1.1925,  0.6984, -1.4097],\n",
            "         [ 0.1794,  1.8951,  0.4954],\n",
            "         [ 0.2692, -0.0770, -1.0205]],\n",
            "\n",
            "        [[-0.1690,  0.9178,  1.5810],\n",
            "         [ 1.3010,  1.2753, -0.2010],\n",
            "         [ 0.4965, -1.5723,  0.9666]]])\n"
          ],
          "name": "stdout"
        }
      ]
    },
    {
      "cell_type": "markdown",
      "metadata": {
        "id": "1QXYJV6cgzj0",
        "colab_type": "text"
      },
      "source": [
        "Operations with Tensors\n",
        "----------------------\n",
        "\n",
        "You can operate on tensors in the ways you would expect.\n",
        "See the documentation <http://pytorch.org/docs/torch.html> for a complete list of operations.\n",
        "\n"
      ]
    },
    {
      "cell_type": "markdown",
      "metadata": {
        "id": "FjZqpYqLgzj1",
        "colab_type": "text"
      },
      "source": [
        "Simple mathematical operations: <b>Addition, Multiplication</b>\n",
        "                                     "
      ]
    },
    {
      "cell_type": "code",
      "metadata": {
        "id": "Yn8vbUKngzj2",
        "colab_type": "code",
        "colab": {
          "base_uri": "https://localhost:8080/",
          "height": 69
        },
        "outputId": "cb806193-1d06-4203-db3f-dc9984d17f10"
      },
      "source": [
        "x = torch.Tensor([1, 2, 3])\n",
        "y = torch.Tensor([4, 5, 6])\n",
        "print(x)\n",
        "print(y)\n",
        "\n",
        "w = torch.matmul(x, y)\n",
        "print(w)"
      ],
      "execution_count": 5,
      "outputs": [
        {
          "output_type": "stream",
          "text": [
            "tensor([1., 2., 3.])\n",
            "tensor([4., 5., 6.])\n",
            "tensor(32.)\n"
          ],
          "name": "stdout"
        }
      ]
    },
    {
      "cell_type": "markdown",
      "metadata": {
        "id": "JevoXUNCgzj6",
        "colab_type": "text"
      },
      "source": [
        "Helpful operation: <b>Concatenation</b>\n"
      ]
    },
    {
      "cell_type": "code",
      "metadata": {
        "id": "GTe-JWFmgzj7",
        "colab_type": "code",
        "colab": {
          "base_uri": "https://localhost:8080/",
          "height": 191
        },
        "outputId": "9fcabd89-8f17-4bae-d4cb-e95e74965ccf"
      },
      "source": [
        "# By default, it concatenates along the axis with 0 (rows). It's \"stacking\" the rows.\n",
        "x_1 = torch.randn(2, 5)\n",
        "print(x_1)\n",
        "y_1 = torch.randn(3, 5)\n",
        "print(y_1)\n",
        "z_1 = torch.cat([x_1, y_1])\n",
        "print(z_1)"
      ],
      "execution_count": 6,
      "outputs": [
        {
          "output_type": "stream",
          "text": [
            "tensor([[ 0.5485, -1.6063,  0.7281,  0.6609,  0.2391],\n",
            "        [ 0.0340,  0.1164, -0.9905,  0.5646,  0.0686]])\n",
            "tensor([[-1.0035, -0.7874,  0.9840,  0.2045, -0.3604],\n",
            "        [ 1.2101, -1.0814,  0.0789,  0.2913, -0.5023],\n",
            "        [-0.9306,  0.9086, -0.7788, -1.4453,  0.7636]])\n",
            "tensor([[ 0.5485, -1.6063,  0.7281,  0.6609,  0.2391],\n",
            "        [ 0.0340,  0.1164, -0.9905,  0.5646,  0.0686],\n",
            "        [-1.0035, -0.7874,  0.9840,  0.2045, -0.3604],\n",
            "        [ 1.2101, -1.0814,  0.0789,  0.2913, -0.5023],\n",
            "        [-0.9306,  0.9086, -0.7788, -1.4453,  0.7636]])\n"
          ],
          "name": "stdout"
        }
      ]
    },
    {
      "cell_type": "code",
      "metadata": {
        "id": "PUXELVgdgwEw",
        "colab_type": "code",
        "colab": {
          "base_uri": "https://localhost:8080/",
          "height": 121
        },
        "outputId": "7e6ee063-c83e-4bad-89c3-a6a896d34fcd"
      },
      "source": [
        "# Concatenate columns:\n",
        "x_2 = torch.randn(2, 3)\n",
        "print(x_2)\n",
        "y_2 = torch.randn(2, 5)\n",
        "print(y_2)\n",
        "# second arg specifies which axis to concat along. Here we select 1 (columns). It's attaching the columns.\n",
        "z_2 = torch.cat([x_2, y_2], 1)\n",
        "print(z_2)"
      ],
      "execution_count": 7,
      "outputs": [
        {
          "output_type": "stream",
          "text": [
            "tensor([[-0.2469,  0.5857,  0.9906],\n",
            "        [ 0.0417, -1.1668,  1.3251]])\n",
            "tensor([[-0.7990,  0.6292, -1.2097, -2.1362, -0.1212],\n",
            "        [-0.1443,  0.9969,  0.5697, -0.4930,  0.3155]])\n",
            "tensor([[-0.2469,  0.5857,  0.9906, -0.7990,  0.6292, -1.2097, -2.1362, -0.1212],\n",
            "        [ 0.0417, -1.1668,  1.3251, -0.1443,  0.9969,  0.5697, -0.4930,  0.3155]])\n"
          ],
          "name": "stdout"
        }
      ]
    },
    {
      "cell_type": "code",
      "metadata": {
        "id": "ggv8aM_Egwqw",
        "colab_type": "code",
        "colab": {}
      },
      "source": [
        "# If your tensors are not compatible, torch will complain.  Uncomment to see the error\n",
        "torch.cat([x_1, x_2])"
      ],
      "execution_count": null,
      "outputs": []
    },
    {
      "cell_type": "markdown",
      "metadata": {
        "id": "VcrOf-czgzkA",
        "colab_type": "text"
      },
      "source": [
        "Reshaping Tensors\n",
        "----------------\n",
        "\n",
        "We can use the <code>.view()</code> method to reshape a tensor. Often we will need to reshape our data before passing it\n",
        "to a neuronal network.\n",
        "\n",
        "Let's assume we have 64000 RGB images with the size of 28x28 pixels.\n",
        "We can define an array fo shape (64000, 3, 28, 28) to hold them, where 3 is number of color channels:\n"
      ]
    },
    {
      "cell_type": "code",
      "metadata": {
        "id": "4t7WYiJAgzkB",
        "colab_type": "code",
        "colab": {
          "base_uri": "https://localhost:8080/",
          "height": 35
        },
        "outputId": "461629ac-38b7-4582-d9cf-70ec737a73cf"
      },
      "source": [
        "x = torch.randn(64000, 3, 28, 28)\n",
        "# Now we want to add a batch dimension of size 32. We can then infer the second dimension by placing -1:\n",
        "x_rehsaped = x.view(32, -1, 3, 28, 28)\n",
        "print(x_rehsaped.shape)"
      ],
      "execution_count": 9,
      "outputs": [
        {
          "output_type": "stream",
          "text": [
            "torch.Size([32, 2000, 3, 28, 28])\n"
          ],
          "name": "stdout"
        }
      ]
    },
    {
      "cell_type": "markdown",
      "metadata": {
        "id": "yavERUqNgzkm",
        "colab_type": "text"
      },
      "source": [
        "Computation Graphs and Automatic Differentiation\n",
        "---------------------------------------------\n",
        "\n",
        "A computation graph is a specification of what parameters with which operations are involved in the computation to give the output. \n",
        "\n",
        "The fundamental class of Pytorch <code>autograd.Variable</code> keeps track of how it was created.\n"
      ]
    },
    {
      "cell_type": "code",
      "metadata": {
        "id": "Ww29nO6Tgzkn",
        "colab_type": "code",
        "colab": {
          "base_uri": "https://localhost:8080/",
          "height": 87
        },
        "outputId": "086e0bc5-4a51-4107-e7e5-e2221c23e4de"
      },
      "source": [
        "# Variables wrap tensor objects\n",
        "x = autograd.Variable(torch.Tensor([1, 2, 3]), requires_grad=True)\n",
        "# You can access the data with the .data attribute\n",
        "print(x.data)\n",
        "\n",
        "y = autograd.Variable(torch.Tensor([4, 5, 6]), requires_grad=True)\n",
        "print(y.data)\n",
        "\n",
        "# With autograd.Variable you can also perform all the same operations you did with tensors\n",
        "z = x + y\n",
        "print(z.data)\n",
        "\n",
        "#  w knows also that it's result of addition of z lements (AddBackward)\n",
        "operation = z.grad_fn\n",
        "print(operation)\n"
      ],
      "execution_count": 10,
      "outputs": [
        {
          "output_type": "stream",
          "text": [
            "tensor([1., 2., 3.])\n",
            "tensor([4., 5., 6.])\n",
            "tensor([5., 7., 9.])\n",
            "<AddBackward0 object at 0x7f579daf6dd8>\n"
          ],
          "name": "stdout"
        }
      ]
    },
    {
      "cell_type": "markdown",
      "metadata": {
        "id": "J75jsu8Bgzks",
        "colab_type": "text"
      },
      "source": [
        "The autograd.Variable knows which operation has created it. But how does that help <b>compute a gradient</b>?"
      ]
    },
    {
      "cell_type": "code",
      "metadata": {
        "id": "Air_aJlEgzkt",
        "colab_type": "code",
        "colab": {
          "base_uri": "https://localhost:8080/",
          "height": 52
        },
        "outputId": "d4f7ab5f-dd46-4c90-c74d-5eea2031966b"
      },
      "source": [
        "# Lets sum up all the entries in z\n",
        "s = z.sum()\n",
        "print(s)\n",
        "print(s.grad_fn)"
      ],
      "execution_count": 11,
      "outputs": [
        {
          "output_type": "stream",
          "text": [
            "tensor(21., grad_fn=<SumBackward0>)\n",
            "<SumBackward0 object at 0x7f579daf6358>\n"
          ],
          "name": "stdout"
        }
      ]
    },
    {
      "cell_type": "markdown",
      "metadata": {
        "id": "aWBDnUuAgzkz",
        "colab_type": "text"
      },
      "source": [
        "Gradient\n",
        "-------\n",
        "So now, what is the derivative of this sum with respect to the first component of x? Remember, that x is a tensor of 3 elements: $x = (x_0, x_1, x_2)$\n",
        "\n",
        "In math, we want a partial derivative of $s$ with respect to $x_0$: $\\frac{\\partial s}{\\partial x_0}$\n",
        "\n",
        "Well, $s$ knows that it was created as a $sum$ of the tensor $z$ elements $(z_0, z_1, z_2)$. $z$ knows\n",
        "that it was the sum $x + y$. So\n",
        "\n",
        "\\begin{align}s = \\overbrace{x_0 + y_0}^\\text{$z_0$} + \\overbrace{x_1 + y_1}^\\text{$z_1$} + \\overbrace{x_2 + y_2}^\\text{$z_2$}\\end{align}\n",
        "\n",
        "And so $s$ contains enough information to determine that the derivative of $s$ with respect to $x_0$ is 1!\n",
        "\n",
        "*Reminder:* If you compute the partial derivative with respekt to one variable, you handle all other variables as constants. Therefore they all $(x_1, x_2, y_0, y_1, y_2)$ get zeroes, and the derivative of $f(x_0) = x_0$ is 1.\n",
        "\n"
      ]
    },
    {
      "cell_type": "markdown",
      "metadata": {
        "id": "HugEFDgHgzk1",
        "colab_type": "text"
      },
      "source": [
        "First we need to run <b>backpropagation</b> and calculate gradients with respect to every variable.\n",
        "*Note:* if you run <code>backward</code> multiple times, the gradient will increment.\n",
        "That is because Pytorch *accumulates* the gradient into the <b>.grad\n",
        "property</b>, since for many models this is very convenient.\n",
        "Lets now have Pytorch compute the gradient, and see that we were right with our guess of 1:"
      ]
    },
    {
      "cell_type": "code",
      "metadata": {
        "id": "jxcYSWLigzk2",
        "colab_type": "code",
        "colab": {}
      },
      "source": [
        "# calling .backward() on any variable will run backprop, starting from it.\n",
        "s.backward(retain_graph=True)"
      ],
      "execution_count": 12,
      "outputs": []
    },
    {
      "cell_type": "code",
      "metadata": {
        "id": "h_RRvL54gzk8",
        "colab_type": "code",
        "colab": {
          "base_uri": "https://localhost:8080/",
          "height": 69
        },
        "outputId": "30245c33-c336-4cf7-efce-33fa1a6f522d"
      },
      "source": [
        "print(x)\n",
        "print(x.grad)\n",
        "print(y.grad)"
      ],
      "execution_count": 13,
      "outputs": [
        {
          "output_type": "stream",
          "text": [
            "tensor([1., 2., 3.], requires_grad=True)\n",
            "tensor([1., 1., 1.])\n",
            "tensor([1., 1., 1.])\n"
          ],
          "name": "stdout"
        }
      ]
    },
    {
      "cell_type": "markdown",
      "metadata": {
        "id": "0gEHLl-agzlB",
        "colab_type": "text"
      },
      "source": [
        "How NOT to break the computational graph\n",
        "----------------------------------\n",
        "\n",
        "\n"
      ]
    },
    {
      "cell_type": "markdown",
      "metadata": {
        "id": "TzUXQsCngzlB",
        "colab_type": "text"
      },
      "source": [
        "Let's create two torch tensors and add them up:"
      ]
    },
    {
      "cell_type": "code",
      "metadata": {
        "id": "3njfFbRogzlC",
        "colab_type": "code",
        "colab": {
          "base_uri": "https://localhost:8080/",
          "height": 52
        },
        "outputId": "b1c04edb-a9b6-4b10-9ad2-df68ce90b99d"
      },
      "source": [
        "x = torch.randn((2, 2))\n",
        "y = torch.randn((2, 2))\n",
        "z = x + y  # These are Tensor types, and backprop would not be possible\n",
        "\n",
        "print(z)"
      ],
      "execution_count": 14,
      "outputs": [
        {
          "output_type": "stream",
          "text": [
            "tensor([[-0.8157,  1.5286],\n",
            "        [-1.1737, -0.5775]])\n"
          ],
          "name": "stdout"
        }
      ]
    },
    {
      "cell_type": "markdown",
      "metadata": {
        "id": "17Qe2KPMgzlG",
        "colab_type": "text"
      },
      "source": [
        "Now we wrap the torch tensors in <code>autograd.Variable</code>. The <code>var_z</code> contains the information for backpropagation:"
      ]
    },
    {
      "cell_type": "code",
      "metadata": {
        "id": "nDWBHF4RgzlG",
        "colab_type": "code",
        "colab": {
          "base_uri": "https://localhost:8080/",
          "height": 35
        },
        "outputId": "b52bfdeb-3425-410a-e3d6-aa39b617ae79"
      },
      "source": [
        "var_x = autograd.Variable(x, requires_grad=True)\n",
        "var_y = autograd.Variable(y, requires_grad=True)\n",
        "# var_z contains enough information to compute gradients, as we saw above\n",
        "var_z = var_x + var_y\n",
        "print(var_z.grad_fn)"
      ],
      "execution_count": 15,
      "outputs": [
        {
          "output_type": "stream",
          "text": [
            "<AddBackward0 object at 0x7f579daf6898>\n"
          ],
          "name": "stdout"
        }
      ]
    },
    {
      "cell_type": "markdown",
      "metadata": {
        "id": "tt9ZR06CgzlK",
        "colab_type": "text"
      },
      "source": [
        "But what happens if we extract the wrapped tensor object out of <code>var_z</code> and re-wrap the tensor in a new <code>autograd.Variable</code>?"
      ]
    },
    {
      "cell_type": "code",
      "metadata": {
        "id": "QvI64JYNgzlL",
        "colab_type": "code",
        "colab": {
          "base_uri": "https://localhost:8080/",
          "height": 35
        },
        "outputId": "67ddbad4-4e93-45a2-a7f7-51abe1bec77e"
      },
      "source": [
        "var_z_data = var_z.data\n",
        "new_var_z = autograd.Variable(var_z_data)\n",
        "print(new_var_z.grad_fn)"
      ],
      "execution_count": 16,
      "outputs": [
        {
          "output_type": "stream",
          "text": [
            "None\n"
          ],
          "name": "stdout"
        }
      ]
    },
    {
      "cell_type": "markdown",
      "metadata": {
        "id": "jbIeYAI_gzlN",
        "colab_type": "text"
      },
      "source": [
        "The variable chain is not existing anymore, since we have extracted only data and the whole operations chain was lost.\n",
        "If we try now to compute <code>backward</code> on <code>new_var_z</code>, it will throw an error:\n",
        "\n"
      ]
    },
    {
      "cell_type": "code",
      "metadata": {
        "id": "QVM86q_dgzlO",
        "colab_type": "code",
        "colab": {}
      },
      "source": [
        "new_var_z.backward(retain_graph=True)"
      ],
      "execution_count": null,
      "outputs": []
    },
    {
      "cell_type": "markdown",
      "metadata": {
        "id": "zjcPqRyEgzlS",
        "colab_type": "text"
      },
      "source": [
        "CUDA\n",
        "----\n",
        "Check wether GPU accelaration with **CUDA** is available"
      ]
    },
    {
      "cell_type": "code",
      "metadata": {
        "id": "Pfeo2oDOgzlT",
        "colab_type": "code",
        "colab": {}
      },
      "source": [
        "# let us run this cell only if CUDA is available\n",
        "if torch.cuda.is_available():\n",
        "    # creates a LongTensor and transfers it\n",
        "    # to GPU as torch.cuda.LongTensor\n",
        "    a = torch.LongTensor(10).fill_(3).cuda()\n",
        "    print(type(a))\n",
        "    b = a.cpu()\n",
        "    # transfers it to CPU, back to\n",
        "    # being a torch.LongTensor"
      ],
      "execution_count": 18,
      "outputs": []
    },
    {
      "cell_type": "markdown",
      "metadata": {
        "id": "0hnmRl_hgzlW",
        "colab_type": "text"
      },
      "source": [
        "Linear Model\n",
        "======="
      ]
    },
    {
      "cell_type": "code",
      "metadata": {
        "id": "VYuTgBfIgzlW",
        "colab_type": "code",
        "colab": {}
      },
      "source": [
        "import torch\n",
        "import torch.nn as nn\n",
        "from torch.autograd import Variable\n",
        "import numpy as np"
      ],
      "execution_count": 19,
      "outputs": []
    },
    {
      "cell_type": "code",
      "metadata": {
        "id": "Jk6zoQ-xgzlZ",
        "colab_type": "code",
        "colab": {
          "base_uri": "https://localhost:8080/",
          "height": 87
        },
        "outputId": "f84ffc5a-978c-4b6f-fe2a-b84d2bc0ca13"
      },
      "source": [
        "x = [i for i in range(20)] #list comprehention\n",
        "x_train = np.array(x, dtype=np.float32)\n",
        "x_train = x_train.reshape(-1, 1)\n",
        "print(x)\n",
        "print(x_train.shape)\n",
        "\n",
        "y = [(5*i + 2) for i in x] #list comprehention\n",
        "y_train = np.array(y, dtype=np.float32)\n",
        "y_train = y_train.reshape(-1, 1)\n",
        "print(y)\n",
        "print(y_train.shape)\n"
      ],
      "execution_count": 20,
      "outputs": [
        {
          "output_type": "stream",
          "text": [
            "[0, 1, 2, 3, 4, 5, 6, 7, 8, 9, 10, 11, 12, 13, 14, 15, 16, 17, 18, 19]\n",
            "(20, 1)\n",
            "[2, 7, 12, 17, 22, 27, 32, 37, 42, 47, 52, 57, 62, 67, 72, 77, 82, 87, 92, 97]\n",
            "(20, 1)\n"
          ],
          "name": "stdout"
        }
      ]
    },
    {
      "cell_type": "markdown",
      "metadata": {
        "id": "kpNaXmtLgzlc",
        "colab_type": "text"
      },
      "source": [
        "Create Model Class\n",
        "-----------------"
      ]
    },
    {
      "cell_type": "code",
      "metadata": {
        "id": "F_xiBwwOgzlc",
        "colab_type": "code",
        "colab": {
          "base_uri": "https://localhost:8080/",
          "height": 69
        },
        "outputId": "d43389c0-c281-4f2f-829f-68d707a85c8c"
      },
      "source": [
        "\n",
        "class LinearRegressor(nn.Module):\n",
        "    def __init__(self, input_dim, output_dim):\n",
        "        super(LinearRegressor, self).__init__()\n",
        "        self.linear = nn.Linear(input_dim, output_dim)  \n",
        "    \n",
        "    def forward(self, x):\n",
        "        out = self.linear(x)\n",
        "        return out\n",
        "\n",
        "input_dim = 1\n",
        "output_dim = 1\n",
        "\n",
        "model = LinearRegressor(input_dim, output_dim)\n",
        "\n",
        "model"
      ],
      "execution_count": 21,
      "outputs": [
        {
          "output_type": "execute_result",
          "data": {
            "text/plain": [
              "LinearRegressor(\n",
              "  (linear): Linear(in_features=1, out_features=1, bias=True)\n",
              ")"
            ]
          },
          "metadata": {
            "tags": []
          },
          "execution_count": 21
        }
      ]
    },
    {
      "cell_type": "markdown",
      "metadata": {
        "id": "aL1L_QI0gzlf",
        "colab_type": "text"
      },
      "source": [
        "Loss & Optimizer\n",
        "---------------"
      ]
    },
    {
      "cell_type": "code",
      "metadata": {
        "id": "XVr1pEwngzlf",
        "colab_type": "code",
        "colab": {
          "base_uri": "https://localhost:8080/",
          "height": 35
        },
        "outputId": "720c8a53-a156-40d6-df0d-225aab6fd429"
      },
      "source": [
        "loss_function = nn.MSELoss()\n",
        "\n",
        "\n",
        "optimizer = torch.optim.SGD(model.parameters(), lr=0.001)\n",
        "optimizer\n",
        "loss_function"
      ],
      "execution_count": 22,
      "outputs": [
        {
          "output_type": "execute_result",
          "data": {
            "text/plain": [
              "MSELoss()"
            ]
          },
          "metadata": {
            "tags": []
          },
          "execution_count": 22
        }
      ]
    },
    {
      "cell_type": "code",
      "metadata": {
        "id": "aa0ptsSygzlh",
        "colab_type": "code",
        "colab": {
          "base_uri": "https://localhost:8080/",
          "height": 1000
        },
        "outputId": "6ae46564-f92e-45b3-a9f1-ca6fd0960a47"
      },
      "source": [
        "epochs = 500\n",
        "\n",
        "for epoch in range(epochs):\n",
        "    epoch += 1\n",
        "    #Convert inputs and outputs to torch variable\n",
        "    inputs = Variable(torch.from_numpy(x_train))\n",
        "    \n",
        "    real_outputs = Variable(torch.from_numpy(y_train))\n",
        "    \n",
        "    # Reset Gradients\n",
        "    optimizer.zero_grad()\n",
        "    \n",
        "    # Forward - compute the output\n",
        "    pred_outputs = model(inputs)\n",
        "    \n",
        "    # Loss\n",
        "    loss = loss_function(pred_outputs, real_outputs)\n",
        "    \n",
        "    # Backword - compute gradients\n",
        "    loss.backward()\n",
        "    \n",
        "    # Update parameters\n",
        "    optimizer.step()\n",
        "    \n",
        "    print('epoch {}, loss {}'.format(epoch, loss.data.item()))"
      ],
      "execution_count": 23,
      "outputs": [
        {
          "output_type": "stream",
          "text": [
            "epoch 1, loss 4579.2646484375\n",
            "epoch 2, loss 2587.138916015625\n",
            "epoch 3, loss 1461.974853515625\n",
            "epoch 4, loss 826.4758911132812\n",
            "epoch 5, loss 467.54180908203125\n",
            "epoch 6, loss 264.8131408691406\n",
            "epoch 7, loss 150.31016540527344\n",
            "epoch 8, loss 85.63738250732422\n",
            "epoch 9, loss 49.10915756225586\n",
            "epoch 10, loss 28.47702407836914\n",
            "epoch 11, loss 16.82305908203125\n",
            "epoch 12, loss 10.240060806274414\n",
            "epoch 13, loss 6.521176815032959\n",
            "epoch 14, loss 4.419922828674316\n",
            "epoch 15, loss 3.2323436737060547\n",
            "epoch 16, loss 2.5607943534851074\n",
            "epoch 17, loss 2.180717706680298\n",
            "epoch 18, loss 1.9652591943740845\n",
            "epoch 19, loss 1.8427871465682983\n",
            "epoch 20, loss 1.7728275060653687\n",
            "epoch 21, loss 1.7325302362442017\n",
            "epoch 22, loss 1.7089885473251343\n",
            "epoch 23, loss 1.6949090957641602\n",
            "epoch 24, loss 1.686174988746643\n",
            "epoch 25, loss 1.6804649829864502\n",
            "epoch 26, loss 1.6764583587646484\n",
            "epoch 27, loss 1.6734176874160767\n",
            "epoch 28, loss 1.6709190607070923\n",
            "epoch 29, loss 1.6687345504760742\n",
            "epoch 30, loss 1.6667261123657227\n",
            "epoch 31, loss 1.6648139953613281\n",
            "epoch 32, loss 1.6629581451416016\n",
            "epoch 33, loss 1.6611394882202148\n",
            "epoch 34, loss 1.6593387126922607\n",
            "epoch 35, loss 1.6575483083724976\n",
            "epoch 36, loss 1.6557676792144775\n",
            "epoch 37, loss 1.6539922952651978\n",
            "epoch 38, loss 1.6522185802459717\n",
            "epoch 39, loss 1.6504520177841187\n",
            "epoch 40, loss 1.648685097694397\n",
            "epoch 41, loss 1.6469157934188843\n",
            "epoch 42, loss 1.6451551914215088\n",
            "epoch 43, loss 1.6433948278427124\n",
            "epoch 44, loss 1.6416345834732056\n",
            "epoch 45, loss 1.6398767232894897\n",
            "epoch 46, loss 1.6381244659423828\n",
            "epoch 47, loss 1.6363694667816162\n",
            "epoch 48, loss 1.6346180438995361\n",
            "epoch 49, loss 1.6328699588775635\n",
            "epoch 50, loss 1.6311194896697998\n",
            "epoch 51, loss 1.6293752193450928\n",
            "epoch 52, loss 1.6276317834854126\n",
            "epoch 53, loss 1.6258881092071533\n",
            "epoch 54, loss 1.6241506338119507\n",
            "epoch 55, loss 1.6224114894866943\n",
            "epoch 56, loss 1.6206731796264648\n",
            "epoch 57, loss 1.6189380884170532\n",
            "epoch 58, loss 1.6172058582305908\n",
            "epoch 59, loss 1.6154744625091553\n",
            "epoch 60, loss 1.6137462854385376\n",
            "epoch 61, loss 1.6120208501815796\n",
            "epoch 62, loss 1.6102964878082275\n",
            "epoch 63, loss 1.6085695028305054\n",
            "epoch 64, loss 1.606850266456604\n",
            "epoch 65, loss 1.6051294803619385\n",
            "epoch 66, loss 1.6034139394760132\n",
            "epoch 67, loss 1.6016960144042969\n",
            "epoch 68, loss 1.5999808311462402\n",
            "epoch 69, loss 1.5982694625854492\n",
            "epoch 70, loss 1.596558928489685\n",
            "epoch 71, loss 1.5948512554168701\n",
            "epoch 72, loss 1.593140959739685\n",
            "epoch 73, loss 1.5914371013641357\n",
            "epoch 74, loss 1.5897353887557983\n",
            "epoch 75, loss 1.5880327224731445\n",
            "epoch 76, loss 1.58633553981781\n",
            "epoch 77, loss 1.584635615348816\n",
            "epoch 78, loss 1.5829401016235352\n",
            "epoch 79, loss 1.5812450647354126\n",
            "epoch 80, loss 1.579551339149475\n",
            "epoch 81, loss 1.5778619050979614\n",
            "epoch 82, loss 1.5761734247207642\n",
            "epoch 83, loss 1.574486255645752\n",
            "epoch 84, loss 1.5727999210357666\n",
            "epoch 85, loss 1.571118712425232\n",
            "epoch 86, loss 1.5694388151168823\n",
            "epoch 87, loss 1.567756175994873\n",
            "epoch 88, loss 1.566077709197998\n",
            "epoch 89, loss 1.5644011497497559\n",
            "epoch 90, loss 1.5627304315567017\n",
            "epoch 91, loss 1.5610573291778564\n",
            "epoch 92, loss 1.559386968612671\n",
            "epoch 93, loss 1.5577147006988525\n",
            "epoch 94, loss 1.5560483932495117\n",
            "epoch 95, loss 1.5543838739395142\n",
            "epoch 96, loss 1.5527180433273315\n",
            "epoch 97, loss 1.5510579347610474\n",
            "epoch 98, loss 1.5493967533111572\n",
            "epoch 99, loss 1.547741174697876\n",
            "epoch 100, loss 1.546082854270935\n",
            "epoch 101, loss 1.5444281101226807\n",
            "epoch 102, loss 1.5427757501602173\n",
            "epoch 103, loss 1.541123867034912\n",
            "epoch 104, loss 1.5394752025604248\n",
            "epoch 105, loss 1.5378285646438599\n",
            "epoch 106, loss 1.536179780960083\n",
            "epoch 107, loss 1.534536361694336\n",
            "epoch 108, loss 1.5328923463821411\n",
            "epoch 109, loss 1.5312540531158447\n",
            "epoch 110, loss 1.5296144485473633\n",
            "epoch 111, loss 1.5279762744903564\n",
            "epoch 112, loss 1.5263444185256958\n",
            "epoch 113, loss 1.5247106552124023\n",
            "epoch 114, loss 1.5230789184570312\n",
            "epoch 115, loss 1.5214451551437378\n",
            "epoch 116, loss 1.5198177099227905\n",
            "epoch 117, loss 1.5181912183761597\n",
            "epoch 118, loss 1.516565203666687\n",
            "epoch 119, loss 1.5149441957473755\n",
            "epoch 120, loss 1.5133209228515625\n",
            "epoch 121, loss 1.5117031335830688\n",
            "epoch 122, loss 1.5100847482681274\n",
            "epoch 123, loss 1.5084683895111084\n",
            "epoch 124, loss 1.5068531036376953\n",
            "epoch 125, loss 1.505240797996521\n",
            "epoch 126, loss 1.5036303997039795\n",
            "epoch 127, loss 1.502020239830017\n",
            "epoch 128, loss 1.500414252281189\n",
            "epoch 129, loss 1.498806357383728\n",
            "epoch 130, loss 1.4972034692764282\n",
            "epoch 131, loss 1.4955991506576538\n",
            "epoch 132, loss 1.4940011501312256\n",
            "epoch 133, loss 1.492401361465454\n",
            "epoch 134, loss 1.4908039569854736\n",
            "epoch 135, loss 1.4892076253890991\n",
            "epoch 136, loss 1.4876139163970947\n",
            "epoch 137, loss 1.4860217571258545\n",
            "epoch 138, loss 1.484431505203247\n",
            "epoch 139, loss 1.4828442335128784\n",
            "epoch 140, loss 1.4812544584274292\n",
            "epoch 141, loss 1.479670763015747\n",
            "epoch 142, loss 1.4780851602554321\n",
            "epoch 143, loss 1.4765052795410156\n",
            "epoch 144, loss 1.4749256372451782\n",
            "epoch 145, loss 1.4733449220657349\n",
            "epoch 146, loss 1.4717676639556885\n",
            "epoch 147, loss 1.4701958894729614\n",
            "epoch 148, loss 1.4686187505722046\n",
            "epoch 149, loss 1.467047095298767\n",
            "epoch 150, loss 1.4654783010482788\n",
            "epoch 151, loss 1.4639098644256592\n",
            "epoch 152, loss 1.462341070175171\n",
            "epoch 153, loss 1.4607778787612915\n",
            "epoch 154, loss 1.4592134952545166\n",
            "epoch 155, loss 1.4576538801193237\n",
            "epoch 156, loss 1.4560922384262085\n",
            "epoch 157, loss 1.454534649848938\n",
            "epoch 158, loss 1.4529774188995361\n",
            "epoch 159, loss 1.4514224529266357\n",
            "epoch 160, loss 1.4498693943023682\n",
            "epoch 161, loss 1.4483177661895752\n",
            "epoch 162, loss 1.4467682838439941\n",
            "epoch 163, loss 1.4452186822891235\n",
            "epoch 164, loss 1.4436724185943604\n",
            "epoch 165, loss 1.4421249628067017\n",
            "epoch 166, loss 1.4405845403671265\n",
            "epoch 167, loss 1.4390407800674438\n",
            "epoch 168, loss 1.437501311302185\n",
            "epoch 169, loss 1.4359607696533203\n",
            "epoch 170, loss 1.4344249963760376\n",
            "epoch 171, loss 1.4328901767730713\n",
            "epoch 172, loss 1.4313571453094482\n",
            "epoch 173, loss 1.4298248291015625\n",
            "epoch 174, loss 1.4282960891723633\n",
            "epoch 175, loss 1.4267656803131104\n",
            "epoch 176, loss 1.4252398014068604\n",
            "epoch 177, loss 1.4237134456634521\n",
            "epoch 178, loss 1.4221879243850708\n",
            "epoch 179, loss 1.420668601989746\n",
            "epoch 180, loss 1.4191471338272095\n",
            "epoch 181, loss 1.4176284074783325\n",
            "epoch 182, loss 1.4161102771759033\n",
            "epoch 183, loss 1.4145952463150024\n",
            "epoch 184, loss 1.413082480430603\n",
            "epoch 185, loss 1.411566972732544\n",
            "epoch 186, loss 1.4100583791732788\n",
            "epoch 187, loss 1.40855073928833\n",
            "epoch 188, loss 1.4070411920547485\n",
            "epoch 189, loss 1.405534029006958\n",
            "epoch 190, loss 1.4040312767028809\n",
            "epoch 191, loss 1.4025280475616455\n",
            "epoch 192, loss 1.401026725769043\n",
            "epoch 193, loss 1.3995270729064941\n",
            "epoch 194, loss 1.3980296850204468\n",
            "epoch 195, loss 1.3965339660644531\n",
            "epoch 196, loss 1.3950392007827759\n",
            "epoch 197, loss 1.3935471773147583\n",
            "epoch 198, loss 1.3920544385910034\n",
            "epoch 199, loss 1.3905655145645142\n",
            "epoch 200, loss 1.3890761137008667\n",
            "epoch 201, loss 1.3875908851623535\n",
            "epoch 202, loss 1.3861043453216553\n",
            "epoch 203, loss 1.3846204280853271\n",
            "epoch 204, loss 1.3831393718719482\n",
            "epoch 205, loss 1.381658911705017\n",
            "epoch 206, loss 1.380179762840271\n",
            "epoch 207, loss 1.37870192527771\n",
            "epoch 208, loss 1.3772284984588623\n",
            "epoch 209, loss 1.3757519721984863\n",
            "epoch 210, loss 1.3742799758911133\n",
            "epoch 211, loss 1.3728080987930298\n",
            "epoch 212, loss 1.371340036392212\n",
            "epoch 213, loss 1.3698718547821045\n",
            "epoch 214, loss 1.368408441543579\n",
            "epoch 215, loss 1.3669432401657104\n",
            "epoch 216, loss 1.3654792308807373\n",
            "epoch 217, loss 1.364017367362976\n",
            "epoch 218, loss 1.3625588417053223\n",
            "epoch 219, loss 1.3611007928848267\n",
            "epoch 220, loss 1.3596407175064087\n",
            "epoch 221, loss 1.3581868410110474\n",
            "epoch 222, loss 1.356735348701477\n",
            "epoch 223, loss 1.3552812337875366\n",
            "epoch 224, loss 1.353829026222229\n",
            "epoch 225, loss 1.3523815870285034\n",
            "epoch 226, loss 1.350934386253357\n",
            "epoch 227, loss 1.349488615989685\n",
            "epoch 228, loss 1.3480432033538818\n",
            "epoch 229, loss 1.3466002941131592\n",
            "epoch 230, loss 1.3451602458953857\n",
            "epoch 231, loss 1.3437200784683228\n",
            "epoch 232, loss 1.3422833681106567\n",
            "epoch 233, loss 1.3408437967300415\n",
            "epoch 234, loss 1.339410424232483\n",
            "epoch 235, loss 1.337975263595581\n",
            "epoch 236, loss 1.336545705795288\n",
            "epoch 237, loss 1.3351142406463623\n",
            "epoch 238, loss 1.333683729171753\n",
            "epoch 239, loss 1.3322598934173584\n",
            "epoch 240, loss 1.3308336734771729\n",
            "epoch 241, loss 1.3294093608856201\n",
            "epoch 242, loss 1.3279869556427002\n",
            "epoch 243, loss 1.3265630006790161\n",
            "epoch 244, loss 1.3251445293426514\n",
            "epoch 245, loss 1.3237261772155762\n",
            "epoch 246, loss 1.32230806350708\n",
            "epoch 247, loss 1.3208942413330078\n",
            "epoch 248, loss 1.319480061531067\n",
            "epoch 249, loss 1.3180698156356812\n",
            "epoch 250, loss 1.316657304763794\n",
            "epoch 251, loss 1.315247654914856\n",
            "epoch 252, loss 1.3138397932052612\n",
            "epoch 253, loss 1.3124336004257202\n",
            "epoch 254, loss 1.311029076576233\n",
            "epoch 255, loss 1.3096271753311157\n",
            "epoch 256, loss 1.308223009109497\n",
            "epoch 257, loss 1.3068242073059082\n",
            "epoch 258, loss 1.3054264783859253\n",
            "epoch 259, loss 1.3040282726287842\n",
            "epoch 260, loss 1.302634358406067\n",
            "epoch 261, loss 1.3012386560440063\n",
            "epoch 262, loss 1.2998460531234741\n",
            "epoch 263, loss 1.2984535694122314\n",
            "epoch 264, loss 1.297062873840332\n",
            "epoch 265, loss 1.2956748008728027\n",
            "epoch 266, loss 1.2942886352539062\n",
            "epoch 267, loss 1.2929044961929321\n",
            "epoch 268, loss 1.2915208339691162\n",
            "epoch 269, loss 1.29013991355896\n",
            "epoch 270, loss 1.288757562637329\n",
            "epoch 271, loss 1.287379264831543\n",
            "epoch 272, loss 1.2860006093978882\n",
            "epoch 273, loss 1.2846224308013916\n",
            "epoch 274, loss 1.2832502126693726\n",
            "epoch 275, loss 1.2818762063980103\n",
            "epoch 276, loss 1.2805031538009644\n",
            "epoch 277, loss 1.2791327238082886\n",
            "epoch 278, loss 1.2777636051177979\n",
            "epoch 279, loss 1.276397943496704\n",
            "epoch 280, loss 1.2750322818756104\n",
            "epoch 281, loss 1.2736659049987793\n",
            "epoch 282, loss 1.2723026275634766\n",
            "epoch 283, loss 1.270939588546753\n",
            "epoch 284, loss 1.2695821523666382\n",
            "epoch 285, loss 1.2682222127914429\n",
            "epoch 286, loss 1.2668626308441162\n",
            "epoch 287, loss 1.2655102014541626\n",
            "epoch 288, loss 1.2641558647155762\n",
            "epoch 289, loss 1.2628026008605957\n",
            "epoch 290, loss 1.2614505290985107\n",
            "epoch 291, loss 1.2601008415222168\n",
            "epoch 292, loss 1.2587493658065796\n",
            "epoch 293, loss 1.2574039697647095\n",
            "epoch 294, loss 1.256059169769287\n",
            "epoch 295, loss 1.2547128200531006\n",
            "epoch 296, loss 1.2533715963363647\n",
            "epoch 297, loss 1.2520289421081543\n",
            "epoch 298, loss 1.2506877183914185\n",
            "epoch 299, loss 1.2493518590927124\n",
            "epoch 300, loss 1.2480145692825317\n",
            "epoch 301, loss 1.2466785907745361\n",
            "epoch 302, loss 1.2453441619873047\n",
            "epoch 303, loss 1.2440118789672852\n",
            "epoch 304, loss 1.2426775693893433\n",
            "epoch 305, loss 1.2413489818572998\n",
            "epoch 306, loss 1.2400208711624146\n",
            "epoch 307, loss 1.2386913299560547\n",
            "epoch 308, loss 1.237366795539856\n",
            "epoch 309, loss 1.2360419034957886\n",
            "epoch 310, loss 1.2347217798233032\n",
            "epoch 311, loss 1.2333983182907104\n",
            "epoch 312, loss 1.2320787906646729\n",
            "epoch 313, loss 1.2307597398757935\n",
            "epoch 314, loss 1.2294423580169678\n",
            "epoch 315, loss 1.2281270027160645\n",
            "epoch 316, loss 1.2268123626708984\n",
            "epoch 317, loss 1.2255007028579712\n",
            "epoch 318, loss 1.2241863012313843\n",
            "epoch 319, loss 1.2228773832321167\n",
            "epoch 320, loss 1.2215702533721924\n",
            "epoch 321, loss 1.2202608585357666\n",
            "epoch 322, loss 1.2189539670944214\n",
            "epoch 323, loss 1.217652440071106\n",
            "epoch 324, loss 1.216347336769104\n",
            "epoch 325, loss 1.2150452136993408\n",
            "epoch 326, loss 1.2137449979782104\n",
            "epoch 327, loss 1.2124459743499756\n",
            "epoch 328, loss 1.2111485004425049\n",
            "epoch 329, loss 1.209852933883667\n",
            "epoch 330, loss 1.2085553407669067\n",
            "epoch 331, loss 1.2072639465332031\n",
            "epoch 332, loss 1.2059731483459473\n",
            "epoch 333, loss 1.204681158065796\n",
            "epoch 334, loss 1.2033929824829102\n",
            "epoch 335, loss 1.2021042108535767\n",
            "epoch 336, loss 1.2008171081542969\n",
            "epoch 337, loss 1.1995307207107544\n",
            "epoch 338, loss 1.1982470750808716\n",
            "epoch 339, loss 1.196964144706726\n",
            "epoch 340, loss 1.1956835985183716\n",
            "epoch 341, loss 1.1944040060043335\n",
            "epoch 342, loss 1.1931259632110596\n",
            "epoch 343, loss 1.1918506622314453\n",
            "epoch 344, loss 1.1905720233917236\n",
            "epoch 345, loss 1.1892999410629272\n",
            "epoch 346, loss 1.1880249977111816\n",
            "epoch 347, loss 1.1867555379867554\n",
            "epoch 348, loss 1.1854848861694336\n",
            "epoch 349, loss 1.184215784072876\n",
            "epoch 350, loss 1.1829473972320557\n",
            "epoch 351, loss 1.181681752204895\n",
            "epoch 352, loss 1.180416464805603\n",
            "epoch 353, loss 1.1791528463363647\n",
            "epoch 354, loss 1.1778924465179443\n",
            "epoch 355, loss 1.1766316890716553\n",
            "epoch 356, loss 1.1753737926483154\n",
            "epoch 357, loss 1.1741148233413696\n",
            "epoch 358, loss 1.1728588342666626\n",
            "epoch 359, loss 1.1716022491455078\n",
            "epoch 360, loss 1.1703474521636963\n",
            "epoch 361, loss 1.1690969467163086\n",
            "epoch 362, loss 1.167844295501709\n",
            "epoch 363, loss 1.166595220565796\n",
            "epoch 364, loss 1.165346622467041\n",
            "epoch 365, loss 1.1640989780426025\n",
            "epoch 366, loss 1.1628527641296387\n",
            "epoch 367, loss 1.1616098880767822\n",
            "epoch 368, loss 1.1603641510009766\n",
            "epoch 369, loss 1.1591228246688843\n",
            "epoch 370, loss 1.1578835248947144\n",
            "epoch 371, loss 1.1566435098648071\n",
            "epoch 372, loss 1.1554064750671387\n",
            "epoch 373, loss 1.154168725013733\n",
            "epoch 374, loss 1.1529337167739868\n",
            "epoch 375, loss 1.151698350906372\n",
            "epoch 376, loss 1.1504682302474976\n",
            "epoch 377, loss 1.1492369174957275\n",
            "epoch 378, loss 1.1480072736740112\n",
            "epoch 379, loss 1.146775484085083\n",
            "epoch 380, loss 1.1455497741699219\n",
            "epoch 381, loss 1.1443229913711548\n",
            "epoch 382, loss 1.1431000232696533\n",
            "epoch 383, loss 1.1418750286102295\n",
            "epoch 384, loss 1.1406540870666504\n",
            "epoch 385, loss 1.1394331455230713\n",
            "epoch 386, loss 1.1382114887237549\n",
            "epoch 387, loss 1.136995792388916\n",
            "epoch 388, loss 1.135777473449707\n",
            "epoch 389, loss 1.1345617771148682\n",
            "epoch 390, loss 1.1333472728729248\n",
            "epoch 391, loss 1.1321344375610352\n",
            "epoch 392, loss 1.1309229135513306\n",
            "epoch 393, loss 1.129714012145996\n",
            "epoch 394, loss 1.1285028457641602\n",
            "epoch 395, loss 1.127295732498169\n",
            "epoch 396, loss 1.1260902881622314\n",
            "epoch 397, loss 1.1248838901519775\n",
            "epoch 398, loss 1.12367844581604\n",
            "epoch 399, loss 1.122478723526001\n",
            "epoch 400, loss 1.1212762594223022\n",
            "epoch 401, loss 1.1200755834579468\n",
            "epoch 402, loss 1.1188762187957764\n",
            "epoch 403, loss 1.1176784038543701\n",
            "epoch 404, loss 1.116482138633728\n",
            "epoch 405, loss 1.1152881383895874\n",
            "epoch 406, loss 1.1140944957733154\n",
            "epoch 407, loss 1.112903356552124\n",
            "epoch 408, loss 1.1117101907730103\n",
            "epoch 409, loss 1.1105213165283203\n",
            "epoch 410, loss 1.109331727027893\n",
            "epoch 411, loss 1.1081454753875732\n",
            "epoch 412, loss 1.106959581375122\n",
            "epoch 413, loss 1.1057730913162231\n",
            "epoch 414, loss 1.1045928001403809\n",
            "epoch 415, loss 1.103410005569458\n",
            "epoch 416, loss 1.1022289991378784\n",
            "epoch 417, loss 1.1010496616363525\n",
            "epoch 418, loss 1.099871039390564\n",
            "epoch 419, loss 1.0986918210983276\n",
            "epoch 420, loss 1.0975173711776733\n",
            "epoch 421, loss 1.0963423252105713\n",
            "epoch 422, loss 1.0951673984527588\n",
            "epoch 423, loss 1.0939970016479492\n",
            "epoch 424, loss 1.0928243398666382\n",
            "epoch 425, loss 1.0916569232940674\n",
            "epoch 426, loss 1.0904872417449951\n",
            "epoch 427, loss 1.0893211364746094\n",
            "epoch 428, loss 1.088154911994934\n",
            "epoch 429, loss 1.086989402770996\n",
            "epoch 430, loss 1.0858256816864014\n",
            "epoch 431, loss 1.084664225578308\n",
            "epoch 432, loss 1.0835031270980835\n",
            "epoch 433, loss 1.0823447704315186\n",
            "epoch 434, loss 1.0811843872070312\n",
            "epoch 435, loss 1.0800286531448364\n",
            "epoch 436, loss 1.078873872756958\n",
            "epoch 437, loss 1.0777171850204468\n",
            "epoch 438, loss 1.0765630006790161\n",
            "epoch 439, loss 1.0754128694534302\n",
            "epoch 440, loss 1.0742616653442383\n",
            "epoch 441, loss 1.0731110572814941\n",
            "epoch 442, loss 1.071962833404541\n",
            "epoch 443, loss 1.0708155632019043\n",
            "epoch 444, loss 1.0696691274642944\n",
            "epoch 445, loss 1.068524956703186\n",
            "epoch 446, loss 1.0673820972442627\n",
            "epoch 447, loss 1.0662370920181274\n",
            "epoch 448, loss 1.0650970935821533\n",
            "epoch 449, loss 1.0639588832855225\n",
            "epoch 450, loss 1.0628186464309692\n",
            "epoch 451, loss 1.0616800785064697\n",
            "epoch 452, loss 1.060545563697815\n",
            "epoch 453, loss 1.0594098567962646\n",
            "epoch 454, loss 1.0582764148712158\n",
            "epoch 455, loss 1.0571428537368774\n",
            "epoch 456, loss 1.0560102462768555\n",
            "epoch 457, loss 1.0548814535140991\n",
            "epoch 458, loss 1.0537525415420532\n",
            "epoch 459, loss 1.0526241064071655\n",
            "epoch 460, loss 1.0514994859695435\n",
            "epoch 461, loss 1.0503716468811035\n",
            "epoch 462, loss 1.0492489337921143\n",
            "epoch 463, loss 1.0481246709823608\n",
            "epoch 464, loss 1.047004222869873\n",
            "epoch 465, loss 1.0458827018737793\n",
            "epoch 466, loss 1.0447626113891602\n",
            "epoch 467, loss 1.0436469316482544\n",
            "epoch 468, loss 1.042528510093689\n",
            "epoch 469, loss 1.0414131879806519\n",
            "epoch 470, loss 1.040298342704773\n",
            "epoch 471, loss 1.039185643196106\n",
            "epoch 472, loss 1.038074254989624\n",
            "epoch 473, loss 1.036960244178772\n",
            "epoch 474, loss 1.0358517169952393\n",
            "epoch 475, loss 1.034744381904602\n",
            "epoch 476, loss 1.033634901046753\n",
            "epoch 477, loss 1.0325300693511963\n",
            "epoch 478, loss 1.031423807144165\n",
            "epoch 479, loss 1.0303188562393188\n",
            "epoch 480, loss 1.0292186737060547\n",
            "epoch 481, loss 1.0281156301498413\n",
            "epoch 482, loss 1.0270150899887085\n",
            "epoch 483, loss 1.0259158611297607\n",
            "epoch 484, loss 1.0248181819915771\n",
            "epoch 485, loss 1.02372145652771\n",
            "epoch 486, loss 1.0226274728775024\n",
            "epoch 487, loss 1.0215299129486084\n",
            "epoch 488, loss 1.0204378366470337\n",
            "epoch 489, loss 1.0193474292755127\n",
            "epoch 490, loss 1.018254280090332\n",
            "epoch 491, loss 1.0171663761138916\n",
            "epoch 492, loss 1.0160759687423706\n",
            "epoch 493, loss 1.0149890184402466\n",
            "epoch 494, loss 1.013900876045227\n",
            "epoch 495, loss 1.0128190517425537\n",
            "epoch 496, loss 1.0117342472076416\n",
            "epoch 497, loss 1.0106518268585205\n",
            "epoch 498, loss 1.0095694065093994\n",
            "epoch 499, loss 1.008489727973938\n",
            "epoch 500, loss 1.0074079036712646\n"
          ],
          "name": "stdout"
        }
      ]
    },
    {
      "cell_type": "code",
      "metadata": {
        "id": "lGJlpQcS2TQS",
        "colab_type": "code",
        "colab": {}
      },
      "source": [
        ""
      ],
      "execution_count": null,
      "outputs": []
    },
    {
      "cell_type": "code",
      "metadata": {
        "id": "6ZR6Mg6Q2TmH",
        "colab_type": "code",
        "colab": {}
      },
      "source": [
        ""
      ],
      "execution_count": null,
      "outputs": []
    }
  ]
}